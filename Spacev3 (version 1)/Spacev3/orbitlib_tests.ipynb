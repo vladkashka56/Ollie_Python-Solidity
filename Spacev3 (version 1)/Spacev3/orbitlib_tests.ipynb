{
 "cells": [
  {
   "cell_type": "markdown",
   "metadata": {
    "id": "MmjvN9kl8eAh"
   },
   "source": [
    "<font size=40 color='red'>TEST CASES</font>\n",
    "\n",
    "\n",
    "\n",
    "A number of tests based on actuall observations. Error calculations\n",
    "\n",
    "_software by Grzegorz Wiktorowicz (gwiktoro@gmail.com)_"
   ]
  },
  {
   "cell_type": "code",
   "execution_count": 1,
   "metadata": {
    "ExecuteTime": {
     "end_time": "2021-12-27T15:28:56.275465Z",
     "start_time": "2021-12-27T15:28:55.931783Z"
    },
    "colab": {
     "base_uri": "https://localhost:8080/"
    },
    "id": "WpJrHh1YkUtF",
    "outputId": "cb715272-0cb2-4563-b453-67e317a8c195"
   },
   "outputs": [],
   "source": [
    "# change path to the folder where orbitlib.py is located (not needed if it's the current workign directory)\n",
    "# %cd /content/drive/MyDrive/work/Oliver\n",
    "import orbitlib as ol\n",
    "\n",
    "import numpy as np\n",
    "from datetime import datetime, timedelta\n",
    "import matplotlib.pyplot as plt\n",
    "import plotly.express as px\n",
    "import plotly.graph_objects as go\n",
    "from collections import defaultdict\n",
    "import pandas as pd\n",
    "\n",
    "from importlib import reload  # TESTING"
   ]
  },
  {
   "cell_type": "code",
   "execution_count": null,
   "metadata": {
    "id": "Cq_Ga76HiZGI"
   },
   "outputs": [],
   "source": []
  },
  {
   "cell_type": "code",
   "execution_count": null,
   "metadata": {
    "id": "KiexPC3d07an"
   },
   "outputs": [],
   "source": []
  },
  {
   "cell_type": "markdown",
   "metadata": {
    "id": "j9BMjtgU07eX"
   },
   "source": [
    "# Setting up the Solar System"
   ]
  },
  {
   "cell_type": "code",
   "execution_count": 2,
   "metadata": {
    "ExecuteTime": {
     "end_time": "2021-12-27T15:28:56.309286Z",
     "start_time": "2021-12-27T15:28:56.276534Z"
    },
    "colab": {
     "base_uri": "https://localhost:8080/",
     "height": 332
    },
    "id": "4Ra7llnT8SuM",
    "outputId": "f351d1a0-ef79-4109-81f8-e3b859fda7d1"
   },
   "outputs": [
    {
     "data": {
      "text/html": [
       "<div>\n",
       "<style scoped>\n",
       "    .dataframe tbody tr th:only-of-type {\n",
       "        vertical-align: middle;\n",
       "    }\n",
       "\n",
       "    .dataframe tbody tr th {\n",
       "        vertical-align: top;\n",
       "    }\n",
       "\n",
       "    .dataframe thead th {\n",
       "        text-align: right;\n",
       "    }\n",
       "</style>\n",
       "<table border=\"1\" class=\"dataframe\">\n",
       "  <thead>\n",
       "    <tr style=\"text-align: right;\">\n",
       "      <th></th>\n",
       "      <th>a</th>\n",
       "      <th>e</th>\n",
       "      <th>T</th>\n",
       "      <th>I</th>\n",
       "      <th>Omega</th>\n",
       "      <th>omega_bar</th>\n",
       "      <th>L</th>\n",
       "      <th>omega</th>\n",
       "      <th>M</th>\n",
       "    </tr>\n",
       "  </thead>\n",
       "  <tbody>\n",
       "    <tr>\n",
       "      <th>Mercury</th>\n",
       "      <td>0.387099</td>\n",
       "      <td>0.205631</td>\n",
       "      <td>7.600654e+06</td>\n",
       "      <td>1.222580e-01</td>\n",
       "      <td>0.843547</td>\n",
       "      <td>1.351870</td>\n",
       "      <td>4.402608</td>\n",
       "      <td>0.508323</td>\n",
       "      <td>3.050738</td>\n",
       "    </tr>\n",
       "    <tr>\n",
       "      <th>Venus</th>\n",
       "      <td>0.723332</td>\n",
       "      <td>0.006773</td>\n",
       "      <td>1.940826e+07</td>\n",
       "      <td>5.924887e-02</td>\n",
       "      <td>1.338331</td>\n",
       "      <td>2.295684</td>\n",
       "      <td>3.176145</td>\n",
       "      <td>0.957353</td>\n",
       "      <td>0.880462</td>\n",
       "    </tr>\n",
       "    <tr>\n",
       "      <th>Earth</th>\n",
       "      <td>1.000000</td>\n",
       "      <td>0.016710</td>\n",
       "      <td>3.155815e+07</td>\n",
       "      <td>8.726646e-07</td>\n",
       "      <td>0.000000</td>\n",
       "      <td>1.796767</td>\n",
       "      <td>1.753434</td>\n",
       "      <td>1.796767</td>\n",
       "      <td>-0.043334</td>\n",
       "    </tr>\n",
       "    <tr>\n",
       "      <th>Mars</th>\n",
       "      <td>1.523662</td>\n",
       "      <td>0.093412</td>\n",
       "      <td>5.936088e+07</td>\n",
       "      <td>3.229924e-02</td>\n",
       "      <td>0.865309</td>\n",
       "      <td>5.865019</td>\n",
       "      <td>6.203831</td>\n",
       "      <td>4.999710</td>\n",
       "      <td>0.338812</td>\n",
       "    </tr>\n",
       "    <tr>\n",
       "      <th>Jupiter</th>\n",
       "      <td>5.203363</td>\n",
       "      <td>0.048393</td>\n",
       "      <td>3.742797e+08</td>\n",
       "      <td>2.278178e-02</td>\n",
       "      <td>1.755036</td>\n",
       "      <td>0.257503</td>\n",
       "      <td>0.600470</td>\n",
       "      <td>-1.497533</td>\n",
       "      <td>0.342966</td>\n",
       "    </tr>\n",
       "    <tr>\n",
       "      <th>Saturn</th>\n",
       "      <td>9.537070</td>\n",
       "      <td>0.054151</td>\n",
       "      <td>9.297031e+08</td>\n",
       "      <td>4.336201e-02</td>\n",
       "      <td>1.984702</td>\n",
       "      <td>1.613242</td>\n",
       "      <td>0.871693</td>\n",
       "      <td>-0.371460</td>\n",
       "      <td>-0.741549</td>\n",
       "    </tr>\n",
       "    <tr>\n",
       "      <th>Uranus</th>\n",
       "      <td>19.191264</td>\n",
       "      <td>0.047168</td>\n",
       "      <td>2.651200e+09</td>\n",
       "      <td>1.343659e-02</td>\n",
       "      <td>1.295556</td>\n",
       "      <td>2.983889</td>\n",
       "      <td>5.466933</td>\n",
       "      <td>1.688333</td>\n",
       "      <td>2.483044</td>\n",
       "    </tr>\n",
       "    <tr>\n",
       "      <th>Neptune</th>\n",
       "      <td>30.068963</td>\n",
       "      <td>0.008586</td>\n",
       "      <td>5.200783e+09</td>\n",
       "      <td>3.087784e-02</td>\n",
       "      <td>2.298977</td>\n",
       "      <td>0.784898</td>\n",
       "      <td>5.321160</td>\n",
       "      <td>-1.514079</td>\n",
       "      <td>4.536262</td>\n",
       "    </tr>\n",
       "    <tr>\n",
       "      <th>Pluto</th>\n",
       "      <td>39.481687</td>\n",
       "      <td>0.248808</td>\n",
       "      <td>7.829577e+09</td>\n",
       "      <td>2.991800e-01</td>\n",
       "      <td>1.925159</td>\n",
       "      <td>3.910703</td>\n",
       "      <td>4.170094</td>\n",
       "      <td>1.985544</td>\n",
       "      <td>0.259392</td>\n",
       "    </tr>\n",
       "  </tbody>\n",
       "</table>\n",
       "</div>"
      ],
      "text/plain": [
       "                 a         e             T             I     Omega  omega_bar  \\\n",
       "Mercury   0.387099  0.205631  7.600654e+06  1.222580e-01  0.843547   1.351870   \n",
       "Venus     0.723332  0.006773  1.940826e+07  5.924887e-02  1.338331   2.295684   \n",
       "Earth     1.000000  0.016710  3.155815e+07  8.726646e-07  0.000000   1.796767   \n",
       "Mars      1.523662  0.093412  5.936088e+07  3.229924e-02  0.865309   5.865019   \n",
       "Jupiter   5.203363  0.048393  3.742797e+08  2.278178e-02  1.755036   0.257503   \n",
       "Saturn    9.537070  0.054151  9.297031e+08  4.336201e-02  1.984702   1.613242   \n",
       "Uranus   19.191264  0.047168  2.651200e+09  1.343659e-02  1.295556   2.983889   \n",
       "Neptune  30.068963  0.008586  5.200783e+09  3.087784e-02  2.298977   0.784898   \n",
       "Pluto    39.481687  0.248808  7.829577e+09  2.991800e-01  1.925159   3.910703   \n",
       "\n",
       "                L     omega         M  \n",
       "Mercury  4.402608  0.508323  3.050738  \n",
       "Venus    3.176145  0.957353  0.880462  \n",
       "Earth    1.753434  1.796767 -0.043334  \n",
       "Mars     6.203831  4.999710  0.338812  \n",
       "Jupiter  0.600470 -1.497533  0.342966  \n",
       "Saturn   0.871693 -0.371460 -0.741549  \n",
       "Uranus   5.466933  1.688333  2.483044  \n",
       "Neptune  5.321160 -1.514079  4.536262  \n",
       "Pluto    4.170094  1.985544  0.259392  "
      ]
     },
     "metadata": {},
     "output_type": "display_data"
    },
    {
     "name": "stderr",
     "output_type": "stream",
     "text": [
      "/usr/lib/python3/dist-packages/ipykernel_launcher.py:34: FutureWarning: In a future version of pandas all arguments of DataFrame.drop except for the argument 'labels' will be keyword-only\n"
     ]
    }
   ],
   "source": [
    "# Orbital parameters for Solar System planets\n",
    "#\n",
    "# Source: Source: Standish and Williams (1992) through https://farside.ph.utexas.edu/teaching/celestial/Celestialhtml/node34.html\n",
    "#\n",
    "# Units a:AU, e:[0,1], I:deg, Omega:deg, omega:deg, L:deg\n",
    "# Epoch J2000 (2000-1-1.5)\n",
    "\n",
    "Solar_System_Keplerian_Elements = {\n",
    "  \"Mercury\":dict(a=0.38709893, e=0.20563069, T=0.240846, I=7.00487, Omega=48.33167, omega_bar=77.45645, L=252.25084),\n",
    "  \"Venus\":dict(a=0.72333199, e=0.00677323, T=0.615, I=3.39471, Omega=76.68069, omega_bar=131.53298, L=181.97973),\n",
    "  \"Earth\":dict(a=1.00000011, e=0.01671022, T=1, I=0.00005, Omega=0, omega_bar=102.94719, L=100.46435),\n",
    "  \"Mars\":dict(a=1.52366231, e=0.09341233, T=1.881, I=1.85061, Omega=49.57854, omega_bar=336.04084, L=355.45332),\n",
    "  \"Jupiter\":dict(a=5.20336301, e=0.04839266, T=11.86, I=1.30530, Omega=100.55615, omega_bar=14.75385, L=34.40438),\n",
    "  \"Saturn\":dict(a=9.53707032, e=0.05415060, T=29.46, I=2.48446, Omega=113.71504, omega_bar=92.43194, L=49.94432),\n",
    "  \"Uranus\":dict(a=19.19126393, e=0.04716771, T=84.01, I=0.76986, Omega=74.22988, omega_bar=170.96424, L=313.23218),\n",
    "  \"Neptune\":dict(a=30.06896348, e=0.00858587, T=164.8, I=1.76917, Omega=131.72169, omega_bar=44.97135, L=304.88003),\n",
    "  \"Pluto\":dict(a=39.48168677, e=0.24880766, T=248.1, I=17.14175, Omega=110.30347, omega_bar=224.06676, L=238.92881)\n",
    "}\n",
    "\n",
    "solar_df = pd.DataFrame.from_dict(Solar_System_Keplerian_Elements, orient='index')\n",
    "\n",
    "# converting units to SI and transforming L into tauHello\n",
    "for col in ['I','Omega','omega_bar','L']:\n",
    "  solar_df[col] *= 2 * np.pi / 360  # deg -> rad\n",
    "solar_df['omega'] = solar_df['omega_bar'] - solar_df['Omega']\n",
    "solar_df['T'] =  solar_df['T'].apply(lambda x: timedelta(days=365.25636 * x).total_seconds())  # sideral years -> sideral days\n",
    "solar_df['M'] = solar_df['L'] - solar_df['omega_bar']  # mean anomaly at J2000\n",
    "\n",
    "J2000 = datetime(2000,1,1,12,0,0).timestamp()  # seconds from \"1970-1-1\"\n",
    "  \n",
    "display(solar_df)\n",
    "\n",
    "# dictionary with keys are Planet names and value as dictionary of orbital parameters \n",
    "solar_dict = solar_df.drop(['L', 'omega_bar'], 1).to_dict(orient='index')"
   ]
  },
  {
   "cell_type": "code",
   "execution_count": null,
   "metadata": {
    "id": "zKZreq1ilW0B"
   },
   "outputs": [],
   "source": []
  },
  {
   "cell_type": "code",
   "execution_count": 3,
   "metadata": {
    "ExecuteTime": {
     "end_time": "2021-12-27T15:28:56.599062Z",
     "start_time": "2021-12-27T15:28:56.310353Z"
    },
    "id": "ioQaCvCgp3Nl"
   },
   "outputs": [
    {
     "name": "stderr",
     "output_type": "stream",
     "text": [
      "/usr/lib/python3/dist-packages/ipykernel_launcher.py:27: FutureWarning: In a future version of pandas all arguments of DataFrame.drop except for the argument 'labels' will be keyword-only\n"
     ]
    }
   ],
   "source": [
    "# Change rates of orbital paramters for Solar System planets\n",
    "#\n",
    "# Source https://ssd.jpl.nasa.gov/planets/approx_pos.html\n",
    "#\n",
    "# units au/Cy, rad/Cy, deg/Cy, deg/Cy, deg/Cy, deg/Cy\n",
    "\n",
    "Solar_System_Rates = {\n",
    "\"Mercury\": dict(a=0.00000037, e=0.00001906, I=-0.00594749, L=149472.67411175, omega_bar=0.16047689, Omega=-0.12534081),\n",
    "\"Venus\":  dict(a=0.00000390, e=-0.00004107, I=-0.00078890, L=58517.81538729, omega_bar=0.00268329, Omega=-0.27769418),\n",
    "\"EM Bary\": dict(a=0.00000562, e=-0.00004392, I=-0.01294668, L=35999.37244981, omega_bar=0.32327364, Omega=0.0),\n",
    "\"Mars\": dict(a=0.00001847, e=0.00007882, I=-0.00813131, L=19140.30268499, omega_bar=0.44441088, Omega=-0.29257343),\n",
    "\"Jupiter\": dict(a=-0.00011607, e=-0.00013253, I=-0.00183714, L=3034.74612775, omega_bar=0.21252668, Omega=0.20469106),\n",
    "\"Saturn\": dict(a=-0.00125060, e=-0.00050991, I=0.00193609, L=1222.49362201, omega_bar=-0.41897216, Omega=-0.28867794),\n",
    "\"Uranus\": dict(a=-0.00196176, e=-0.00004397, I=-0.00242939, L=428.48202785, omega_bar=0.40805281, Omega=0.04240589),\n",
    "\"Neptune\": dict(a=0.00026291, e=0.00005105, I=0.00035372, L=218.45945325, omega_bar=-0.32241464, Omega=-0.00508664)\n",
    "}\n",
    "\n",
    "rates_df = pd.DataFrame.from_dict(Solar_System_Rates, orient='index')\n",
    "\n",
    "for col in ['I','L','omega_bar','Omega']:\n",
    "  rates_df[col] *= 2 * np.pi / 360  # deg -> rad\n",
    "rates_df['omega'] = rates_df['omega_bar'] - rates_df['Omega']\n",
    "\n",
    "# transformation from 1/Cy to 1/sec\n",
    "year_in_sec = 31536000\n",
    "rates_df /= 100 * year_in_sec\n",
    "rates_dict = rates_df.drop(['L', 'omega_bar'], 1).to_dict(orient='index')"
   ]
  },
  {
   "cell_type": "code",
   "execution_count": null,
   "metadata": {},
   "outputs": [],
   "source": []
  },
  {
   "cell_type": "code",
   "execution_count": null,
   "metadata": {},
   "outputs": [],
   "source": []
  },
  {
   "cell_type": "code",
   "execution_count": null,
   "metadata": {},
   "outputs": [],
   "source": []
  },
  {
   "cell_type": "code",
   "execution_count": null,
   "metadata": {},
   "outputs": [],
   "source": []
  },
  {
   "cell_type": "code",
   "execution_count": null,
   "metadata": {},
   "outputs": [],
   "source": []
  },
  {
   "cell_type": "markdown",
   "metadata": {
    "id": "g15XW6A0p5ES"
   },
   "source": [
    "# TESTS"
   ]
  },
  {
   "cell_type": "markdown",
   "metadata": {},
   "source": [
    "## Uranus positions from Flagstaff observatory"
   ]
  },
  {
   "cell_type": "code",
   "execution_count": 4,
   "metadata": {
    "ExecuteTime": {
     "end_time": "2021-12-27T15:28:58.592804Z",
     "start_time": "2021-12-27T15:28:56.600388Z"
    },
    "id": "vet5RRznqOrS"
   },
   "outputs": [],
   "source": [
    "# Data Source: https://ssd.jpl.nasa.gov/dat/planets/ccd1_nofs.txt\n",
    "# Flagstaff observatory\n",
    "\n",
    "#            1 ..... Planet ID\n",
    "#            2 ..... Satellite ID\n",
    "#         3- 5 ..... UT  (yr,mon,day)\n",
    "#         6- 8 ..... UTC (h,m,s)\n",
    "#         9-11 ..... J2000 RA  (h,m,s)\n",
    "#        12-14 ..... J2000 Dec (d,m,s)\n",
    "#           15 ..... Geocentric parallax in RA  (arcsec)  [geo - topo positions]\n",
    "#           16 ..... Geocentric parallax in Dec (arcsec)  [geo - topo positions]\n",
    "#           17 ..... Observatory Code\n",
    "#           18 ..... Type of Obs (topo/geoc)\n",
    "#           19 ..... NOFS Telescope/Reference Catalog\n",
    "#           20 ..... Proper Name\n",
    "obs = pd.read_csv('ccd1_nofs.txt', \n",
    "            header = None, \n",
    "            delim_whitespace=True, \n",
    "            comment='#',\n",
    "            names = ['Planet ID', \"Satellite ID\", 'yr','mon','day','h','m','s','RA_h','RA_m','RA_s',\n",
    "                     'Dec_d','Dec_m','Dec_s','Geocentric parallax in RA  (arcsec)',\n",
    "                     'Geocentric parallax in Dec (arcsec)','Observatory Code','Type of Obs (topo/geoc)',\n",
    "                     'NOFS Telescope/Reference Catalog','Proper Name']\n",
    "            )\n",
    "\n",
    "obs['RA'] = (obs['RA_h'] + obs['RA_m']/60 + obs['RA_s']/3600) * np.pi / 12  # [rad]\n",
    "obs['Dec'] = (np.abs(obs['Dec_d']) + obs['Dec_m'] / 60 + obs['Dec_s'] / 3600) * np.pi / 180 * (obs['Dec_d'])/np.abs(obs['Dec_d'])\n",
    "obs['Time'] = pd.to_datetime(obs.apply(lambda row: f\"{row['yr']} {row['mon']} {row['day']} {row['h']}:{row['m']}:{row['s']}\", 1))\n"
   ]
  },
  {
   "cell_type": "code",
   "execution_count": null,
   "metadata": {
    "id": "iBGLIqvQRMek"
   },
   "outputs": [],
   "source": []
  },
  {
   "cell_type": "code",
   "execution_count": 5,
   "metadata": {
    "ExecuteTime": {
     "end_time": "2021-12-27T15:28:59.895175Z",
     "start_time": "2021-12-27T15:28:58.593752Z"
    },
    "id": "O-x8CJv-sqRg"
   },
   "outputs": [
    {
     "data": {
      "image/png": "[encoded data removed]",
      "text/plain": [
       "<Figure size 432x288 with 1 Axes>"
      ]
     },
     "metadata": {
      "needs_background": "light"
     },
     "output_type": "display_data"
    },
    {
     "data": {
      "image/png": "[encoded data removed]",
      "text/plain": [
       "<Figure size 432x288 with 1 Axes>"
      ]
     },
     "metadata": {
      "needs_background": "light"
     },
     "output_type": "display_data"
    }
   ],
   "source": [
    "# Comparison between observational and simulations (orbitlib) sky positions (Rigth Ascension and Declination)\n",
    "# error in arc minutes (Full Moon is 30 arc minutes)\n",
    "# time is not continuous\n",
    "reload(ol)\n",
    "\n",
    "uranus = obs[(obs['Proper Name'] == 'Uranus') & (obs['Type of Obs (topo/geoc)'] == 'geoc')].copy()\n",
    "\n",
    "system = ol.create_system(solar_dict, rates_dict, observer='Earth')\n",
    "\n",
    "positions = ol.get_positions(system, time_index = uranus.Time)\n",
    "\n",
    "sky_positions = ol.get_sky_positions({'Uranus':positions['Uranus']})['Uranus']\n",
    "\n",
    "tmp = uranus.set_index('Time')\n",
    "tmp['RA_sim'] = sky_positions.RA\n",
    "tmp['DEC_sim'] = sky_positions.DEC\n",
    "rad2arcmin = 360 * 60 / (2 * np.pi)\n",
    "\n",
    "((tmp['RA'] - tmp['RA_sim']) * rad2arcmin).plot(marker='o')\n",
    "plt.ylabel('Error [arcmin]')\n",
    "plt.title(\"Right ascension\")\n",
    "plt.show()\n",
    "\n",
    "((tmp['Dec'] - tmp['DEC_sim']) * rad2arcmin).plot(marker='o')\n",
    "plt.ylabel('Error [arcmin]')\n",
    "plt.title('Declination')\n",
    "plt.show()"
   ]
  },
  {
   "cell_type": "code",
   "execution_count": null,
   "metadata": {
    "id": "1mHvu5STRMv7"
   },
   "outputs": [],
   "source": []
  },
  {
   "cell_type": "code",
   "execution_count": 6,
   "metadata": {
    "ExecuteTime": {
     "end_time": "2021-12-27T15:28:59.904221Z",
     "start_time": "2021-12-27T15:28:59.896117Z"
    },
    "id": "THKAM1XUp3d4"
   },
   "outputs": [],
   "source": [
    "# Most of the observational data, esp. old, is in the form of the card format\n",
    "\n",
    "def read_card_format(filename):\n",
    "    data = []\n",
    "    for line in open(filename, 'r').readlines():\n",
    "        planet = line[1:4]\n",
    "        JD = int(line[4:16]) / 1e5\n",
    "        Time = pd.to_datetime(JD, unit='D', origin='julian')\n",
    "        RA_h = int(line[33:35])\n",
    "        RA_m = int(line[35:37])\n",
    "        RA_s = int(line[37:42])/1e3\n",
    "        RA = (RA_h + RA_m / 60 + RA_s / 3600) * np.pi / 12\n",
    "        DEC_d_str = line[50:53]\n",
    "        DEC_sign = -1 if '-' in DEC_d_str else 1\n",
    "        DEC_d = int(DEC_d_str)\n",
    "        DEC_m = int(line[53:55])\n",
    "        DEC_s = int(line[55:59])/1e2\n",
    "        \n",
    "        # sign for declination is for the entire number, not only for the degree part\n",
    "        DEC = (np.abs(DEC_d) + DEC_m / 60 + DEC_s / 3600) * np.pi / 180 * DEC_sign\n",
    "        data.append({'planet':planet, 'Time':Time, 'RA':RA, 'DEC':DEC})\n",
    "    \n",
    "    return pd.DataFrame(data)\n"
   ]
  },
  {
   "cell_type": "code",
   "execution_count": null,
   "metadata": {},
   "outputs": [],
   "source": []
  },
  {
   "cell_type": "code",
   "execution_count": null,
   "metadata": {},
   "outputs": [],
   "source": []
  },
  {
   "cell_type": "code",
   "execution_count": 7,
   "metadata": {
    "ExecuteTime": {
     "end_time": "2021-12-27T15:29:01.718336Z",
     "start_time": "2021-12-27T15:28:59.905093Z"
    }
   },
   "outputs": [
    {
     "data": {
      "image/png": "[encoded data removed]",
      "text/plain": [
       "<Figure size 432x288 with 1 Axes>"
      ]
     },
     "metadata": {
      "needs_background": "light"
     },
     "output_type": "display_data"
    },
    {
     "data": {
      "image/png": "[encoded data removed]",
      "text/plain": [
       "<Figure size 432x288 with 1 Axes>"
      ]
     },
     "metadata": {
      "needs_background": "light"
     },
     "output_type": "display_data"
    }
   ],
   "source": [
    "# TEST for NEPTUNE\n",
    "\n",
    "# Reading data from Nikolaev Astronomical Observatory\n",
    "# Available at https://ssd.jpl.nasa.gov/planets/obs_data.html\n",
    "nikolaev = read_card_format('nikolaev.txt')\n",
    "\n",
    "neptune = nikolaev.query('planet==\"008\"')  # 008 is the code for Neptune\n",
    "\n",
    "system = ol.create_system(solar_dict, rates_dict, observer='Earth')\n",
    "\n",
    "positions = ol.get_positions(system, time_index = neptune.Time)\n",
    "\n",
    "sky_positions = ol.get_sky_positions({'Neptune':positions['Neptune']})['Neptune']\n",
    "\n",
    "tmp = neptune.set_index('Time')\n",
    "tmp['RA_sim'] = sky_positions.RA\n",
    "tmp['DEC_sim'] = sky_positions.DEC\n",
    "rad2arcmin = 360 * 60 / (2 * np.pi)\n",
    "\n",
    "((tmp['RA'] - tmp['RA_sim']) * rad2arcmin).plot(marker='o')\n",
    "plt.ylabel('Error [arcmin]')\n",
    "plt.title(\"Right ascension\")\n",
    "plt.show()\n",
    "\n",
    "((tmp['DEC'] - tmp['DEC_sim']) * rad2arcmin).plot(marker='o')\n",
    "plt.ylabel('Error [arcmin]')\n",
    "plt.title('Declination')\n",
    "plt.show()"
   ]
  },
  {
   "cell_type": "code",
   "execution_count": null,
   "metadata": {},
   "outputs": [],
   "source": []
  },
  {
   "cell_type": "code",
   "execution_count": null,
   "metadata": {
    "ExecuteTime": {
     "end_time": "2021-12-27T13:30:28.018034Z",
     "start_time": "2021-12-27T13:30:27.826606Z"
    }
   },
   "outputs": [],
   "source": []
  },
  {
   "cell_type": "code",
   "execution_count": 9,
   "metadata": {
    "ExecuteTime": {
     "end_time": "2021-12-27T15:29:17.457576Z",
     "start_time": "2021-12-27T15:29:15.940052Z"
    }
   },
   "outputs": [
    {
     "data": {
      "image/png": "[encoded data removed]",
      "text/plain": [
       "<Figure size 432x288 with 1 Axes>"
      ]
     },
     "metadata": {
      "needs_background": "light"
     },
     "output_type": "display_data"
    },
    {
     "data": {
      "image/png": "[encoded data removed]",
      "text/plain": [
       "<Figure size 432x288 with 1 Axes>"
      ]
     },
     "metadata": {
      "needs_background": "light"
     },
     "output_type": "display_data"
    }
   ],
   "source": [
    "# TEST FOR PLUTO\n",
    "\n",
    "# Loading data from miscelanous observatories \n",
    "# Available at https://ssd.jpl.nasa.gov/planets/obs_data.html\n",
    "miscastrom = read_card_format('miscastrom.txt')\n",
    "\n",
    "pluto = miscastrom.query('planet==\"900\"')  # Pluto code here is '900'\n",
    "\n",
    "system = ol.create_system(solar_dict, rates_dict, observer='Earth')\n",
    "\n",
    "positions = ol.get_positions(system, time_index = pluto.Time)\n",
    "\n",
    "sky_positions = ol.get_sky_positions({'Pluto':positions['Pluto']})['Pluto']\n",
    "\n",
    "tmp = pluto.set_index('Time')\n",
    "tmp['RA_sim'] = sky_positions.RA\n",
    "tmp['DEC_sim'] = sky_positions.DEC\n",
    "rad2arcmin = 360 * 60 / (2 * np.pi)\n",
    "\n",
    "((tmp['RA'] - tmp['RA_sim']) * rad2arcmin).plot(marker='o')\n",
    "plt.ylabel('Error [arcmin]')\n",
    "plt.title(\"Right ascension\")\n",
    "plt.show()\n",
    "\n",
    "((tmp['DEC'] - tmp['DEC_sim']) * rad2arcmin).plot(marker='o')\n",
    "plt.ylabel('Error [arcmin]')\n",
    "plt.title('Declination')\n",
    "plt.show()"
   ]
  },
  {
   "cell_type": "code",
   "execution_count": null,
   "metadata": {},
   "outputs": [],
   "source": []
  },
  {
   "cell_type": "markdown",
   "metadata": {},
   "source": [
    "The errors are within several arcminutes and are in general smaller near the reference date of 2000-01-01"
   ]
  },
  {
   "cell_type": "code",
   "execution_count": null,
   "metadata": {},
   "outputs": [],
   "source": []
  }
 ],
 "metadata": {
  "colab": {
   "collapsed_sections": [],
   "name": "Oliver.ipynb",
   "provenance": []
  },
  "kernelspec": {
   "display_name": "Python 3",
   "language": "python",
   "name": "python3"
  },
  "language_info": {
   "codemirror_mode": {
    "name": "ipython",
    "version": 3
   },
   "file_extension": ".py",
   "mimetype": "text/x-python",
   "name": "python",
   "nbconvert_exporter": "python",
   "pygments_lexer": "ipython3",
   "version": "3.7.3"
  },
  "toc": {
   "base_numbering": 1,
   "nav_menu": {},
   "number_sections": true,
   "sideBar": true,
   "skip_h1_title": false,
   "title_cell": "Table of Contents",
   "title_sidebar": "Contents",
   "toc_cell": false,
   "toc_position": {},
   "toc_section_display": true,
   "toc_window_display": false
  }
 },
 "nbformat": 4,
 "nbformat_minor": 1
}

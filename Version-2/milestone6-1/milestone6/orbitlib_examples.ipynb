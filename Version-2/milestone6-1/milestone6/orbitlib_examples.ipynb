{
 "cells": [
  {
   "cell_type": "markdown",
   "metadata": {
    "id": "MmjvN9kl8eAh"
   },
   "source": [
    "<font size=45>Example usage of orbitlib library</font>\n",
    "\n",
    "Notebook presents a way to load and use the orbitlib.py library.\n",
    "\n",
    "library is modularised and contains the physical formuli explicitly\n",
    " - easy readability\n",
    " - easy extendability\n",
    " - modularisation \n",
    "\n",
    "Main class System() is a bundle of orbits which can be worked on simultanously.\n",
    "\n",
    "# SIMPLE SOLAR SYSTEM\n",
    "Additionally, I have indlucde a table with orbital parameters for Solar Planets\n",
    "- The format and transformations are just for presentation purposes and \n",
    "are not a part of the algorithm.\n",
    "- Using pandas library for convenience. The initial values and final output are \n",
    "python standard dictionaries.\n",
    "- Used values are valid for J2000 epoch (2000-01-01 noon) and will deviate from \n",
    "actual positions the more distant is chosen date.\n",
    "- Pluto added to make nice contrast with its inclined orbit\n",
    "- Rates of parameters change added for testes which are valid between 1950 - 2050 year.\n",
    "- Added a few most important Jupiter's and Saturn's moons as example. \n",
    "\n",
    "# ADDITIONAL FUNCITONALITIES\n",
    "- conversion between different reference frames\n",
    "- comparison with observational data\n",
    "- barycenter movment for orbits. May be used for out-of-ordinary orbits (see example at the Bonus section). Not very useful for realistic situations due to negligible effect on planetary systems, but can be used to produce something like this: https://www.youtube.com/watch?v=0jHsq36_NTU\n",
    "- sub orbits cann be attached to orbits. Sub orbits are itself orbtis so can have their own sub orbits. Only limitation is that all than orbit names in one systems should be unique.\n",
    "\n",
    "\n",
    "# Extensions\n",
    "orbitlib can be used with any objects with closed orbits (i.e. with e < 1) \n",
    "including\n",
    "- planetoids, repeating commets, satelites\n",
    "- extrasolar planetary systems\n",
    "- hierarchical systems (moons, satellites around moons, etc.)\n",
    "\n",
    "***\n",
    "\n",
    "This notebooks is devoted to sky view functionality demonstration. The user can specify observer location and time to see the expected sky view with bodies specified in the system class. Screenshots from professional sky viewing software provided as reference. The sky positions error is around 1$^\\circ$.\n",
    "\n",
    "<font color='red'>For tests of new functions see `orbitlib_tests.ipynb` notebook</font>\n",
    "\n",
    "_software by Grzegorz Wiktorowicz (gwiktoro@gmail.com)_"
   ]
  },
  {
   "cell_type": "code",
   "execution_count": 2,
   "metadata": {
    "ExecuteTime": {
     "end_time": "2022-03-21T14:53:49.098360Z",
     "start_time": "2022-03-21T14:53:44.048679Z"
    },
    "colab": {
     "base_uri": "https://localhost:8080/"
    },
    "id": "WpJrHh1YkUtF",
    "outputId": "cb715272-0cb2-4563-b453-67e317a8c195"
   },
   "outputs": [],
   "source": [
    "# change path to the folder where orbitlib.py is located (not needed if it's the current workign directory)\n",
    "# %cd /content/drive/MyDrive/work/Oliver\n",
    "import orbitlib as ol\n",
    "\n",
    "import numpy as np\n",
    "\n",
    "\n",
    "import plotly.graph_objs as go\n",
    "import matplotlib.pyplot as plt\n",
    "import pickle\n",
    "import json\n",
    "\n",
    "import pandas as pd\n",
    "\n",
    "from importlib import reload  # TESTING\n",
    "\n",
    "from orbitlib_data import solar_dict, solar_df, rates_dict, rates_df"
   ]
  },
  {
   "cell_type": "code",
   "execution_count": 23,
   "metadata": {
    "ExecuteTime": {
     "end_time": "2022-03-21T15:43:43.668062Z",
     "start_time": "2022-03-21T15:43:43.665083Z"
    }
   },
   "outputs": [],
   "source": [
    "# Creating standard Solar System for comparison with professional sky software\n",
    "\n",
    "system = ol.create_system(solar_dict, rates_dict=rates_dict, observer='Earth')"
   ]
  },
  {
   "cell_type": "code",
   "execution_count": null,
   "metadata": {},
   "outputs": [],
   "source": []
  },
  {
   "cell_type": "code",
   "execution_count": 24,
   "metadata": {
    "ExecuteTime": {
     "end_time": "2022-03-21T15:43:45.980732Z",
     "start_time": "2022-03-21T15:43:45.919868Z"
    }
   },
   "outputs": [
    {
     "data": {
      "application/vnd.plotly.v1+json": {
       "config": {
        "plotlyServerURL": "https://plot.ly"
       },
       "data": [
        {
         "customdata": [
          "2004-04-04T00:00:00"
         ],
         "hovertemplate": "%{customdata}<br>z :%{r}<br>A:%{theta}",
         "marker": {
          "opacity": 0.8,
          "size": 10
         },
         "mode": "markers",
         "name": "Mercury",
         "r": [
          112.69064871660268
         ],
         "theta": [
          5.698514084147814
         ],
         "type": "scatterpolar"
        },
        {
         "customdata": [
          "2004-04-04T00:00:00"
         ],
         "hovertemplate": "%{customdata}<br>z :%{r}<br>A:%{theta}",
         "marker": {
          "opacity": 0.8,
          "size": 10
         },
         "mode": "markers",
         "name": "Venus",
         "r": [
          101.2622859589842
         ],
         "theta": [
          -22.01292561576938
         ],
         "type": "scatterpolar"
        },
        {
         "customdata": [
          "2004-04-04T00:00:00"
         ],
         "hovertemplate": "%{customdata}<br>z :%{r}<br>A:%{theta}",
         "marker": {
          "opacity": 0.8,
          "size": 10
         },
         "mode": "markers",
         "name": "EM",
         "r": [
          55.07292166506573
         ],
         "theta": [
          -148.6290535009042
         ],
         "type": "scatterpolar"
        },
        {
         "customdata": [
          "2004-04-04T00:00:00"
         ],
         "hovertemplate": "%{customdata}<br>z :%{r}<br>A:%{theta}",
         "marker": {
          "opacity": 0.8,
          "size": 10
         },
         "mode": "markers",
         "name": "Mars",
         "r": [
          99.50181335559415
         ],
         "theta": [
          -30.71175366333729
         ],
         "type": "scatterpolar"
        },
        {
         "customdata": [
          "2004-04-04T00:00:00"
         ],
         "hovertemplate": "%{customdata}<br>z :%{r}<br>A:%{theta}",
         "marker": {
          "opacity": 0.8,
          "size": 10
         },
         "mode": "markers",
         "name": "Jupiter",
         "r": [
          59.81935035499096
         ],
         "theta": [
          -117.10319341704358
         ],
         "type": "scatterpolar"
        },
        {
         "customdata": [
          "2004-04-04T00:00:00"
         ],
         "hovertemplate": "%{customdata}<br>z :%{r}<br>A:%{theta}",
         "marker": {
          "opacity": 0.8,
          "size": 10
         },
         "mode": "markers",
         "name": "Saturn",
         "r": [
          86.76224603815167
         ],
         "theta": [
          -55.87153645712054
         ],
         "type": "scatterpolar"
        },
        {
         "customdata": [
          "2004-04-04T00:00:00"
         ],
         "hovertemplate": "%{customdata}<br>z :%{r}<br>A:%{theta}",
         "marker": {
          "opacity": 0.8,
          "size": 10
         },
         "mode": "markers",
         "name": "Uranus",
         "r": [
          118.34210459368337
         ],
         "theta": [
          68.72314845034758
         ],
         "type": "scatterpolar"
        },
        {
         "customdata": [
          "2004-04-04T00:00:00"
         ],
         "hovertemplate": "%{customdata}<br>z :%{r}<br>A:%{theta}",
         "marker": {
          "opacity": 0.8,
          "size": 10
         },
         "mode": "markers",
         "name": "Neptune",
         "r": [
          111.26788349963678
         ],
         "theta": [
          89.6096268780739
         ],
         "type": "scatterpolar"
        },
        {
         "customdata": [
          "2004-04-04T00:00:00"
         ],
         "hovertemplate": "%{customdata}<br>z :%{r}<br>A:%{theta}",
         "marker": {
          "opacity": 0.8,
          "size": 10
         },
         "mode": "markers",
         "name": "Pluto",
         "r": [
          78.58908953594836
         ],
         "theta": [
          132.36475027530702
         ],
         "type": "scatterpolar"
        },
        {
         "customdata": [
          "2004-04-04T00:00:00"
         ],
         "hovertemplate": "%{customdata}<br>z :%{r}<br>A:%{theta}",
         "marker": {
          "opacity": 0.8,
          "size": 10
         },
         "mode": "markers",
         "name": "Earth",
         "r": [
          null
         ],
         "theta": [
          null
         ],
         "type": "scatterpolar"
        },
        {
         "customdata": [
          "2004-04-04T00:00:00"
         ],
         "hovertemplate": "%{customdata}<br>z :%{r}<br>A:%{theta}",
         "marker": {
          "opacity": 0.8,
          "size": 10
         },
         "mode": "markers",
         "name": "Moon",
         "r": [
          55.07292166507099
         ],
         "theta": [
          -148.62905350091822
         ],
         "type": "scatterpolar"
        }
       ],
       "layout": {
        "polar": {
         "radialaxis": {
          "range": [
           0,
           90
          ]
         }
        },
        "template": {
         "data": {
          "bar": [
           {
            "error_x": {
             "color": "#2a3f5f"
            },
            "error_y": {
             "color": "#2a3f5f"
            },
            "marker": {
             "line": {
              "color": "#E5ECF6",
              "width": 0.5
             }
            },
            "type": "bar"
           }
          ],
          "barpolar": [
           {
            "marker": {
             "line": {
              "color": "#E5ECF6",
              "width": 0.5
             }
            },
            "type": "barpolar"
           }
          ],
          "carpet": [
           {
            "aaxis": {
             "endlinecolor": "#2a3f5f",
             "gridcolor": "white",
             "linecolor": "white",
             "minorgridcolor": "white",
             "startlinecolor": "#2a3f5f"
            },
            "baxis": {
             "endlinecolor": "#2a3f5f",
             "gridcolor": "white",
             "linecolor": "white",
             "minorgridcolor": "white",
             "startlinecolor": "#2a3f5f"
            },
            "type": "carpet"
           }
          ],
          "choropleth": [
           {
            "colorbar": {
             "outlinewidth": 0,
             "ticks": ""
            },
            "type": "choropleth"
           }
          ],
          "contour": [
           {
            "colorbar": {
             "outlinewidth": 0,
             "ticks": ""
            },
            "colorscale": [
             [
              0,
              "#0d0887"
             ],
             [
              0.1111111111111111,
              "#46039f"
             ],
             [
              0.2222222222222222,
              "#7201a8"
             ],
             [
              0.3333333333333333,
              "#9c179e"
             ],
             [
              0.4444444444444444,
              "#bd3786"
             ],
             [
              0.5555555555555556,
              "#d8576b"
             ],
             [
              0.6666666666666666,
              "#ed7953"
             ],
             [
              0.7777777777777778,
              "#fb9f3a"
             ],
             [
              0.8888888888888888,
              "#fdca26"
             ],
             [
              1,
              "#f0f921"
             ]
            ],
            "type": "contour"
           }
          ],
          "contourcarpet": [
           {
            "colorbar": {
             "outlinewidth": 0,
             "ticks": ""
            },
            "type": "contourcarpet"
           }
          ],
          "heatmap": [
           {
            "colorbar": {
             "outlinewidth": 0,
             "ticks": ""
            },
            "colorscale": [
             [
              0,
              "#0d0887"
             ],
             [
              0.1111111111111111,
              "#46039f"
             ],
             [
              0.2222222222222222,
              "#7201a8"
             ],
             [
              0.3333333333333333,
              "#9c179e"
             ],
             [
              0.4444444444444444,
              "#bd3786"
             ],
             [
              0.5555555555555556,
              "#d8576b"
             ],
             [
              0.6666666666666666,
              "#ed7953"
             ],
             [
              0.7777777777777778,
              "#fb9f3a"
             ],
             [
              0.8888888888888888,
              "#fdca26"
             ],
             [
              1,
              "#f0f921"
             ]
            ],
            "type": "heatmap"
           }
          ],
          "heatmapgl": [
           {
            "colorbar": {
             "outlinewidth": 0,
             "ticks": ""
            },
            "colorscale": [
             [
              0,
              "#0d0887"
             ],
             [
              0.1111111111111111,
              "#46039f"
             ],
             [
              0.2222222222222222,
              "#7201a8"
             ],
             [
              0.3333333333333333,
              "#9c179e"
             ],
             [
              0.4444444444444444,
              "#bd3786"
             ],
             [
              0.5555555555555556,
              "#d8576b"
             ],
             [
              0.6666666666666666,
              "#ed7953"
             ],
             [
              0.7777777777777778,
              "#fb9f3a"
             ],
             [
              0.8888888888888888,
              "#fdca26"
             ],
             [
              1,
              "#f0f921"
             ]
            ],
            "type": "heatmapgl"
           }
          ],
          "histogram": [
           {
            "marker": {
             "colorbar": {
              "outlinewidth": 0,
              "ticks": ""
             }
            },
            "type": "histogram"
           }
          ],
          "histogram2d": [
           {
            "colorbar": {
             "outlinewidth": 0,
             "ticks": ""
            },
            "colorscale": [
             [
              0,
              "#0d0887"
             ],
             [
              0.1111111111111111,
              "#46039f"
             ],
             [
              0.2222222222222222,
              "#7201a8"
             ],
             [
              0.3333333333333333,
              "#9c179e"
             ],
             [
              0.4444444444444444,
              "#bd3786"
             ],
             [
              0.5555555555555556,
              "#d8576b"
             ],
             [
              0.6666666666666666,
              "#ed7953"
             ],
             [
              0.7777777777777778,
              "#fb9f3a"
             ],
             [
              0.8888888888888888,
              "#fdca26"
             ],
             [
              1,
              "#f0f921"
             ]
            ],
            "type": "histogram2d"
           }
          ],
          "histogram2dcontour": [
           {
            "colorbar": {
             "outlinewidth": 0,
             "ticks": ""
            },
            "colorscale": [
             [
              0,
              "#0d0887"
             ],
             [
              0.1111111111111111,
              "#46039f"
             ],
             [
              0.2222222222222222,
              "#7201a8"
             ],
             [
              0.3333333333333333,
              "#9c179e"
             ],
             [
              0.4444444444444444,
              "#bd3786"
             ],
             [
              0.5555555555555556,
              "#d8576b"
             ],
             [
              0.6666666666666666,
              "#ed7953"
             ],
             [
              0.7777777777777778,
              "#fb9f3a"
             ],
             [
              0.8888888888888888,
              "#fdca26"
             ],
             [
              1,
              "#f0f921"
             ]
            ],
            "type": "histogram2dcontour"
           }
          ],
          "mesh3d": [
           {
            "colorbar": {
             "outlinewidth": 0,
             "ticks": ""
            },
            "type": "mesh3d"
           }
          ],
          "parcoords": [
           {
            "line": {
             "colorbar": {
              "outlinewidth": 0,
              "ticks": ""
             }
            },
            "type": "parcoords"
           }
          ],
          "pie": [
           {
            "automargin": true,
            "type": "pie"
           }
          ],
          "scatter": [
           {
            "marker": {
             "colorbar": {
              "outlinewidth": 0,
              "ticks": ""
             }
            },
            "type": "scatter"
           }
          ],
          "scatter3d": [
           {
            "line": {
             "colorbar": {
              "outlinewidth": 0,
              "ticks": ""
             }
            },
            "marker": {
             "colorbar": {
              "outlinewidth": 0,
              "ticks": ""
             }
            },
            "type": "scatter3d"
           }
          ],
          "scattercarpet": [
           {
            "marker": {
             "colorbar": {
              "outlinewidth": 0,
              "ticks": ""
             }
            },
            "type": "scattercarpet"
           }
          ],
          "scattergeo": [
           {
            "marker": {
             "colorbar": {
              "outlinewidth": 0,
              "ticks": ""
             }
            },
            "type": "scattergeo"
           }
          ],
          "scattergl": [
           {
            "marker": {
             "colorbar": {
              "outlinewidth": 0,
              "ticks": ""
             }
            },
            "type": "scattergl"
           }
          ],
          "scattermapbox": [
           {
            "marker": {
             "colorbar": {
              "outlinewidth": 0,
              "ticks": ""
             }
            },
            "type": "scattermapbox"
           }
          ],
          "scatterpolar": [
           {
            "marker": {
             "colorbar": {
              "outlinewidth": 0,
              "ticks": ""
             }
            },
            "type": "scatterpolar"
           }
          ],
          "scatterpolargl": [
           {
            "marker": {
             "colorbar": {
              "outlinewidth": 0,
              "ticks": ""
             }
            },
            "type": "scatterpolargl"
           }
          ],
          "scatterternary": [
           {
            "marker": {
             "colorbar": {
              "outlinewidth": 0,
              "ticks": ""
             }
            },
            "type": "scatterternary"
           }
          ],
          "surface": [
           {
            "colorbar": {
             "outlinewidth": 0,
             "ticks": ""
            },
            "colorscale": [
             [
              0,
              "#0d0887"
             ],
             [
              0.1111111111111111,
              "#46039f"
             ],
             [
              0.2222222222222222,
              "#7201a8"
             ],
             [
              0.3333333333333333,
              "#9c179e"
             ],
             [
              0.4444444444444444,
              "#bd3786"
             ],
             [
              0.5555555555555556,
              "#d8576b"
             ],
             [
              0.6666666666666666,
              "#ed7953"
             ],
             [
              0.7777777777777778,
              "#fb9f3a"
             ],
             [
              0.8888888888888888,
              "#fdca26"
             ],
             [
              1,
              "#f0f921"
             ]
            ],
            "type": "surface"
           }
          ],
          "table": [
           {
            "cells": {
             "fill": {
              "color": "#EBF0F8"
             },
             "line": {
              "color": "white"
             }
            },
            "header": {
             "fill": {
              "color": "#C8D4E3"
             },
             "line": {
              "color": "white"
             }
            },
            "type": "table"
           }
          ]
         },
         "layout": {
          "annotationdefaults": {
           "arrowcolor": "#2a3f5f",
           "arrowhead": 0,
           "arrowwidth": 1
          },
          "coloraxis": {
           "colorbar": {
            "outlinewidth": 0,
            "ticks": ""
           }
          },
          "colorscale": {
           "diverging": [
            [
             0,
             "#8e0152"
            ],
            [
             0.1,
             "#c51b7d"
            ],
            [
             0.2,
             "#de77ae"
            ],
            [
             0.3,
             "#f1b6da"
            ],
            [
             0.4,
             "#fde0ef"
            ],
            [
             0.5,
             "#f7f7f7"
            ],
            [
             0.6,
             "#e6f5d0"
            ],
            [
             0.7,
             "#b8e186"
            ],
            [
             0.8,
             "#7fbc41"
            ],
            [
             0.9,
             "#4d9221"
            ],
            [
             1,
             "#276419"
            ]
           ],
           "sequential": [
            [
             0,
             "#0d0887"
            ],
            [
             0.1111111111111111,
             "#46039f"
            ],
            [
             0.2222222222222222,
             "#7201a8"
            ],
            [
             0.3333333333333333,
             "#9c179e"
            ],
            [
             0.4444444444444444,
             "#bd3786"
            ],
            [
             0.5555555555555556,
             "#d8576b"
            ],
            [
             0.6666666666666666,
             "#ed7953"
            ],
            [
             0.7777777777777778,
             "#fb9f3a"
            ],
            [
             0.8888888888888888,
             "#fdca26"
            ],
            [
             1,
             "#f0f921"
            ]
           ],
           "sequentialminus": [
            [
             0,
             "#0d0887"
            ],
            [
             0.1111111111111111,
             "#46039f"
            ],
            [
             0.2222222222222222,
             "#7201a8"
            ],
            [
             0.3333333333333333,
             "#9c179e"
            ],
            [
             0.4444444444444444,
             "#bd3786"
            ],
            [
             0.5555555555555556,
             "#d8576b"
            ],
            [
             0.6666666666666666,
             "#ed7953"
            ],
            [
             0.7777777777777778,
             "#fb9f3a"
            ],
            [
             0.8888888888888888,
             "#fdca26"
            ],
            [
             1,
             "#f0f921"
            ]
           ]
          },
          "colorway": [
           "#636efa",
           "#EF553B",
           "#00cc96",
           "#ab63fa",
           "#FFA15A",
           "#19d3f3",
           "#FF6692",
           "#B6E880",
           "#FF97FF",
           "#FECB52"
          ],
          "font": {
           "color": "#2a3f5f"
          },
          "geo": {
           "bgcolor": "white",
           "lakecolor": "white",
           "landcolor": "#E5ECF6",
           "showlakes": true,
           "showland": true,
           "subunitcolor": "white"
          },
          "hoverlabel": {
           "align": "left"
          },
          "hovermode": "closest",
          "mapbox": {
           "style": "light"
          },
          "paper_bgcolor": "white",
          "plot_bgcolor": "#E5ECF6",
          "polar": {
           "angularaxis": {
            "gridcolor": "white",
            "linecolor": "white",
            "ticks": ""
           },
           "bgcolor": "#E5ECF6",
           "radialaxis": {
            "gridcolor": "white",
            "linecolor": "white",
            "ticks": ""
           }
          },
          "scene": {
           "xaxis": {
            "backgroundcolor": "#E5ECF6",
            "gridcolor": "white",
            "gridwidth": 2,
            "linecolor": "white",
            "showbackground": true,
            "ticks": "",
            "zerolinecolor": "white"
           },
           "yaxis": {
            "backgroundcolor": "#E5ECF6",
            "gridcolor": "white",
            "gridwidth": 2,
            "linecolor": "white",
            "showbackground": true,
            "ticks": "",
            "zerolinecolor": "white"
           },
           "zaxis": {
            "backgroundcolor": "#E5ECF6",
            "gridcolor": "white",
            "gridwidth": 2,
            "linecolor": "white",
            "showbackground": true,
            "ticks": "",
            "zerolinecolor": "white"
           }
          },
          "shapedefaults": {
           "line": {
            "color": "#2a3f5f"
           }
          },
          "ternary": {
           "aaxis": {
            "gridcolor": "white",
            "linecolor": "white",
            "ticks": ""
           },
           "baxis": {
            "gridcolor": "white",
            "linecolor": "white",
            "ticks": ""
           },
           "bgcolor": "#E5ECF6",
           "caxis": {
            "gridcolor": "white",
            "linecolor": "white",
            "ticks": ""
           }
          },
          "title": {
           "x": 0.05
          },
          "xaxis": {
           "automargin": true,
           "gridcolor": "white",
           "linecolor": "white",
           "ticks": "",
           "title": {
            "standoff": 15
           },
           "zerolinecolor": "white",
           "zerolinewidth": 2
          },
          "yaxis": {
           "automargin": true,
           "gridcolor": "white",
           "linecolor": "white",
           "ticks": "",
           "title": {
            "standoff": 15
           },
           "zerolinecolor": "white",
           "zerolinewidth": 2
          }
         }
        }
       }
      },
      "text/html": [
       "<div>\n",
       "        \n",
       "        \n",
       "            <div id=\"d265ea90-f6b6-4f25-baca-1334925077e3\" class=\"plotly-graph-div\" style=\"height:525px; width:100%;\"></div>\n",
       "            <script type=\"text/javascript\">\n",
       "                require([\"plotly\"], function(Plotly) {\n",
       "                    window.PLOTLYENV=window.PLOTLYENV || {};\n",
       "                    \n",
       "                if (document.getElementById(\"d265ea90-f6b6-4f25-baca-1334925077e3\")) {\n",
       "                    Plotly.newPlot(\n",
       "                        'd265ea90-f6b6-4f25-baca-1334925077e3',\n",
       "                        [{\"customdata\": [\"2004-04-04T00:00:00\"], \"hovertemplate\": \"%{customdata}<br>z :%{r}<br>A:%{theta}\", \"marker\": {\"opacity\": 0.8, \"size\": 10}, \"mode\": \"markers\", \"name\": \"Mercury\", \"r\": [112.69064871660268], \"theta\": [5.698514084147814], \"type\": \"scatterpolar\"}, {\"customdata\": [\"2004-04-04T00:00:00\"], \"hovertemplate\": \"%{customdata}<br>z :%{r}<br>A:%{theta}\", \"marker\": {\"opacity\": 0.8, \"size\": 10}, \"mode\": \"markers\", \"name\": \"Venus\", \"r\": [101.2622859589842], \"theta\": [-22.01292561576938], \"type\": \"scatterpolar\"}, {\"customdata\": [\"2004-04-04T00:00:00\"], \"hovertemplate\": \"%{customdata}<br>z :%{r}<br>A:%{theta}\", \"marker\": {\"opacity\": 0.8, \"size\": 10}, \"mode\": \"markers\", \"name\": \"EM\", \"r\": [55.07292166506573], \"theta\": [-148.6290535009042], \"type\": \"scatterpolar\"}, {\"customdata\": [\"2004-04-04T00:00:00\"], \"hovertemplate\": \"%{customdata}<br>z :%{r}<br>A:%{theta}\", \"marker\": {\"opacity\": 0.8, \"size\": 10}, \"mode\": \"markers\", \"name\": \"Mars\", \"r\": [99.50181335559415], \"theta\": [-30.71175366333729], \"type\": \"scatterpolar\"}, {\"customdata\": [\"2004-04-04T00:00:00\"], \"hovertemplate\": \"%{customdata}<br>z :%{r}<br>A:%{theta}\", \"marker\": {\"opacity\": 0.8, \"size\": 10}, \"mode\": \"markers\", \"name\": \"Jupiter\", \"r\": [59.81935035499096], \"theta\": [-117.10319341704358], \"type\": \"scatterpolar\"}, {\"customdata\": [\"2004-04-04T00:00:00\"], \"hovertemplate\": \"%{customdata}<br>z :%{r}<br>A:%{theta}\", \"marker\": {\"opacity\": 0.8, \"size\": 10}, \"mode\": \"markers\", \"name\": \"Saturn\", \"r\": [86.76224603815167], \"theta\": [-55.87153645712054], \"type\": \"scatterpolar\"}, {\"customdata\": [\"2004-04-04T00:00:00\"], \"hovertemplate\": \"%{customdata}<br>z :%{r}<br>A:%{theta}\", \"marker\": {\"opacity\": 0.8, \"size\": 10}, \"mode\": \"markers\", \"name\": \"Uranus\", \"r\": [118.34210459368337], \"theta\": [68.72314845034758], \"type\": \"scatterpolar\"}, {\"customdata\": [\"2004-04-04T00:00:00\"], \"hovertemplate\": \"%{customdata}<br>z :%{r}<br>A:%{theta}\", \"marker\": {\"opacity\": 0.8, \"size\": 10}, \"mode\": \"markers\", \"name\": \"Neptune\", \"r\": [111.26788349963678], \"theta\": [89.6096268780739], \"type\": \"scatterpolar\"}, {\"customdata\": [\"2004-04-04T00:00:00\"], \"hovertemplate\": \"%{customdata}<br>z :%{r}<br>A:%{theta}\", \"marker\": {\"opacity\": 0.8, \"size\": 10}, \"mode\": \"markers\", \"name\": \"Pluto\", \"r\": [78.58908953594836], \"theta\": [132.36475027530702], \"type\": \"scatterpolar\"}, {\"customdata\": [\"2004-04-04T00:00:00\"], \"hovertemplate\": \"%{customdata}<br>z :%{r}<br>A:%{theta}\", \"marker\": {\"opacity\": 0.8, \"size\": 10}, \"mode\": \"markers\", \"name\": \"Earth\", \"r\": [null], \"theta\": [null], \"type\": \"scatterpolar\"}, {\"customdata\": [\"2004-04-04T00:00:00\"], \"hovertemplate\": \"%{customdata}<br>z :%{r}<br>A:%{theta}\", \"marker\": {\"opacity\": 0.8, \"size\": 10}, \"mode\": \"markers\", \"name\": \"Moon\", \"r\": [55.07292166507099], \"theta\": [-148.62905350091822], \"type\": \"scatterpolar\"}],\n",
       "                        {\"polar\": {\"radialaxis\": {\"range\": [0, 90]}}, \"template\": {\"data\": {\"bar\": [{\"error_x\": {\"color\": \"#2a3f5f\"}, \"error_y\": {\"color\": \"#2a3f5f\"}, \"marker\": {\"line\": {\"color\": \"#E5ECF6\", \"width\": 0.5}}, \"type\": \"bar\"}], \"barpolar\": [{\"marker\": {\"line\": {\"color\": \"#E5ECF6\", \"width\": 0.5}}, \"type\": \"barpolar\"}], \"carpet\": [{\"aaxis\": {\"endlinecolor\": \"#2a3f5f\", \"gridcolor\": \"white\", \"linecolor\": \"white\", \"minorgridcolor\": \"white\", \"startlinecolor\": \"#2a3f5f\"}, \"baxis\": {\"endlinecolor\": \"#2a3f5f\", \"gridcolor\": \"white\", \"linecolor\": \"white\", \"minorgridcolor\": \"white\", \"startlinecolor\": \"#2a3f5f\"}, \"type\": \"carpet\"}], \"choropleth\": [{\"colorbar\": {\"outlinewidth\": 0, \"ticks\": \"\"}, \"type\": \"choropleth\"}], \"contour\": [{\"colorbar\": {\"outlinewidth\": 0, \"ticks\": \"\"}, \"colorscale\": [[0.0, \"#0d0887\"], [0.1111111111111111, \"#46039f\"], [0.2222222222222222, \"#7201a8\"], [0.3333333333333333, \"#9c179e\"], [0.4444444444444444, \"#bd3786\"], [0.5555555555555556, \"#d8576b\"], [0.6666666666666666, \"#ed7953\"], [0.7777777777777778, \"#fb9f3a\"], [0.8888888888888888, \"#fdca26\"], [1.0, \"#f0f921\"]], \"type\": \"contour\"}], \"contourcarpet\": [{\"colorbar\": {\"outlinewidth\": 0, \"ticks\": \"\"}, \"type\": \"contourcarpet\"}], \"heatmap\": [{\"colorbar\": {\"outlinewidth\": 0, \"ticks\": \"\"}, \"colorscale\": [[0.0, \"#0d0887\"], [0.1111111111111111, \"#46039f\"], [0.2222222222222222, \"#7201a8\"], [0.3333333333333333, \"#9c179e\"], [0.4444444444444444, \"#bd3786\"], [0.5555555555555556, \"#d8576b\"], [0.6666666666666666, \"#ed7953\"], [0.7777777777777778, \"#fb9f3a\"], [0.8888888888888888, \"#fdca26\"], [1.0, \"#f0f921\"]], \"type\": \"heatmap\"}], \"heatmapgl\": [{\"colorbar\": {\"outlinewidth\": 0, \"ticks\": \"\"}, \"colorscale\": [[0.0, \"#0d0887\"], [0.1111111111111111, \"#46039f\"], [0.2222222222222222, \"#7201a8\"], [0.3333333333333333, \"#9c179e\"], [0.4444444444444444, \"#bd3786\"], [0.5555555555555556, \"#d8576b\"], [0.6666666666666666, \"#ed7953\"], [0.7777777777777778, \"#fb9f3a\"], [0.8888888888888888, \"#fdca26\"], [1.0, \"#f0f921\"]], \"type\": \"heatmapgl\"}], \"histogram\": [{\"marker\": {\"colorbar\": {\"outlinewidth\": 0, \"ticks\": \"\"}}, \"type\": \"histogram\"}], \"histogram2d\": [{\"colorbar\": {\"outlinewidth\": 0, \"ticks\": \"\"}, \"colorscale\": [[0.0, \"#0d0887\"], [0.1111111111111111, \"#46039f\"], [0.2222222222222222, \"#7201a8\"], [0.3333333333333333, \"#9c179e\"], [0.4444444444444444, \"#bd3786\"], [0.5555555555555556, \"#d8576b\"], [0.6666666666666666, \"#ed7953\"], [0.7777777777777778, \"#fb9f3a\"], [0.8888888888888888, \"#fdca26\"], [1.0, \"#f0f921\"]], \"type\": \"histogram2d\"}], \"histogram2dcontour\": [{\"colorbar\": {\"outlinewidth\": 0, \"ticks\": \"\"}, \"colorscale\": [[0.0, \"#0d0887\"], [0.1111111111111111, \"#46039f\"], [0.2222222222222222, \"#7201a8\"], [0.3333333333333333, \"#9c179e\"], [0.4444444444444444, \"#bd3786\"], [0.5555555555555556, \"#d8576b\"], [0.6666666666666666, \"#ed7953\"], [0.7777777777777778, \"#fb9f3a\"], [0.8888888888888888, \"#fdca26\"], [1.0, \"#f0f921\"]], \"type\": \"histogram2dcontour\"}], \"mesh3d\": [{\"colorbar\": {\"outlinewidth\": 0, \"ticks\": \"\"}, \"type\": \"mesh3d\"}], \"parcoords\": [{\"line\": {\"colorbar\": {\"outlinewidth\": 0, \"ticks\": \"\"}}, \"type\": \"parcoords\"}], \"pie\": [{\"automargin\": true, \"type\": \"pie\"}], \"scatter\": [{\"marker\": {\"colorbar\": {\"outlinewidth\": 0, \"ticks\": \"\"}}, \"type\": \"scatter\"}], \"scatter3d\": [{\"line\": {\"colorbar\": {\"outlinewidth\": 0, \"ticks\": \"\"}}, \"marker\": {\"colorbar\": {\"outlinewidth\": 0, \"ticks\": \"\"}}, \"type\": \"scatter3d\"}], \"scattercarpet\": [{\"marker\": {\"colorbar\": {\"outlinewidth\": 0, \"ticks\": \"\"}}, \"type\": \"scattercarpet\"}], \"scattergeo\": [{\"marker\": {\"colorbar\": {\"outlinewidth\": 0, \"ticks\": \"\"}}, \"type\": \"scattergeo\"}], \"scattergl\": [{\"marker\": {\"colorbar\": {\"outlinewidth\": 0, \"ticks\": \"\"}}, \"type\": \"scattergl\"}], \"scattermapbox\": [{\"marker\": {\"colorbar\": {\"outlinewidth\": 0, \"ticks\": \"\"}}, \"type\": \"scattermapbox\"}], \"scatterpolar\": [{\"marker\": {\"colorbar\": {\"outlinewidth\": 0, \"ticks\": \"\"}}, \"type\": \"scatterpolar\"}], \"scatterpolargl\": [{\"marker\": {\"colorbar\": {\"outlinewidth\": 0, \"ticks\": \"\"}}, \"type\": \"scatterpolargl\"}], \"scatterternary\": [{\"marker\": {\"colorbar\": {\"outlinewidth\": 0, \"ticks\": \"\"}}, \"type\": \"scatterternary\"}], \"surface\": [{\"colorbar\": {\"outlinewidth\": 0, \"ticks\": \"\"}, \"colorscale\": [[0.0, \"#0d0887\"], [0.1111111111111111, \"#46039f\"], [0.2222222222222222, \"#7201a8\"], [0.3333333333333333, \"#9c179e\"], [0.4444444444444444, \"#bd3786\"], [0.5555555555555556, \"#d8576b\"], [0.6666666666666666, \"#ed7953\"], [0.7777777777777778, \"#fb9f3a\"], [0.8888888888888888, \"#fdca26\"], [1.0, \"#f0f921\"]], \"type\": \"surface\"}], \"table\": [{\"cells\": {\"fill\": {\"color\": \"#EBF0F8\"}, \"line\": {\"color\": \"white\"}}, \"header\": {\"fill\": {\"color\": \"#C8D4E3\"}, \"line\": {\"color\": \"white\"}}, \"type\": \"table\"}]}, \"layout\": {\"annotationdefaults\": {\"arrowcolor\": \"#2a3f5f\", \"arrowhead\": 0, \"arrowwidth\": 1}, \"coloraxis\": {\"colorbar\": {\"outlinewidth\": 0, \"ticks\": \"\"}}, \"colorscale\": {\"diverging\": [[0, \"#8e0152\"], [0.1, \"#c51b7d\"], [0.2, \"#de77ae\"], [0.3, \"#f1b6da\"], [0.4, \"#fde0ef\"], [0.5, \"#f7f7f7\"], [0.6, \"#e6f5d0\"], [0.7, \"#b8e186\"], [0.8, \"#7fbc41\"], [0.9, \"#4d9221\"], [1, \"#276419\"]], \"sequential\": [[0.0, \"#0d0887\"], [0.1111111111111111, \"#46039f\"], [0.2222222222222222, \"#7201a8\"], [0.3333333333333333, \"#9c179e\"], [0.4444444444444444, \"#bd3786\"], [0.5555555555555556, \"#d8576b\"], [0.6666666666666666, \"#ed7953\"], [0.7777777777777778, \"#fb9f3a\"], [0.8888888888888888, \"#fdca26\"], [1.0, \"#f0f921\"]], \"sequentialminus\": [[0.0, \"#0d0887\"], [0.1111111111111111, \"#46039f\"], [0.2222222222222222, \"#7201a8\"], [0.3333333333333333, \"#9c179e\"], [0.4444444444444444, \"#bd3786\"], [0.5555555555555556, \"#d8576b\"], [0.6666666666666666, \"#ed7953\"], [0.7777777777777778, \"#fb9f3a\"], [0.8888888888888888, \"#fdca26\"], [1.0, \"#f0f921\"]]}, \"colorway\": [\"#636efa\", \"#EF553B\", \"#00cc96\", \"#ab63fa\", \"#FFA15A\", \"#19d3f3\", \"#FF6692\", \"#B6E880\", \"#FF97FF\", \"#FECB52\"], \"font\": {\"color\": \"#2a3f5f\"}, \"geo\": {\"bgcolor\": \"white\", \"lakecolor\": \"white\", \"landcolor\": \"#E5ECF6\", \"showlakes\": true, \"showland\": true, \"subunitcolor\": \"white\"}, \"hoverlabel\": {\"align\": \"left\"}, \"hovermode\": \"closest\", \"mapbox\": {\"style\": \"light\"}, \"paper_bgcolor\": \"white\", \"plot_bgcolor\": \"#E5ECF6\", \"polar\": {\"angularaxis\": {\"gridcolor\": \"white\", \"linecolor\": \"white\", \"ticks\": \"\"}, \"bgcolor\": \"#E5ECF6\", \"radialaxis\": {\"gridcolor\": \"white\", \"linecolor\": \"white\", \"ticks\": \"\"}}, \"scene\": {\"xaxis\": {\"backgroundcolor\": \"#E5ECF6\", \"gridcolor\": \"white\", \"gridwidth\": 2, \"linecolor\": \"white\", \"showbackground\": true, \"ticks\": \"\", \"zerolinecolor\": \"white\"}, \"yaxis\": {\"backgroundcolor\": \"#E5ECF6\", \"gridcolor\": \"white\", \"gridwidth\": 2, \"linecolor\": \"white\", \"showbackground\": true, \"ticks\": \"\", \"zerolinecolor\": \"white\"}, \"zaxis\": {\"backgroundcolor\": \"#E5ECF6\", \"gridcolor\": \"white\", \"gridwidth\": 2, \"linecolor\": \"white\", \"showbackground\": true, \"ticks\": \"\", \"zerolinecolor\": \"white\"}}, \"shapedefaults\": {\"line\": {\"color\": \"#2a3f5f\"}}, \"ternary\": {\"aaxis\": {\"gridcolor\": \"white\", \"linecolor\": \"white\", \"ticks\": \"\"}, \"baxis\": {\"gridcolor\": \"white\", \"linecolor\": \"white\", \"ticks\": \"\"}, \"bgcolor\": \"#E5ECF6\", \"caxis\": {\"gridcolor\": \"white\", \"linecolor\": \"white\", \"ticks\": \"\"}}, \"title\": {\"x\": 0.05}, \"xaxis\": {\"automargin\": true, \"gridcolor\": \"white\", \"linecolor\": \"white\", \"ticks\": \"\", \"title\": {\"standoff\": 15}, \"zerolinecolor\": \"white\", \"zerolinewidth\": 2}, \"yaxis\": {\"automargin\": true, \"gridcolor\": \"white\", \"linecolor\": \"white\", \"ticks\": \"\", \"title\": {\"standoff\": 15}, \"zerolinecolor\": \"white\", \"zerolinewidth\": 2}}}},\n",
       "                        {\"responsive\": true}\n",
       "                    ).then(function(){\n",
       "                            \n",
       "var gd = document.getElementById('d265ea90-f6b6-4f25-baca-1334925077e3');\n",
       "var x = new MutationObserver(function (mutations, observer) {{\n",
       "        var display = window.getComputedStyle(gd).display;\n",
       "        if (!display || display === 'none') {{\n",
       "            console.log([gd, 'removed!']);\n",
       "            Plotly.purge(gd);\n",
       "            observer.disconnect();\n",
       "        }}\n",
       "}});\n",
       "\n",
       "// Listen for the removal of the full notebook cells\n",
       "var notebookContainer = gd.closest('#notebook-container');\n",
       "if (notebookContainer) {{\n",
       "    x.observe(notebookContainer, {childList: true});\n",
       "}}\n",
       "\n",
       "// Listen for the clearing of the current output cell\n",
       "var outputEl = gd.closest('.output');\n",
       "if (outputEl) {{\n",
       "    x.observe(outputEl, {childList: true});\n",
       "}}\n",
       "\n",
       "                        })\n",
       "                };\n",
       "                });\n",
       "            </script>\n",
       "        </div>"
      ]
     },
     "metadata": {},
     "output_type": "display_data"
    }
   ],
   "source": [
    "reload(ol)\n",
    "    \n",
    "# Warsow, random date\n",
    "ol.show_sky_view(system, 52.23196, 21.00672, '2004-04-04')"
   ]
  },
  {
   "cell_type": "markdown",
   "metadata": {},
   "source": [
    "Actuall Sky view from [Stellarium](https://stellarium-web.org/)\n",
    "\n",
    "![stellarium](stellarium.png)"
   ]
  },
  {
   "cell_type": "code",
   "execution_count": null,
   "metadata": {},
   "outputs": [],
   "source": []
  },
  {
   "cell_type": "markdown",
   "metadata": {},
   "source": [
    "Same time but a few different Places"
   ]
  },
  {
   "cell_type": "code",
   "execution_count": 25,
   "metadata": {
    "ExecuteTime": {
     "end_time": "2022-03-21T15:52:20.791543Z",
     "start_time": "2022-03-21T15:52:20.725803Z"
    }
   },
   "outputs": [
    {
     "data": {
      "application/vnd.plotly.v1+json": {
       "config": {
        "plotlyServerURL": "https://plot.ly"
       },
       "data": [
        {
         "customdata": [
          "2008-06-01T04:13:00"
         ],
         "hovertemplate": "%{customdata}<br>z :%{r}<br>A:%{theta}",
         "marker": {
          "opacity": 0.8,
          "size": 10
         },
         "mode": "markers",
         "name": "Mercury",
         "r": [
          114.40992159618999
         ],
         "theta": [
          -20.93423886489274
         ],
         "type": "scatterpolar"
        },
        {
         "customdata": [
          "2008-06-01T04:13:00"
         ],
         "hovertemplate": "%{customdata}<br>z :%{r}<br>A:%{theta}",
         "marker": {
          "opacity": 0.8,
          "size": 10
         },
         "mode": "markers",
         "name": "Venus",
         "r": [
          117.14312295500008
         ],
         "theta": [
          -8.996164220736052
         ],
         "type": "scatterpolar"
        },
        {
         "customdata": [
          "2008-06-01T04:13:00"
         ],
         "hovertemplate": "%{customdata}<br>z :%{r}<br>A:%{theta}",
         "marker": {
          "opacity": 0.8,
          "size": 10
         },
         "mode": "markers",
         "name": "EM",
         "r": [
          125.82251709239661
         ],
         "theta": [
          32.6394854012688
         ],
         "type": "scatterpolar"
        },
        {
         "customdata": [
          "2008-06-01T04:13:00"
         ],
         "hovertemplate": "%{customdata}<br>z :%{r}<br>A:%{theta}",
         "marker": {
          "opacity": 0.8,
          "size": 10
         },
         "mode": "markers",
         "name": "Mars",
         "r": [
          88.15516448192952
         ],
         "theta": [
          -66.87319421849972
         ],
         "type": "scatterpolar"
        },
        {
         "customdata": [
          "2008-06-01T04:13:00"
         ],
         "hovertemplate": "%{customdata}<br>z :%{r}<br>A:%{theta}",
         "marker": {
          "opacity": 0.8,
          "size": 10
         },
         "mode": "markers",
         "name": "Jupiter",
         "r": [
          80.26092945873124
         ],
         "theta": [
          130.15503294589564
         ],
         "type": "scatterpolar"
        },
        {
         "customdata": [
          "2008-06-01T04:13:00"
         ],
         "hovertemplate": "%{customdata}<br>z :%{r}<br>A:%{theta}",
         "marker": {
          "opacity": 0.8,
          "size": 10
         },
         "mode": "markers",
         "name": "Saturn",
         "r": [
          77.81066561596501
         ],
         "theta": [
          -84.11291622390006
         ],
         "type": "scatterpolar"
        },
        {
         "customdata": [
          "2008-06-01T04:13:00"
         ],
         "hovertemplate": "%{customdata}<br>z :%{r}<br>A:%{theta}",
         "marker": {
          "opacity": 0.8,
          "size": 10
         },
         "mode": "markers",
         "name": "Uranus",
         "r": [
          110.56643657857684
         ],
         "theta": [
          76.65839992500126
         ],
         "type": "scatterpolar"
        },
        {
         "customdata": [
          "2008-06-01T04:13:00"
         ],
         "hovertemplate": "%{customdata}<br>z :%{r}<br>A:%{theta}",
         "marker": {
          "opacity": 0.8,
          "size": 10
         },
         "mode": "markers",
         "name": "Neptune",
         "r": [
          96.99400307852726
         ],
         "theta": [
          102.20223737497358
         ],
         "type": "scatterpolar"
        },
        {
         "customdata": [
          "2008-06-01T04:13:00"
         ],
         "hovertemplate": "%{customdata}<br>z :%{r}<br>A:%{theta}",
         "marker": {
          "opacity": 0.8,
          "size": 10
         },
         "mode": "markers",
         "name": "Pluto",
         "r": [
          64.50226932760778
         ],
         "theta": [
          146.9213734183221
         ],
         "type": "scatterpolar"
        },
        {
         "customdata": [
          "2008-06-01T04:13:00"
         ],
         "hovertemplate": "%{customdata}<br>z :%{r}<br>A:%{theta}",
         "marker": {
          "opacity": 0.8,
          "size": 10
         },
         "mode": "markers",
         "name": "Earth",
         "r": [
          null
         ],
         "theta": [
          null
         ],
         "type": "scatterpolar"
        },
        {
         "customdata": [
          "2008-06-01T04:13:00"
         ],
         "hovertemplate": "%{customdata}<br>z :%{r}<br>A:%{theta}",
         "marker": {
          "opacity": 0.8,
          "size": 10
         },
         "mode": "markers",
         "name": "Moon",
         "r": [
          125.82251709240275
         ],
         "theta": [
          32.639485401165054
         ],
         "type": "scatterpolar"
        }
       ],
       "layout": {
        "polar": {
         "radialaxis": {
          "range": [
           0,
           90
          ]
         }
        },
        "template": {
         "data": {
          "bar": [
           {
            "error_x": {
             "color": "#2a3f5f"
            },
            "error_y": {
             "color": "#2a3f5f"
            },
            "marker": {
             "line": {
              "color": "#E5ECF6",
              "width": 0.5
             }
            },
            "type": "bar"
           }
          ],
          "barpolar": [
           {
            "marker": {
             "line": {
              "color": "#E5ECF6",
              "width": 0.5
             }
            },
            "type": "barpolar"
           }
          ],
          "carpet": [
           {
            "aaxis": {
             "endlinecolor": "#2a3f5f",
             "gridcolor": "white",
             "linecolor": "white",
             "minorgridcolor": "white",
             "startlinecolor": "#2a3f5f"
            },
            "baxis": {
             "endlinecolor": "#2a3f5f",
             "gridcolor": "white",
             "linecolor": "white",
             "minorgridcolor": "white",
             "startlinecolor": "#2a3f5f"
            },
            "type": "carpet"
           }
          ],
          "choropleth": [
           {
            "colorbar": {
             "outlinewidth": 0,
             "ticks": ""
            },
            "type": "choropleth"
           }
          ],
          "contour": [
           {
            "colorbar": {
             "outlinewidth": 0,
             "ticks": ""
            },
            "colorscale": [
             [
              0,
              "#0d0887"
             ],
             [
              0.1111111111111111,
              "#46039f"
             ],
             [
              0.2222222222222222,
              "#7201a8"
             ],
             [
              0.3333333333333333,
              "#9c179e"
             ],
             [
              0.4444444444444444,
              "#bd3786"
             ],
             [
              0.5555555555555556,
              "#d8576b"
             ],
             [
              0.6666666666666666,
              "#ed7953"
             ],
             [
              0.7777777777777778,
              "#fb9f3a"
             ],
             [
              0.8888888888888888,
              "#fdca26"
             ],
             [
              1,
              "#f0f921"
             ]
            ],
            "type": "contour"
           }
          ],
          "contourcarpet": [
           {
            "colorbar": {
             "outlinewidth": 0,
             "ticks": ""
            },
            "type": "contourcarpet"
           }
          ],
          "heatmap": [
           {
            "colorbar": {
             "outlinewidth": 0,
             "ticks": ""
            },
            "colorscale": [
             [
              0,
              "#0d0887"
             ],
             [
              0.1111111111111111,
              "#46039f"
             ],
             [
              0.2222222222222222,
              "#7201a8"
             ],
             [
              0.3333333333333333,
              "#9c179e"
             ],
             [
              0.4444444444444444,
              "#bd3786"
             ],
             [
              0.5555555555555556,
              "#d8576b"
             ],
             [
              0.6666666666666666,
              "#ed7953"
             ],
             [
              0.7777777777777778,
              "#fb9f3a"
             ],
             [
              0.8888888888888888,
              "#fdca26"
             ],
             [
              1,
              "#f0f921"
             ]
            ],
            "type": "heatmap"
           }
          ],
          "heatmapgl": [
           {
            "colorbar": {
             "outlinewidth": 0,
             "ticks": ""
            },
            "colorscale": [
             [
              0,
              "#0d0887"
             ],
             [
              0.1111111111111111,
              "#46039f"
             ],
             [
              0.2222222222222222,
              "#7201a8"
             ],
             [
              0.3333333333333333,
              "#9c179e"
             ],
             [
              0.4444444444444444,
              "#bd3786"
             ],
             [
              0.5555555555555556,
              "#d8576b"
             ],
             [
              0.6666666666666666,
              "#ed7953"
             ],
             [
              0.7777777777777778,
              "#fb9f3a"
             ],
             [
              0.8888888888888888,
              "#fdca26"
             ],
             [
              1,
              "#f0f921"
             ]
            ],
            "type": "heatmapgl"
           }
          ],
          "histogram": [
           {
            "marker": {
             "colorbar": {
              "outlinewidth": 0,
              "ticks": ""
             }
            },
            "type": "histogram"
           }
          ],
          "histogram2d": [
           {
            "colorbar": {
             "outlinewidth": 0,
             "ticks": ""
            },
            "colorscale": [
             [
              0,
              "#0d0887"
             ],
             [
              0.1111111111111111,
              "#46039f"
             ],
             [
              0.2222222222222222,
              "#7201a8"
             ],
             [
              0.3333333333333333,
              "#9c179e"
             ],
             [
              0.4444444444444444,
              "#bd3786"
             ],
             [
              0.5555555555555556,
              "#d8576b"
             ],
             [
              0.6666666666666666,
              "#ed7953"
             ],
             [
              0.7777777777777778,
              "#fb9f3a"
             ],
             [
              0.8888888888888888,
              "#fdca26"
             ],
             [
              1,
              "#f0f921"
             ]
            ],
            "type": "histogram2d"
           }
          ],
          "histogram2dcontour": [
           {
            "colorbar": {
             "outlinewidth": 0,
             "ticks": ""
            },
            "colorscale": [
             [
              0,
              "#0d0887"
             ],
             [
              0.1111111111111111,
              "#46039f"
             ],
             [
              0.2222222222222222,
              "#7201a8"
             ],
             [
              0.3333333333333333,
              "#9c179e"
             ],
             [
              0.4444444444444444,
              "#bd3786"
             ],
             [
              0.5555555555555556,
              "#d8576b"
             ],
             [
              0.6666666666666666,
              "#ed7953"
             ],
             [
              0.7777777777777778,
              "#fb9f3a"
             ],
             [
              0.8888888888888888,
              "#fdca26"
             ],
             [
              1,
              "#f0f921"
             ]
            ],
            "type": "histogram2dcontour"
           }
          ],
          "mesh3d": [
           {
            "colorbar": {
             "outlinewidth": 0,
             "ticks": ""
            },
            "type": "mesh3d"
           }
          ],
          "parcoords": [
           {
            "line": {
             "colorbar": {
              "outlinewidth": 0,
              "ticks": ""
             }
            },
            "type": "parcoords"
           }
          ],
          "pie": [
           {
            "automargin": true,
            "type": "pie"
           }
          ],
          "scatter": [
           {
            "marker": {
             "colorbar": {
              "outlinewidth": 0,
              "ticks": ""
             }
            },
            "type": "scatter"
           }
          ],
          "scatter3d": [
           {
            "line": {
             "colorbar": {
              "outlinewidth": 0,
              "ticks": ""
             }
            },
            "marker": {
             "colorbar": {
              "outlinewidth": 0,
              "ticks": ""
             }
            },
            "type": "scatter3d"
           }
          ],
          "scattercarpet": [
           {
            "marker": {
             "colorbar": {
              "outlinewidth": 0,
              "ticks": ""
             }
            },
            "type": "scattercarpet"
           }
          ],
          "scattergeo": [
           {
            "marker": {
             "colorbar": {
              "outlinewidth": 0,
              "ticks": ""
             }
            },
            "type": "scattergeo"
           }
          ],
          "scattergl": [
           {
            "marker": {
             "colorbar": {
              "outlinewidth": 0,
              "ticks": ""
             }
            },
            "type": "scattergl"
           }
          ],
          "scattermapbox": [
           {
            "marker": {
             "colorbar": {
              "outlinewidth": 0,
              "ticks": ""
             }
            },
            "type": "scattermapbox"
           }
          ],
          "scatterpolar": [
           {
            "marker": {
             "colorbar": {
              "outlinewidth": 0,
              "ticks": ""
             }
            },
            "type": "scatterpolar"
           }
          ],
          "scatterpolargl": [
           {
            "marker": {
             "colorbar": {
              "outlinewidth": 0,
              "ticks": ""
             }
            },
            "type": "scatterpolargl"
           }
          ],
          "scatterternary": [
           {
            "marker": {
             "colorbar": {
              "outlinewidth": 0,
              "ticks": ""
             }
            },
            "type": "scatterternary"
           }
          ],
          "surface": [
           {
            "colorbar": {
             "outlinewidth": 0,
             "ticks": ""
            },
            "colorscale": [
             [
              0,
              "#0d0887"
             ],
             [
              0.1111111111111111,
              "#46039f"
             ],
             [
              0.2222222222222222,
              "#7201a8"
             ],
             [
              0.3333333333333333,
              "#9c179e"
             ],
             [
              0.4444444444444444,
              "#bd3786"
             ],
             [
              0.5555555555555556,
              "#d8576b"
             ],
             [
              0.6666666666666666,
              "#ed7953"
             ],
             [
              0.7777777777777778,
              "#fb9f3a"
             ],
             [
              0.8888888888888888,
              "#fdca26"
             ],
             [
              1,
              "#f0f921"
             ]
            ],
            "type": "surface"
           }
          ],
          "table": [
           {
            "cells": {
             "fill": {
              "color": "#EBF0F8"
             },
             "line": {
              "color": "white"
             }
            },
            "header": {
             "fill": {
              "color": "#C8D4E3"
             },
             "line": {
              "color": "white"
             }
            },
            "type": "table"
           }
          ]
         },
         "layout": {
          "annotationdefaults": {
           "arrowcolor": "#2a3f5f",
           "arrowhead": 0,
           "arrowwidth": 1
          },
          "coloraxis": {
           "colorbar": {
            "outlinewidth": 0,
            "ticks": ""
           }
          },
          "colorscale": {
           "diverging": [
            [
             0,
             "#8e0152"
            ],
            [
             0.1,
             "#c51b7d"
            ],
            [
             0.2,
             "#de77ae"
            ],
            [
             0.3,
             "#f1b6da"
            ],
            [
             0.4,
             "#fde0ef"
            ],
            [
             0.5,
             "#f7f7f7"
            ],
            [
             0.6,
             "#e6f5d0"
            ],
            [
             0.7,
             "#b8e186"
            ],
            [
             0.8,
             "#7fbc41"
            ],
            [
             0.9,
             "#4d9221"
            ],
            [
             1,
             "#276419"
            ]
           ],
           "sequential": [
            [
             0,
             "#0d0887"
            ],
            [
             0.1111111111111111,
             "#46039f"
            ],
            [
             0.2222222222222222,
             "#7201a8"
            ],
            [
             0.3333333333333333,
             "#9c179e"
            ],
            [
             0.4444444444444444,
             "#bd3786"
            ],
            [
             0.5555555555555556,
             "#d8576b"
            ],
            [
             0.6666666666666666,
             "#ed7953"
            ],
            [
             0.7777777777777778,
             "#fb9f3a"
            ],
            [
             0.8888888888888888,
             "#fdca26"
            ],
            [
             1,
             "#f0f921"
            ]
           ],
           "sequentialminus": [
            [
             0,
             "#0d0887"
            ],
            [
             0.1111111111111111,
             "#46039f"
            ],
            [
             0.2222222222222222,
             "#7201a8"
            ],
            [
             0.3333333333333333,
             "#9c179e"
            ],
            [
             0.4444444444444444,
             "#bd3786"
            ],
            [
             0.5555555555555556,
             "#d8576b"
            ],
            [
             0.6666666666666666,
             "#ed7953"
            ],
            [
             0.7777777777777778,
             "#fb9f3a"
            ],
            [
             0.8888888888888888,
             "#fdca26"
            ],
            [
             1,
             "#f0f921"
            ]
           ]
          },
          "colorway": [
           "#636efa",
           "#EF553B",
           "#00cc96",
           "#ab63fa",
           "#FFA15A",
           "#19d3f3",
           "#FF6692",
           "#B6E880",
           "#FF97FF",
           "#FECB52"
          ],
          "font": {
           "color": "#2a3f5f"
          },
          "geo": {
           "bgcolor": "white",
           "lakecolor": "white",
           "landcolor": "#E5ECF6",
           "showlakes": true,
           "showland": true,
           "subunitcolor": "white"
          },
          "hoverlabel": {
           "align": "left"
          },
          "hovermode": "closest",
          "mapbox": {
           "style": "light"
          },
          "paper_bgcolor": "white",
          "plot_bgcolor": "#E5ECF6",
          "polar": {
           "angularaxis": {
            "gridcolor": "white",
            "linecolor": "white",
            "ticks": ""
           },
           "bgcolor": "#E5ECF6",
           "radialaxis": {
            "gridcolor": "white",
            "linecolor": "white",
            "ticks": ""
           }
          },
          "scene": {
           "xaxis": {
            "backgroundcolor": "#E5ECF6",
            "gridcolor": "white",
            "gridwidth": 2,
            "linecolor": "white",
            "showbackground": true,
            "ticks": "",
            "zerolinecolor": "white"
           },
           "yaxis": {
            "backgroundcolor": "#E5ECF6",
            "gridcolor": "white",
            "gridwidth": 2,
            "linecolor": "white",
            "showbackground": true,
            "ticks": "",
            "zerolinecolor": "white"
           },
           "zaxis": {
            "backgroundcolor": "#E5ECF6",
            "gridcolor": "white",
            "gridwidth": 2,
            "linecolor": "white",
            "showbackground": true,
            "ticks": "",
            "zerolinecolor": "white"
           }
          },
          "shapedefaults": {
           "line": {
            "color": "#2a3f5f"
           }
          },
          "ternary": {
           "aaxis": {
            "gridcolor": "white",
            "linecolor": "white",
            "ticks": ""
           },
           "baxis": {
            "gridcolor": "white",
            "linecolor": "white",
            "ticks": ""
           },
           "bgcolor": "#E5ECF6",
           "caxis": {
            "gridcolor": "white",
            "linecolor": "white",
            "ticks": ""
           }
          },
          "title": {
           "x": 0.05
          },
          "xaxis": {
           "automargin": true,
           "gridcolor": "white",
           "linecolor": "white",
           "ticks": "",
           "title": {
            "standoff": 15
           },
           "zerolinecolor": "white",
           "zerolinewidth": 2
          },
          "yaxis": {
           "automargin": true,
           "gridcolor": "white",
           "linecolor": "white",
           "ticks": "",
           "title": {
            "standoff": 15
           },
           "zerolinecolor": "white",
           "zerolinewidth": 2
          }
         }
        }
       }
      },
      "text/html": [
       "<div>\n",
       "        \n",
       "        \n",
       "            <div id=\"d52ea89b-eb34-4551-93f6-3277dcdd062e\" class=\"plotly-graph-div\" style=\"height:525px; width:100%;\"></div>\n",
       "            <script type=\"text/javascript\">\n",
       "                require([\"plotly\"], function(Plotly) {\n",
       "                    window.PLOTLYENV=window.PLOTLYENV || {};\n",
       "                    \n",
       "                if (document.getElementById(\"d52ea89b-eb34-4551-93f6-3277dcdd062e\")) {\n",
       "                    Plotly.newPlot(\n",
       "                        'd52ea89b-eb34-4551-93f6-3277dcdd062e',\n",
       "                        [{\"customdata\": [\"2008-06-01T04:13:00\"], \"hovertemplate\": \"%{customdata}<br>z :%{r}<br>A:%{theta}\", \"marker\": {\"opacity\": 0.8, \"size\": 10}, \"mode\": \"markers\", \"name\": \"Mercury\", \"r\": [114.40992159618999], \"theta\": [-20.93423886489274], \"type\": \"scatterpolar\"}, {\"customdata\": [\"2008-06-01T04:13:00\"], \"hovertemplate\": \"%{customdata}<br>z :%{r}<br>A:%{theta}\", \"marker\": {\"opacity\": 0.8, \"size\": 10}, \"mode\": \"markers\", \"name\": \"Venus\", \"r\": [117.14312295500008], \"theta\": [-8.996164220736052], \"type\": \"scatterpolar\"}, {\"customdata\": [\"2008-06-01T04:13:00\"], \"hovertemplate\": \"%{customdata}<br>z :%{r}<br>A:%{theta}\", \"marker\": {\"opacity\": 0.8, \"size\": 10}, \"mode\": \"markers\", \"name\": \"EM\", \"r\": [125.82251709239661], \"theta\": [32.6394854012688], \"type\": \"scatterpolar\"}, {\"customdata\": [\"2008-06-01T04:13:00\"], \"hovertemplate\": \"%{customdata}<br>z :%{r}<br>A:%{theta}\", \"marker\": {\"opacity\": 0.8, \"size\": 10}, \"mode\": \"markers\", \"name\": \"Mars\", \"r\": [88.15516448192952], \"theta\": [-66.87319421849972], \"type\": \"scatterpolar\"}, {\"customdata\": [\"2008-06-01T04:13:00\"], \"hovertemplate\": \"%{customdata}<br>z :%{r}<br>A:%{theta}\", \"marker\": {\"opacity\": 0.8, \"size\": 10}, \"mode\": \"markers\", \"name\": \"Jupiter\", \"r\": [80.26092945873124], \"theta\": [130.15503294589564], \"type\": \"scatterpolar\"}, {\"customdata\": [\"2008-06-01T04:13:00\"], \"hovertemplate\": \"%{customdata}<br>z :%{r}<br>A:%{theta}\", \"marker\": {\"opacity\": 0.8, \"size\": 10}, \"mode\": \"markers\", \"name\": \"Saturn\", \"r\": [77.81066561596501], \"theta\": [-84.11291622390006], \"type\": \"scatterpolar\"}, {\"customdata\": [\"2008-06-01T04:13:00\"], \"hovertemplate\": \"%{customdata}<br>z :%{r}<br>A:%{theta}\", \"marker\": {\"opacity\": 0.8, \"size\": 10}, \"mode\": \"markers\", \"name\": \"Uranus\", \"r\": [110.56643657857684], \"theta\": [76.65839992500126], \"type\": \"scatterpolar\"}, {\"customdata\": [\"2008-06-01T04:13:00\"], \"hovertemplate\": \"%{customdata}<br>z :%{r}<br>A:%{theta}\", \"marker\": {\"opacity\": 0.8, \"size\": 10}, \"mode\": \"markers\", \"name\": \"Neptune\", \"r\": [96.99400307852726], \"theta\": [102.20223737497358], \"type\": \"scatterpolar\"}, {\"customdata\": [\"2008-06-01T04:13:00\"], \"hovertemplate\": \"%{customdata}<br>z :%{r}<br>A:%{theta}\", \"marker\": {\"opacity\": 0.8, \"size\": 10}, \"mode\": \"markers\", \"name\": \"Pluto\", \"r\": [64.50226932760778], \"theta\": [146.9213734183221], \"type\": \"scatterpolar\"}, {\"customdata\": [\"2008-06-01T04:13:00\"], \"hovertemplate\": \"%{customdata}<br>z :%{r}<br>A:%{theta}\", \"marker\": {\"opacity\": 0.8, \"size\": 10}, \"mode\": \"markers\", \"name\": \"Earth\", \"r\": [null], \"theta\": [null], \"type\": \"scatterpolar\"}, {\"customdata\": [\"2008-06-01T04:13:00\"], \"hovertemplate\": \"%{customdata}<br>z :%{r}<br>A:%{theta}\", \"marker\": {\"opacity\": 0.8, \"size\": 10}, \"mode\": \"markers\", \"name\": \"Moon\", \"r\": [125.82251709240275], \"theta\": [32.639485401165054], \"type\": \"scatterpolar\"}],\n",
       "                        {\"polar\": {\"radialaxis\": {\"range\": [0, 90]}}, \"template\": {\"data\": {\"bar\": [{\"error_x\": {\"color\": \"#2a3f5f\"}, \"error_y\": {\"color\": \"#2a3f5f\"}, \"marker\": {\"line\": {\"color\": \"#E5ECF6\", \"width\": 0.5}}, \"type\": \"bar\"}], \"barpolar\": [{\"marker\": {\"line\": {\"color\": \"#E5ECF6\", \"width\": 0.5}}, \"type\": \"barpolar\"}], \"carpet\": [{\"aaxis\": {\"endlinecolor\": \"#2a3f5f\", \"gridcolor\": \"white\", \"linecolor\": \"white\", \"minorgridcolor\": \"white\", \"startlinecolor\": \"#2a3f5f\"}, \"baxis\": {\"endlinecolor\": \"#2a3f5f\", \"gridcolor\": \"white\", \"linecolor\": \"white\", \"minorgridcolor\": \"white\", \"startlinecolor\": \"#2a3f5f\"}, \"type\": \"carpet\"}], \"choropleth\": [{\"colorbar\": {\"outlinewidth\": 0, \"ticks\": \"\"}, \"type\": \"choropleth\"}], \"contour\": [{\"colorbar\": {\"outlinewidth\": 0, \"ticks\": \"\"}, \"colorscale\": [[0.0, \"#0d0887\"], [0.1111111111111111, \"#46039f\"], [0.2222222222222222, \"#7201a8\"], [0.3333333333333333, \"#9c179e\"], [0.4444444444444444, \"#bd3786\"], [0.5555555555555556, \"#d8576b\"], [0.6666666666666666, \"#ed7953\"], [0.7777777777777778, \"#fb9f3a\"], [0.8888888888888888, \"#fdca26\"], [1.0, \"#f0f921\"]], \"type\": \"contour\"}], \"contourcarpet\": [{\"colorbar\": {\"outlinewidth\": 0, \"ticks\": \"\"}, \"type\": \"contourcarpet\"}], \"heatmap\": [{\"colorbar\": {\"outlinewidth\": 0, \"ticks\": \"\"}, \"colorscale\": [[0.0, \"#0d0887\"], [0.1111111111111111, \"#46039f\"], [0.2222222222222222, \"#7201a8\"], [0.3333333333333333, \"#9c179e\"], [0.4444444444444444, \"#bd3786\"], [0.5555555555555556, \"#d8576b\"], [0.6666666666666666, \"#ed7953\"], [0.7777777777777778, \"#fb9f3a\"], [0.8888888888888888, \"#fdca26\"], [1.0, \"#f0f921\"]], \"type\": \"heatmap\"}], \"heatmapgl\": [{\"colorbar\": {\"outlinewidth\": 0, \"ticks\": \"\"}, \"colorscale\": [[0.0, \"#0d0887\"], [0.1111111111111111, \"#46039f\"], [0.2222222222222222, \"#7201a8\"], [0.3333333333333333, \"#9c179e\"], [0.4444444444444444, \"#bd3786\"], [0.5555555555555556, \"#d8576b\"], [0.6666666666666666, \"#ed7953\"], [0.7777777777777778, \"#fb9f3a\"], [0.8888888888888888, \"#fdca26\"], [1.0, \"#f0f921\"]], \"type\": \"heatmapgl\"}], \"histogram\": [{\"marker\": {\"colorbar\": {\"outlinewidth\": 0, \"ticks\": \"\"}}, \"type\": \"histogram\"}], \"histogram2d\": [{\"colorbar\": {\"outlinewidth\": 0, \"ticks\": \"\"}, \"colorscale\": [[0.0, \"#0d0887\"], [0.1111111111111111, \"#46039f\"], [0.2222222222222222, \"#7201a8\"], [0.3333333333333333, \"#9c179e\"], [0.4444444444444444, \"#bd3786\"], [0.5555555555555556, \"#d8576b\"], [0.6666666666666666, \"#ed7953\"], [0.7777777777777778, \"#fb9f3a\"], [0.8888888888888888, \"#fdca26\"], [1.0, \"#f0f921\"]], \"type\": \"histogram2d\"}], \"histogram2dcontour\": [{\"colorbar\": {\"outlinewidth\": 0, \"ticks\": \"\"}, \"colorscale\": [[0.0, \"#0d0887\"], [0.1111111111111111, \"#46039f\"], [0.2222222222222222, \"#7201a8\"], [0.3333333333333333, \"#9c179e\"], [0.4444444444444444, \"#bd3786\"], [0.5555555555555556, \"#d8576b\"], [0.6666666666666666, \"#ed7953\"], [0.7777777777777778, \"#fb9f3a\"], [0.8888888888888888, \"#fdca26\"], [1.0, \"#f0f921\"]], \"type\": \"histogram2dcontour\"}], \"mesh3d\": [{\"colorbar\": {\"outlinewidth\": 0, \"ticks\": \"\"}, \"type\": \"mesh3d\"}], \"parcoords\": [{\"line\": {\"colorbar\": {\"outlinewidth\": 0, \"ticks\": \"\"}}, \"type\": \"parcoords\"}], \"pie\": [{\"automargin\": true, \"type\": \"pie\"}], \"scatter\": [{\"marker\": {\"colorbar\": {\"outlinewidth\": 0, \"ticks\": \"\"}}, \"type\": \"scatter\"}], \"scatter3d\": [{\"line\": {\"colorbar\": {\"outlinewidth\": 0, \"ticks\": \"\"}}, \"marker\": {\"colorbar\": {\"outlinewidth\": 0, \"ticks\": \"\"}}, \"type\": \"scatter3d\"}], \"scattercarpet\": [{\"marker\": {\"colorbar\": {\"outlinewidth\": 0, \"ticks\": \"\"}}, \"type\": \"scattercarpet\"}], \"scattergeo\": [{\"marker\": {\"colorbar\": {\"outlinewidth\": 0, \"ticks\": \"\"}}, \"type\": \"scattergeo\"}], \"scattergl\": [{\"marker\": {\"colorbar\": {\"outlinewidth\": 0, \"ticks\": \"\"}}, \"type\": \"scattergl\"}], \"scattermapbox\": [{\"marker\": {\"colorbar\": {\"outlinewidth\": 0, \"ticks\": \"\"}}, \"type\": \"scattermapbox\"}], \"scatterpolar\": [{\"marker\": {\"colorbar\": {\"outlinewidth\": 0, \"ticks\": \"\"}}, \"type\": \"scatterpolar\"}], \"scatterpolargl\": [{\"marker\": {\"colorbar\": {\"outlinewidth\": 0, \"ticks\": \"\"}}, \"type\": \"scatterpolargl\"}], \"scatterternary\": [{\"marker\": {\"colorbar\": {\"outlinewidth\": 0, \"ticks\": \"\"}}, \"type\": \"scatterternary\"}], \"surface\": [{\"colorbar\": {\"outlinewidth\": 0, \"ticks\": \"\"}, \"colorscale\": [[0.0, \"#0d0887\"], [0.1111111111111111, \"#46039f\"], [0.2222222222222222, \"#7201a8\"], [0.3333333333333333, \"#9c179e\"], [0.4444444444444444, \"#bd3786\"], [0.5555555555555556, \"#d8576b\"], [0.6666666666666666, \"#ed7953\"], [0.7777777777777778, \"#fb9f3a\"], [0.8888888888888888, \"#fdca26\"], [1.0, \"#f0f921\"]], \"type\": \"surface\"}], \"table\": [{\"cells\": {\"fill\": {\"color\": \"#EBF0F8\"}, \"line\": {\"color\": \"white\"}}, \"header\": {\"fill\": {\"color\": \"#C8D4E3\"}, \"line\": {\"color\": \"white\"}}, \"type\": \"table\"}]}, \"layout\": {\"annotationdefaults\": {\"arrowcolor\": \"#2a3f5f\", \"arrowhead\": 0, \"arrowwidth\": 1}, \"coloraxis\": {\"colorbar\": {\"outlinewidth\": 0, \"ticks\": \"\"}}, \"colorscale\": {\"diverging\": [[0, \"#8e0152\"], [0.1, \"#c51b7d\"], [0.2, \"#de77ae\"], [0.3, \"#f1b6da\"], [0.4, \"#fde0ef\"], [0.5, \"#f7f7f7\"], [0.6, \"#e6f5d0\"], [0.7, \"#b8e186\"], [0.8, \"#7fbc41\"], [0.9, \"#4d9221\"], [1, \"#276419\"]], \"sequential\": [[0.0, \"#0d0887\"], [0.1111111111111111, \"#46039f\"], [0.2222222222222222, \"#7201a8\"], [0.3333333333333333, \"#9c179e\"], [0.4444444444444444, \"#bd3786\"], [0.5555555555555556, \"#d8576b\"], [0.6666666666666666, \"#ed7953\"], [0.7777777777777778, \"#fb9f3a\"], [0.8888888888888888, \"#fdca26\"], [1.0, \"#f0f921\"]], \"sequentialminus\": [[0.0, \"#0d0887\"], [0.1111111111111111, \"#46039f\"], [0.2222222222222222, \"#7201a8\"], [0.3333333333333333, \"#9c179e\"], [0.4444444444444444, \"#bd3786\"], [0.5555555555555556, \"#d8576b\"], [0.6666666666666666, \"#ed7953\"], [0.7777777777777778, \"#fb9f3a\"], [0.8888888888888888, \"#fdca26\"], [1.0, \"#f0f921\"]]}, \"colorway\": [\"#636efa\", \"#EF553B\", \"#00cc96\", \"#ab63fa\", \"#FFA15A\", \"#19d3f3\", \"#FF6692\", \"#B6E880\", \"#FF97FF\", \"#FECB52\"], \"font\": {\"color\": \"#2a3f5f\"}, \"geo\": {\"bgcolor\": \"white\", \"lakecolor\": \"white\", \"landcolor\": \"#E5ECF6\", \"showlakes\": true, \"showland\": true, \"subunitcolor\": \"white\"}, \"hoverlabel\": {\"align\": \"left\"}, \"hovermode\": \"closest\", \"mapbox\": {\"style\": \"light\"}, \"paper_bgcolor\": \"white\", \"plot_bgcolor\": \"#E5ECF6\", \"polar\": {\"angularaxis\": {\"gridcolor\": \"white\", \"linecolor\": \"white\", \"ticks\": \"\"}, \"bgcolor\": \"#E5ECF6\", \"radialaxis\": {\"gridcolor\": \"white\", \"linecolor\": \"white\", \"ticks\": \"\"}}, \"scene\": {\"xaxis\": {\"backgroundcolor\": \"#E5ECF6\", \"gridcolor\": \"white\", \"gridwidth\": 2, \"linecolor\": \"white\", \"showbackground\": true, \"ticks\": \"\", \"zerolinecolor\": \"white\"}, \"yaxis\": {\"backgroundcolor\": \"#E5ECF6\", \"gridcolor\": \"white\", \"gridwidth\": 2, \"linecolor\": \"white\", \"showbackground\": true, \"ticks\": \"\", \"zerolinecolor\": \"white\"}, \"zaxis\": {\"backgroundcolor\": \"#E5ECF6\", \"gridcolor\": \"white\", \"gridwidth\": 2, \"linecolor\": \"white\", \"showbackground\": true, \"ticks\": \"\", \"zerolinecolor\": \"white\"}}, \"shapedefaults\": {\"line\": {\"color\": \"#2a3f5f\"}}, \"ternary\": {\"aaxis\": {\"gridcolor\": \"white\", \"linecolor\": \"white\", \"ticks\": \"\"}, \"baxis\": {\"gridcolor\": \"white\", \"linecolor\": \"white\", \"ticks\": \"\"}, \"bgcolor\": \"#E5ECF6\", \"caxis\": {\"gridcolor\": \"white\", \"linecolor\": \"white\", \"ticks\": \"\"}}, \"title\": {\"x\": 0.05}, \"xaxis\": {\"automargin\": true, \"gridcolor\": \"white\", \"linecolor\": \"white\", \"ticks\": \"\", \"title\": {\"standoff\": 15}, \"zerolinecolor\": \"white\", \"zerolinewidth\": 2}, \"yaxis\": {\"automargin\": true, \"gridcolor\": \"white\", \"linecolor\": \"white\", \"ticks\": \"\", \"title\": {\"standoff\": 15}, \"zerolinecolor\": \"white\", \"zerolinewidth\": 2}}}},\n",
       "                        {\"responsive\": true}\n",
       "                    ).then(function(){\n",
       "                            \n",
       "var gd = document.getElementById('d52ea89b-eb34-4551-93f6-3277dcdd062e');\n",
       "var x = new MutationObserver(function (mutations, observer) {{\n",
       "        var display = window.getComputedStyle(gd).display;\n",
       "        if (!display || display === 'none') {{\n",
       "            console.log([gd, 'removed!']);\n",
       "            Plotly.purge(gd);\n",
       "            observer.disconnect();\n",
       "        }}\n",
       "}});\n",
       "\n",
       "// Listen for the removal of the full notebook cells\n",
       "var notebookContainer = gd.closest('#notebook-container');\n",
       "if (notebookContainer) {{\n",
       "    x.observe(notebookContainer, {childList: true});\n",
       "}}\n",
       "\n",
       "// Listen for the clearing of the current output cell\n",
       "var outputEl = gd.closest('.output');\n",
       "if (outputEl) {{\n",
       "    x.observe(outputEl, {childList: true});\n",
       "}}\n",
       "\n",
       "                        })\n",
       "                };\n",
       "                });\n",
       "            </script>\n",
       "        </div>"
      ]
     },
     "metadata": {},
     "output_type": "display_data"
    }
   ],
   "source": [
    "# New York (EDT = UTC-4) , random date\n",
    "ol.show_sky_view(system, 40.71273, -74.00602, '2008-06-01 4:13')"
   ]
  },
  {
   "cell_type": "markdown",
   "metadata": {},
   "source": [
    "![NewYork](NewYork.png)"
   ]
  },
  {
   "cell_type": "code",
   "execution_count": null,
   "metadata": {},
   "outputs": [],
   "source": []
  },
  {
   "cell_type": "code",
   "execution_count": 26,
   "metadata": {
    "ExecuteTime": {
     "end_time": "2022-03-21T16:18:32.661393Z",
     "start_time": "2022-03-21T16:18:32.588382Z"
    }
   },
   "outputs": [
    {
     "data": {
      "application/vnd.plotly.v1+json": {
       "config": {
        "plotlyServerURL": "https://plot.ly"
       },
       "data": [
        {
         "customdata": [
          "2008-06-01T04:13:00"
         ],
         "hovertemplate": "%{customdata}<br>z :%{r}<br>A:%{theta}",
         "marker": {
          "opacity": 0.8,
          "size": 10
         },
         "mode": "markers",
         "name": "Mercury",
         "r": [
          60.62340282130832
         ],
         "theta": [
          -26.364797619851867
         ],
         "type": "scatterpolar"
        },
        {
         "customdata": [
          "2008-06-01T04:13:00"
         ],
         "hovertemplate": "%{customdata}<br>z :%{r}<br>A:%{theta}",
         "marker": {
          "opacity": 0.8,
          "size": 10
         },
         "mode": "markers",
         "name": "Venus",
         "r": [
          65.5265263120872
         ],
         "theta": [
          -37.52728846617609
         ],
         "type": "scatterpolar"
        },
        {
         "customdata": [
          "2008-06-01T04:13:00"
         ],
         "hovertemplate": "%{customdata}<br>z :%{r}<br>A:%{theta}",
         "marker": {
          "opacity": 0.8,
          "size": 10
         },
         "mode": "markers",
         "name": "EM",
         "r": [
          79.24819403407697
         ],
         "theta": [
          -72.9133719431492
         ],
         "type": "scatterpolar"
        },
        {
         "customdata": [
          "2008-06-01T04:13:00"
         ],
         "hovertemplate": "%{customdata}<br>z :%{r}<br>A:%{theta}",
         "marker": {
          "opacity": 0.8,
          "size": 10
         },
         "mode": "markers",
         "name": "Mars",
         "r": [
          60.00814451273094
         ],
         "theta": [
          33.893325345539864
         ],
         "type": "scatterpolar"
        },
        {
         "customdata": [
          "2008-06-01T04:13:00"
         ],
         "hovertemplate": "%{customdata}<br>z :%{r}<br>A:%{theta}",
         "marker": {
          "opacity": 0.8,
          "size": 10
         },
         "mode": "markers",
         "name": "Jupiter",
         "r": [
          123.68580041553263
         ],
         "theta": [
          -169.94403861230035
         ],
         "type": "scatterpolar"
        },
        {
         "customdata": [
          "2008-06-01T04:13:00"
         ],
         "hovertemplate": "%{customdata}<br>z :%{r}<br>A:%{theta}",
         "marker": {
          "opacity": 0.8,
          "size": 10
         },
         "mode": "markers",
         "name": "Saturn",
         "r": [
          66.50041933364143
         ],
         "theta": [
          55.08926468374548
         ],
         "type": "scatterpolar"
        },
        {
         "customdata": [
          "2008-06-01T04:13:00"
         ],
         "hovertemplate": "%{customdata}<br>z :%{r}<br>A:%{theta}",
         "marker": {
          "opacity": 0.8,
          "size": 10
         },
         "mode": "markers",
         "name": "Uranus",
         "r": [
          105.21394070847951
         ],
         "theta": [
          -105.30845559366249
         ],
         "type": "scatterpolar"
        },
        {
         "customdata": [
          "2008-06-01T04:13:00"
         ],
         "hovertemplate": "%{customdata}<br>z :%{r}<br>A:%{theta}",
         "marker": {
          "opacity": 0.8,
          "size": 10
         },
         "mode": "markers",
         "name": "Neptune",
         "r": [
          117.71725406024784
         ],
         "theta": [
          -132.59337662318535
         ],
         "type": "scatterpolar"
        },
        {
         "customdata": [
          "2008-06-01T04:13:00"
         ],
         "hovertemplate": "%{customdata}<br>z :%{r}<br>A:%{theta}",
         "marker": {
          "opacity": 0.8,
          "size": 10
         },
         "mode": "markers",
         "name": "Pluto",
         "r": [
          127.36408171797709
         ],
         "theta": [
          162.8162626675308
         ],
         "type": "scatterpolar"
        },
        {
         "customdata": [
          "2008-06-01T04:13:00"
         ],
         "hovertemplate": "%{customdata}<br>z :%{r}<br>A:%{theta}",
         "marker": {
          "opacity": 0.8,
          "size": 10
         },
         "mode": "markers",
         "name": "Earth",
         "r": [
          null
         ],
         "theta": [
          null
         ],
         "type": "scatterpolar"
        },
        {
         "customdata": [
          "2008-06-01T04:13:00"
         ],
         "hovertemplate": "%{customdata}<br>z :%{r}<br>A:%{theta}",
         "marker": {
          "opacity": 0.8,
          "size": 10
         },
         "mode": "markers",
         "name": "Moon",
         "r": [
          79.24819403403096
         ],
         "theta": [
          -72.91337194307727
         ],
         "type": "scatterpolar"
        }
       ],
       "layout": {
        "polar": {
         "radialaxis": {
          "range": [
           0,
           90
          ]
         }
        },
        "template": {
         "data": {
          "bar": [
           {
            "error_x": {
             "color": "#2a3f5f"
            },
            "error_y": {
             "color": "#2a3f5f"
            },
            "marker": {
             "line": {
              "color": "#E5ECF6",
              "width": 0.5
             }
            },
            "type": "bar"
           }
          ],
          "barpolar": [
           {
            "marker": {
             "line": {
              "color": "#E5ECF6",
              "width": 0.5
             }
            },
            "type": "barpolar"
           }
          ],
          "carpet": [
           {
            "aaxis": {
             "endlinecolor": "#2a3f5f",
             "gridcolor": "white",
             "linecolor": "white",
             "minorgridcolor": "white",
             "startlinecolor": "#2a3f5f"
            },
            "baxis": {
             "endlinecolor": "#2a3f5f",
             "gridcolor": "white",
             "linecolor": "white",
             "minorgridcolor": "white",
             "startlinecolor": "#2a3f5f"
            },
            "type": "carpet"
           }
          ],
          "choropleth": [
           {
            "colorbar": {
             "outlinewidth": 0,
             "ticks": ""
            },
            "type": "choropleth"
           }
          ],
          "contour": [
           {
            "colorbar": {
             "outlinewidth": 0,
             "ticks": ""
            },
            "colorscale": [
             [
              0,
              "#0d0887"
             ],
             [
              0.1111111111111111,
              "#46039f"
             ],
             [
              0.2222222222222222,
              "#7201a8"
             ],
             [
              0.3333333333333333,
              "#9c179e"
             ],
             [
              0.4444444444444444,
              "#bd3786"
             ],
             [
              0.5555555555555556,
              "#d8576b"
             ],
             [
              0.6666666666666666,
              "#ed7953"
             ],
             [
              0.7777777777777778,
              "#fb9f3a"
             ],
             [
              0.8888888888888888,
              "#fdca26"
             ],
             [
              1,
              "#f0f921"
             ]
            ],
            "type": "contour"
           }
          ],
          "contourcarpet": [
           {
            "colorbar": {
             "outlinewidth": 0,
             "ticks": ""
            },
            "type": "contourcarpet"
           }
          ],
          "heatmap": [
           {
            "colorbar": {
             "outlinewidth": 0,
             "ticks": ""
            },
            "colorscale": [
             [
              0,
              "#0d0887"
             ],
             [
              0.1111111111111111,
              "#46039f"
             ],
             [
              0.2222222222222222,
              "#7201a8"
             ],
             [
              0.3333333333333333,
              "#9c179e"
             ],
             [
              0.4444444444444444,
              "#bd3786"
             ],
             [
              0.5555555555555556,
              "#d8576b"
             ],
             [
              0.6666666666666666,
              "#ed7953"
             ],
             [
              0.7777777777777778,
              "#fb9f3a"
             ],
             [
              0.8888888888888888,
              "#fdca26"
             ],
             [
              1,
              "#f0f921"
             ]
            ],
            "type": "heatmap"
           }
          ],
          "heatmapgl": [
           {
            "colorbar": {
             "outlinewidth": 0,
             "ticks": ""
            },
            "colorscale": [
             [
              0,
              "#0d0887"
             ],
             [
              0.1111111111111111,
              "#46039f"
             ],
             [
              0.2222222222222222,
              "#7201a8"
             ],
             [
              0.3333333333333333,
              "#9c179e"
             ],
             [
              0.4444444444444444,
              "#bd3786"
             ],
             [
              0.5555555555555556,
              "#d8576b"
             ],
             [
              0.6666666666666666,
              "#ed7953"
             ],
             [
              0.7777777777777778,
              "#fb9f3a"
             ],
             [
              0.8888888888888888,
              "#fdca26"
             ],
             [
              1,
              "#f0f921"
             ]
            ],
            "type": "heatmapgl"
           }
          ],
          "histogram": [
           {
            "marker": {
             "colorbar": {
              "outlinewidth": 0,
              "ticks": ""
             }
            },
            "type": "histogram"
           }
          ],
          "histogram2d": [
           {
            "colorbar": {
             "outlinewidth": 0,
             "ticks": ""
            },
            "colorscale": [
             [
              0,
              "#0d0887"
             ],
             [
              0.1111111111111111,
              "#46039f"
             ],
             [
              0.2222222222222222,
              "#7201a8"
             ],
             [
              0.3333333333333333,
              "#9c179e"
             ],
             [
              0.4444444444444444,
              "#bd3786"
             ],
             [
              0.5555555555555556,
              "#d8576b"
             ],
             [
              0.6666666666666666,
              "#ed7953"
             ],
             [
              0.7777777777777778,
              "#fb9f3a"
             ],
             [
              0.8888888888888888,
              "#fdca26"
             ],
             [
              1,
              "#f0f921"
             ]
            ],
            "type": "histogram2d"
           }
          ],
          "histogram2dcontour": [
           {
            "colorbar": {
             "outlinewidth": 0,
             "ticks": ""
            },
            "colorscale": [
             [
              0,
              "#0d0887"
             ],
             [
              0.1111111111111111,
              "#46039f"
             ],
             [
              0.2222222222222222,
              "#7201a8"
             ],
             [
              0.3333333333333333,
              "#9c179e"
             ],
             [
              0.4444444444444444,
              "#bd3786"
             ],
             [
              0.5555555555555556,
              "#d8576b"
             ],
             [
              0.6666666666666666,
              "#ed7953"
             ],
             [
              0.7777777777777778,
              "#fb9f3a"
             ],
             [
              0.8888888888888888,
              "#fdca26"
             ],
             [
              1,
              "#f0f921"
             ]
            ],
            "type": "histogram2dcontour"
           }
          ],
          "mesh3d": [
           {
            "colorbar": {
             "outlinewidth": 0,
             "ticks": ""
            },
            "type": "mesh3d"
           }
          ],
          "parcoords": [
           {
            "line": {
             "colorbar": {
              "outlinewidth": 0,
              "ticks": ""
             }
            },
            "type": "parcoords"
           }
          ],
          "pie": [
           {
            "automargin": true,
            "type": "pie"
           }
          ],
          "scatter": [
           {
            "marker": {
             "colorbar": {
              "outlinewidth": 0,
              "ticks": ""
             }
            },
            "type": "scatter"
           }
          ],
          "scatter3d": [
           {
            "line": {
             "colorbar": {
              "outlinewidth": 0,
              "ticks": ""
             }
            },
            "marker": {
             "colorbar": {
              "outlinewidth": 0,
              "ticks": ""
             }
            },
            "type": "scatter3d"
           }
          ],
          "scattercarpet": [
           {
            "marker": {
             "colorbar": {
              "outlinewidth": 0,
              "ticks": ""
             }
            },
            "type": "scattercarpet"
           }
          ],
          "scattergeo": [
           {
            "marker": {
             "colorbar": {
              "outlinewidth": 0,
              "ticks": ""
             }
            },
            "type": "scattergeo"
           }
          ],
          "scattergl": [
           {
            "marker": {
             "colorbar": {
              "outlinewidth": 0,
              "ticks": ""
             }
            },
            "type": "scattergl"
           }
          ],
          "scattermapbox": [
           {
            "marker": {
             "colorbar": {
              "outlinewidth": 0,
              "ticks": ""
             }
            },
            "type": "scattermapbox"
           }
          ],
          "scatterpolar": [
           {
            "marker": {
             "colorbar": {
              "outlinewidth": 0,
              "ticks": ""
             }
            },
            "type": "scatterpolar"
           }
          ],
          "scatterpolargl": [
           {
            "marker": {
             "colorbar": {
              "outlinewidth": 0,
              "ticks": ""
             }
            },
            "type": "scatterpolargl"
           }
          ],
          "scatterternary": [
           {
            "marker": {
             "colorbar": {
              "outlinewidth": 0,
              "ticks": ""
             }
            },
            "type": "scatterternary"
           }
          ],
          "surface": [
           {
            "colorbar": {
             "outlinewidth": 0,
             "ticks": ""
            },
            "colorscale": [
             [
              0,
              "#0d0887"
             ],
             [
              0.1111111111111111,
              "#46039f"
             ],
             [
              0.2222222222222222,
              "#7201a8"
             ],
             [
              0.3333333333333333,
              "#9c179e"
             ],
             [
              0.4444444444444444,
              "#bd3786"
             ],
             [
              0.5555555555555556,
              "#d8576b"
             ],
             [
              0.6666666666666666,
              "#ed7953"
             ],
             [
              0.7777777777777778,
              "#fb9f3a"
             ],
             [
              0.8888888888888888,
              "#fdca26"
             ],
             [
              1,
              "#f0f921"
             ]
            ],
            "type": "surface"
           }
          ],
          "table": [
           {
            "cells": {
             "fill": {
              "color": "#EBF0F8"
             },
             "line": {
              "color": "white"
             }
            },
            "header": {
             "fill": {
              "color": "#C8D4E3"
             },
             "line": {
              "color": "white"
             }
            },
            "type": "table"
           }
          ]
         },
         "layout": {
          "annotationdefaults": {
           "arrowcolor": "#2a3f5f",
           "arrowhead": 0,
           "arrowwidth": 1
          },
          "coloraxis": {
           "colorbar": {
            "outlinewidth": 0,
            "ticks": ""
           }
          },
          "colorscale": {
           "diverging": [
            [
             0,
             "#8e0152"
            ],
            [
             0.1,
             "#c51b7d"
            ],
            [
             0.2,
             "#de77ae"
            ],
            [
             0.3,
             "#f1b6da"
            ],
            [
             0.4,
             "#fde0ef"
            ],
            [
             0.5,
             "#f7f7f7"
            ],
            [
             0.6,
             "#e6f5d0"
            ],
            [
             0.7,
             "#b8e186"
            ],
            [
             0.8,
             "#7fbc41"
            ],
            [
             0.9,
             "#4d9221"
            ],
            [
             1,
             "#276419"
            ]
           ],
           "sequential": [
            [
             0,
             "#0d0887"
            ],
            [
             0.1111111111111111,
             "#46039f"
            ],
            [
             0.2222222222222222,
             "#7201a8"
            ],
            [
             0.3333333333333333,
             "#9c179e"
            ],
            [
             0.4444444444444444,
             "#bd3786"
            ],
            [
             0.5555555555555556,
             "#d8576b"
            ],
            [
             0.6666666666666666,
             "#ed7953"
            ],
            [
             0.7777777777777778,
             "#fb9f3a"
            ],
            [
             0.8888888888888888,
             "#fdca26"
            ],
            [
             1,
             "#f0f921"
            ]
           ],
           "sequentialminus": [
            [
             0,
             "#0d0887"
            ],
            [
             0.1111111111111111,
             "#46039f"
            ],
            [
             0.2222222222222222,
             "#7201a8"
            ],
            [
             0.3333333333333333,
             "#9c179e"
            ],
            [
             0.4444444444444444,
             "#bd3786"
            ],
            [
             0.5555555555555556,
             "#d8576b"
            ],
            [
             0.6666666666666666,
             "#ed7953"
            ],
            [
             0.7777777777777778,
             "#fb9f3a"
            ],
            [
             0.8888888888888888,
             "#fdca26"
            ],
            [
             1,
             "#f0f921"
            ]
           ]
          },
          "colorway": [
           "#636efa",
           "#EF553B",
           "#00cc96",
           "#ab63fa",
           "#FFA15A",
           "#19d3f3",
           "#FF6692",
           "#B6E880",
           "#FF97FF",
           "#FECB52"
          ],
          "font": {
           "color": "#2a3f5f"
          },
          "geo": {
           "bgcolor": "white",
           "lakecolor": "white",
           "landcolor": "#E5ECF6",
           "showlakes": true,
           "showland": true,
           "subunitcolor": "white"
          },
          "hoverlabel": {
           "align": "left"
          },
          "hovermode": "closest",
          "mapbox": {
           "style": "light"
          },
          "paper_bgcolor": "white",
          "plot_bgcolor": "#E5ECF6",
          "polar": {
           "angularaxis": {
            "gridcolor": "white",
            "linecolor": "white",
            "ticks": ""
           },
           "bgcolor": "#E5ECF6",
           "radialaxis": {
            "gridcolor": "white",
            "linecolor": "white",
            "ticks": ""
           }
          },
          "scene": {
           "xaxis": {
            "backgroundcolor": "#E5ECF6",
            "gridcolor": "white",
            "gridwidth": 2,
            "linecolor": "white",
            "showbackground": true,
            "ticks": "",
            "zerolinecolor": "white"
           },
           "yaxis": {
            "backgroundcolor": "#E5ECF6",
            "gridcolor": "white",
            "gridwidth": 2,
            "linecolor": "white",
            "showbackground": true,
            "ticks": "",
            "zerolinecolor": "white"
           },
           "zaxis": {
            "backgroundcolor": "#E5ECF6",
            "gridcolor": "white",
            "gridwidth": 2,
            "linecolor": "white",
            "showbackground": true,
            "ticks": "",
            "zerolinecolor": "white"
           }
          },
          "shapedefaults": {
           "line": {
            "color": "#2a3f5f"
           }
          },
          "ternary": {
           "aaxis": {
            "gridcolor": "white",
            "linecolor": "white",
            "ticks": ""
           },
           "baxis": {
            "gridcolor": "white",
            "linecolor": "white",
            "ticks": ""
           },
           "bgcolor": "#E5ECF6",
           "caxis": {
            "gridcolor": "white",
            "linecolor": "white",
            "ticks": ""
           }
          },
          "title": {
           "x": 0.05
          },
          "xaxis": {
           "automargin": true,
           "gridcolor": "white",
           "linecolor": "white",
           "ticks": "",
           "title": {
            "standoff": 15
           },
           "zerolinecolor": "white",
           "zerolinewidth": 2
          },
          "yaxis": {
           "automargin": true,
           "gridcolor": "white",
           "linecolor": "white",
           "ticks": "",
           "title": {
            "standoff": 15
           },
           "zerolinecolor": "white",
           "zerolinewidth": 2
          }
         }
        }
       }
      },
      "text/html": [
       "<div>\n",
       "        \n",
       "        \n",
       "            <div id=\"cea7de4f-335b-4f9e-be2a-902e39c35e3c\" class=\"plotly-graph-div\" style=\"height:525px; width:100%;\"></div>\n",
       "            <script type=\"text/javascript\">\n",
       "                require([\"plotly\"], function(Plotly) {\n",
       "                    window.PLOTLYENV=window.PLOTLYENV || {};\n",
       "                    \n",
       "                if (document.getElementById(\"cea7de4f-335b-4f9e-be2a-902e39c35e3c\")) {\n",
       "                    Plotly.newPlot(\n",
       "                        'cea7de4f-335b-4f9e-be2a-902e39c35e3c',\n",
       "                        [{\"customdata\": [\"2008-06-01T04:13:00\"], \"hovertemplate\": \"%{customdata}<br>z :%{r}<br>A:%{theta}\", \"marker\": {\"opacity\": 0.8, \"size\": 10}, \"mode\": \"markers\", \"name\": \"Mercury\", \"r\": [60.62340282130832], \"theta\": [-26.364797619851867], \"type\": \"scatterpolar\"}, {\"customdata\": [\"2008-06-01T04:13:00\"], \"hovertemplate\": \"%{customdata}<br>z :%{r}<br>A:%{theta}\", \"marker\": {\"opacity\": 0.8, \"size\": 10}, \"mode\": \"markers\", \"name\": \"Venus\", \"r\": [65.5265263120872], \"theta\": [-37.52728846617609], \"type\": \"scatterpolar\"}, {\"customdata\": [\"2008-06-01T04:13:00\"], \"hovertemplate\": \"%{customdata}<br>z :%{r}<br>A:%{theta}\", \"marker\": {\"opacity\": 0.8, \"size\": 10}, \"mode\": \"markers\", \"name\": \"EM\", \"r\": [79.24819403407697], \"theta\": [-72.9133719431492], \"type\": \"scatterpolar\"}, {\"customdata\": [\"2008-06-01T04:13:00\"], \"hovertemplate\": \"%{customdata}<br>z :%{r}<br>A:%{theta}\", \"marker\": {\"opacity\": 0.8, \"size\": 10}, \"mode\": \"markers\", \"name\": \"Mars\", \"r\": [60.00814451273094], \"theta\": [33.893325345539864], \"type\": \"scatterpolar\"}, {\"customdata\": [\"2008-06-01T04:13:00\"], \"hovertemplate\": \"%{customdata}<br>z :%{r}<br>A:%{theta}\", \"marker\": {\"opacity\": 0.8, \"size\": 10}, \"mode\": \"markers\", \"name\": \"Jupiter\", \"r\": [123.68580041553263], \"theta\": [-169.94403861230035], \"type\": \"scatterpolar\"}, {\"customdata\": [\"2008-06-01T04:13:00\"], \"hovertemplate\": \"%{customdata}<br>z :%{r}<br>A:%{theta}\", \"marker\": {\"opacity\": 0.8, \"size\": 10}, \"mode\": \"markers\", \"name\": \"Saturn\", \"r\": [66.50041933364143], \"theta\": [55.08926468374548], \"type\": \"scatterpolar\"}, {\"customdata\": [\"2008-06-01T04:13:00\"], \"hovertemplate\": \"%{customdata}<br>z :%{r}<br>A:%{theta}\", \"marker\": {\"opacity\": 0.8, \"size\": 10}, \"mode\": \"markers\", \"name\": \"Uranus\", \"r\": [105.21394070847951], \"theta\": [-105.30845559366249], \"type\": \"scatterpolar\"}, {\"customdata\": [\"2008-06-01T04:13:00\"], \"hovertemplate\": \"%{customdata}<br>z :%{r}<br>A:%{theta}\", \"marker\": {\"opacity\": 0.8, \"size\": 10}, \"mode\": \"markers\", \"name\": \"Neptune\", \"r\": [117.71725406024784], \"theta\": [-132.59337662318535], \"type\": \"scatterpolar\"}, {\"customdata\": [\"2008-06-01T04:13:00\"], \"hovertemplate\": \"%{customdata}<br>z :%{r}<br>A:%{theta}\", \"marker\": {\"opacity\": 0.8, \"size\": 10}, \"mode\": \"markers\", \"name\": \"Pluto\", \"r\": [127.36408171797709], \"theta\": [162.8162626675308], \"type\": \"scatterpolar\"}, {\"customdata\": [\"2008-06-01T04:13:00\"], \"hovertemplate\": \"%{customdata}<br>z :%{r}<br>A:%{theta}\", \"marker\": {\"opacity\": 0.8, \"size\": 10}, \"mode\": \"markers\", \"name\": \"Earth\", \"r\": [null], \"theta\": [null], \"type\": \"scatterpolar\"}, {\"customdata\": [\"2008-06-01T04:13:00\"], \"hovertemplate\": \"%{customdata}<br>z :%{r}<br>A:%{theta}\", \"marker\": {\"opacity\": 0.8, \"size\": 10}, \"mode\": \"markers\", \"name\": \"Moon\", \"r\": [79.24819403403096], \"theta\": [-72.91337194307727], \"type\": \"scatterpolar\"}],\n",
       "                        {\"polar\": {\"radialaxis\": {\"range\": [0, 90]}}, \"template\": {\"data\": {\"bar\": [{\"error_x\": {\"color\": \"#2a3f5f\"}, \"error_y\": {\"color\": \"#2a3f5f\"}, \"marker\": {\"line\": {\"color\": \"#E5ECF6\", \"width\": 0.5}}, \"type\": \"bar\"}], \"barpolar\": [{\"marker\": {\"line\": {\"color\": \"#E5ECF6\", \"width\": 0.5}}, \"type\": \"barpolar\"}], \"carpet\": [{\"aaxis\": {\"endlinecolor\": \"#2a3f5f\", \"gridcolor\": \"white\", \"linecolor\": \"white\", \"minorgridcolor\": \"white\", \"startlinecolor\": \"#2a3f5f\"}, \"baxis\": {\"endlinecolor\": \"#2a3f5f\", \"gridcolor\": \"white\", \"linecolor\": \"white\", \"minorgridcolor\": \"white\", \"startlinecolor\": \"#2a3f5f\"}, \"type\": \"carpet\"}], \"choropleth\": [{\"colorbar\": {\"outlinewidth\": 0, \"ticks\": \"\"}, \"type\": \"choropleth\"}], \"contour\": [{\"colorbar\": {\"outlinewidth\": 0, \"ticks\": \"\"}, \"colorscale\": [[0.0, \"#0d0887\"], [0.1111111111111111, \"#46039f\"], [0.2222222222222222, \"#7201a8\"], [0.3333333333333333, \"#9c179e\"], [0.4444444444444444, \"#bd3786\"], [0.5555555555555556, \"#d8576b\"], [0.6666666666666666, \"#ed7953\"], [0.7777777777777778, \"#fb9f3a\"], [0.8888888888888888, \"#fdca26\"], [1.0, \"#f0f921\"]], \"type\": \"contour\"}], \"contourcarpet\": [{\"colorbar\": {\"outlinewidth\": 0, \"ticks\": \"\"}, \"type\": \"contourcarpet\"}], \"heatmap\": [{\"colorbar\": {\"outlinewidth\": 0, \"ticks\": \"\"}, \"colorscale\": [[0.0, \"#0d0887\"], [0.1111111111111111, \"#46039f\"], [0.2222222222222222, \"#7201a8\"], [0.3333333333333333, \"#9c179e\"], [0.4444444444444444, \"#bd3786\"], [0.5555555555555556, \"#d8576b\"], [0.6666666666666666, \"#ed7953\"], [0.7777777777777778, \"#fb9f3a\"], [0.8888888888888888, \"#fdca26\"], [1.0, \"#f0f921\"]], \"type\": \"heatmap\"}], \"heatmapgl\": [{\"colorbar\": {\"outlinewidth\": 0, \"ticks\": \"\"}, \"colorscale\": [[0.0, \"#0d0887\"], [0.1111111111111111, \"#46039f\"], [0.2222222222222222, \"#7201a8\"], [0.3333333333333333, \"#9c179e\"], [0.4444444444444444, \"#bd3786\"], [0.5555555555555556, \"#d8576b\"], [0.6666666666666666, \"#ed7953\"], [0.7777777777777778, \"#fb9f3a\"], [0.8888888888888888, \"#fdca26\"], [1.0, \"#f0f921\"]], \"type\": \"heatmapgl\"}], \"histogram\": [{\"marker\": {\"colorbar\": {\"outlinewidth\": 0, \"ticks\": \"\"}}, \"type\": \"histogram\"}], \"histogram2d\": [{\"colorbar\": {\"outlinewidth\": 0, \"ticks\": \"\"}, \"colorscale\": [[0.0, \"#0d0887\"], [0.1111111111111111, \"#46039f\"], [0.2222222222222222, \"#7201a8\"], [0.3333333333333333, \"#9c179e\"], [0.4444444444444444, \"#bd3786\"], [0.5555555555555556, \"#d8576b\"], [0.6666666666666666, \"#ed7953\"], [0.7777777777777778, \"#fb9f3a\"], [0.8888888888888888, \"#fdca26\"], [1.0, \"#f0f921\"]], \"type\": \"histogram2d\"}], \"histogram2dcontour\": [{\"colorbar\": {\"outlinewidth\": 0, \"ticks\": \"\"}, \"colorscale\": [[0.0, \"#0d0887\"], [0.1111111111111111, \"#46039f\"], [0.2222222222222222, \"#7201a8\"], [0.3333333333333333, \"#9c179e\"], [0.4444444444444444, \"#bd3786\"], [0.5555555555555556, \"#d8576b\"], [0.6666666666666666, \"#ed7953\"], [0.7777777777777778, \"#fb9f3a\"], [0.8888888888888888, \"#fdca26\"], [1.0, \"#f0f921\"]], \"type\": \"histogram2dcontour\"}], \"mesh3d\": [{\"colorbar\": {\"outlinewidth\": 0, \"ticks\": \"\"}, \"type\": \"mesh3d\"}], \"parcoords\": [{\"line\": {\"colorbar\": {\"outlinewidth\": 0, \"ticks\": \"\"}}, \"type\": \"parcoords\"}], \"pie\": [{\"automargin\": true, \"type\": \"pie\"}], \"scatter\": [{\"marker\": {\"colorbar\": {\"outlinewidth\": 0, \"ticks\": \"\"}}, \"type\": \"scatter\"}], \"scatter3d\": [{\"line\": {\"colorbar\": {\"outlinewidth\": 0, \"ticks\": \"\"}}, \"marker\": {\"colorbar\": {\"outlinewidth\": 0, \"ticks\": \"\"}}, \"type\": \"scatter3d\"}], \"scattercarpet\": [{\"marker\": {\"colorbar\": {\"outlinewidth\": 0, \"ticks\": \"\"}}, \"type\": \"scattercarpet\"}], \"scattergeo\": [{\"marker\": {\"colorbar\": {\"outlinewidth\": 0, \"ticks\": \"\"}}, \"type\": \"scattergeo\"}], \"scattergl\": [{\"marker\": {\"colorbar\": {\"outlinewidth\": 0, \"ticks\": \"\"}}, \"type\": \"scattergl\"}], \"scattermapbox\": [{\"marker\": {\"colorbar\": {\"outlinewidth\": 0, \"ticks\": \"\"}}, \"type\": \"scattermapbox\"}], \"scatterpolar\": [{\"marker\": {\"colorbar\": {\"outlinewidth\": 0, \"ticks\": \"\"}}, \"type\": \"scatterpolar\"}], \"scatterpolargl\": [{\"marker\": {\"colorbar\": {\"outlinewidth\": 0, \"ticks\": \"\"}}, \"type\": \"scatterpolargl\"}], \"scatterternary\": [{\"marker\": {\"colorbar\": {\"outlinewidth\": 0, \"ticks\": \"\"}}, \"type\": \"scatterternary\"}], \"surface\": [{\"colorbar\": {\"outlinewidth\": 0, \"ticks\": \"\"}, \"colorscale\": [[0.0, \"#0d0887\"], [0.1111111111111111, \"#46039f\"], [0.2222222222222222, \"#7201a8\"], [0.3333333333333333, \"#9c179e\"], [0.4444444444444444, \"#bd3786\"], [0.5555555555555556, \"#d8576b\"], [0.6666666666666666, \"#ed7953\"], [0.7777777777777778, \"#fb9f3a\"], [0.8888888888888888, \"#fdca26\"], [1.0, \"#f0f921\"]], \"type\": \"surface\"}], \"table\": [{\"cells\": {\"fill\": {\"color\": \"#EBF0F8\"}, \"line\": {\"color\": \"white\"}}, \"header\": {\"fill\": {\"color\": \"#C8D4E3\"}, \"line\": {\"color\": \"white\"}}, \"type\": \"table\"}]}, \"layout\": {\"annotationdefaults\": {\"arrowcolor\": \"#2a3f5f\", \"arrowhead\": 0, \"arrowwidth\": 1}, \"coloraxis\": {\"colorbar\": {\"outlinewidth\": 0, \"ticks\": \"\"}}, \"colorscale\": {\"diverging\": [[0, \"#8e0152\"], [0.1, \"#c51b7d\"], [0.2, \"#de77ae\"], [0.3, \"#f1b6da\"], [0.4, \"#fde0ef\"], [0.5, \"#f7f7f7\"], [0.6, \"#e6f5d0\"], [0.7, \"#b8e186\"], [0.8, \"#7fbc41\"], [0.9, \"#4d9221\"], [1, \"#276419\"]], \"sequential\": [[0.0, \"#0d0887\"], [0.1111111111111111, \"#46039f\"], [0.2222222222222222, \"#7201a8\"], [0.3333333333333333, \"#9c179e\"], [0.4444444444444444, \"#bd3786\"], [0.5555555555555556, \"#d8576b\"], [0.6666666666666666, \"#ed7953\"], [0.7777777777777778, \"#fb9f3a\"], [0.8888888888888888, \"#fdca26\"], [1.0, \"#f0f921\"]], \"sequentialminus\": [[0.0, \"#0d0887\"], [0.1111111111111111, \"#46039f\"], [0.2222222222222222, \"#7201a8\"], [0.3333333333333333, \"#9c179e\"], [0.4444444444444444, \"#bd3786\"], [0.5555555555555556, \"#d8576b\"], [0.6666666666666666, \"#ed7953\"], [0.7777777777777778, \"#fb9f3a\"], [0.8888888888888888, \"#fdca26\"], [1.0, \"#f0f921\"]]}, \"colorway\": [\"#636efa\", \"#EF553B\", \"#00cc96\", \"#ab63fa\", \"#FFA15A\", \"#19d3f3\", \"#FF6692\", \"#B6E880\", \"#FF97FF\", \"#FECB52\"], \"font\": {\"color\": \"#2a3f5f\"}, \"geo\": {\"bgcolor\": \"white\", \"lakecolor\": \"white\", \"landcolor\": \"#E5ECF6\", \"showlakes\": true, \"showland\": true, \"subunitcolor\": \"white\"}, \"hoverlabel\": {\"align\": \"left\"}, \"hovermode\": \"closest\", \"mapbox\": {\"style\": \"light\"}, \"paper_bgcolor\": \"white\", \"plot_bgcolor\": \"#E5ECF6\", \"polar\": {\"angularaxis\": {\"gridcolor\": \"white\", \"linecolor\": \"white\", \"ticks\": \"\"}, \"bgcolor\": \"#E5ECF6\", \"radialaxis\": {\"gridcolor\": \"white\", \"linecolor\": \"white\", \"ticks\": \"\"}}, \"scene\": {\"xaxis\": {\"backgroundcolor\": \"#E5ECF6\", \"gridcolor\": \"white\", \"gridwidth\": 2, \"linecolor\": \"white\", \"showbackground\": true, \"ticks\": \"\", \"zerolinecolor\": \"white\"}, \"yaxis\": {\"backgroundcolor\": \"#E5ECF6\", \"gridcolor\": \"white\", \"gridwidth\": 2, \"linecolor\": \"white\", \"showbackground\": true, \"ticks\": \"\", \"zerolinecolor\": \"white\"}, \"zaxis\": {\"backgroundcolor\": \"#E5ECF6\", \"gridcolor\": \"white\", \"gridwidth\": 2, \"linecolor\": \"white\", \"showbackground\": true, \"ticks\": \"\", \"zerolinecolor\": \"white\"}}, \"shapedefaults\": {\"line\": {\"color\": \"#2a3f5f\"}}, \"ternary\": {\"aaxis\": {\"gridcolor\": \"white\", \"linecolor\": \"white\", \"ticks\": \"\"}, \"baxis\": {\"gridcolor\": \"white\", \"linecolor\": \"white\", \"ticks\": \"\"}, \"bgcolor\": \"#E5ECF6\", \"caxis\": {\"gridcolor\": \"white\", \"linecolor\": \"white\", \"ticks\": \"\"}}, \"title\": {\"x\": 0.05}, \"xaxis\": {\"automargin\": true, \"gridcolor\": \"white\", \"linecolor\": \"white\", \"ticks\": \"\", \"title\": {\"standoff\": 15}, \"zerolinecolor\": \"white\", \"zerolinewidth\": 2}, \"yaxis\": {\"automargin\": true, \"gridcolor\": \"white\", \"linecolor\": \"white\", \"ticks\": \"\", \"title\": {\"standoff\": 15}, \"zerolinecolor\": \"white\", \"zerolinewidth\": 2}}}},\n",
       "                        {\"responsive\": true}\n",
       "                    ).then(function(){\n",
       "                            \n",
       "var gd = document.getElementById('cea7de4f-335b-4f9e-be2a-902e39c35e3c');\n",
       "var x = new MutationObserver(function (mutations, observer) {{\n",
       "        var display = window.getComputedStyle(gd).display;\n",
       "        if (!display || display === 'none') {{\n",
       "            console.log([gd, 'removed!']);\n",
       "            Plotly.purge(gd);\n",
       "            observer.disconnect();\n",
       "        }}\n",
       "}});\n",
       "\n",
       "// Listen for the removal of the full notebook cells\n",
       "var notebookContainer = gd.closest('#notebook-container');\n",
       "if (notebookContainer) {{\n",
       "    x.observe(notebookContainer, {childList: true});\n",
       "}}\n",
       "\n",
       "// Listen for the clearing of the current output cell\n",
       "var outputEl = gd.closest('.output');\n",
       "if (outputEl) {{\n",
       "    x.observe(outputEl, {childList: true});\n",
       "}}\n",
       "\n",
       "                        })\n",
       "                };\n",
       "                });\n",
       "            </script>\n",
       "        </div>"
      ]
     },
     "metadata": {},
     "output_type": "display_data"
    }
   ],
   "source": [
    "# Sydney (EDT = UTC-4) , random date\n",
    "ol.show_sky_view(system, -33.85482, 151.21645, '2008-06-01 4:13')"
   ]
  },
  {
   "cell_type": "markdown",
   "metadata": {},
   "source": [
    "![Sydney](Sydney.png)"
   ]
  },
  {
   "cell_type": "code",
   "execution_count": null,
   "metadata": {},
   "outputs": [],
   "source": []
  },
  {
   "cell_type": "code",
   "execution_count": null,
   "metadata": {},
   "outputs": [],
   "source": []
  },
  {
   "cell_type": "code",
   "execution_count": 44,
   "metadata": {
    "ExecuteTime": {
     "end_time": "2022-03-21T16:37:04.993408Z",
     "start_time": "2022-03-21T16:37:04.899558Z"
    }
   },
   "outputs": [
    {
     "data": {
      "application/vnd.plotly.v1+json": {
       "config": {
        "plotlyServerURL": "https://plot.ly"
       },
       "data": [
        {
         "customdata": [
          "2004-04-04T23:00:00",
          "2004-04-04T23:10:00",
          "2004-04-04T23:20:00",
          "2004-04-04T23:30:00",
          "2004-04-04T23:40:00",
          "2004-04-04T23:50:00",
          "2004-04-05T00:00:00",
          "2004-04-05T00:10:00",
          "2004-04-05T00:20:00",
          "2004-04-05T00:30:00",
          "2004-04-05T00:40:00",
          "2004-04-05T00:50:00",
          "2004-04-05T01:00:00"
         ],
         "hovertemplate": "%{customdata}<br>z :%{r}<br>A:%{theta}",
         "marker": {
          "opacity": 0.8,
          "size": 10
         },
         "mode": "markers",
         "name": "Mercury",
         "r": [
          112.281397955303,
          112.49265500865276,
          112.63445383919563,
          112.70630859721632,
          112.70797104613696,
          112.63943431249464,
          112.5009329819332,
          112.2929395376303,
          112.01615727316603,
          111.67150993881937,
          111.26012849045848,
          110.78333539804179,
          110.24262703050009
         ],
         "theta": [
          -9.245903896578362,
          -6.639139234191645,
          -4.02355160228385,
          -1.4025857238499648,
          1.2202351141913739,
          3.841360248651728,
          6.457263669131474,
          9.064495287929677,
          11.65972989021908,
          14.239812342058615,
          16.801797846838564,
          19.342986309713638,
          21.86095018185186
         ],
         "type": "scatterpolar"
        },
        {
         "customdata": [
          "2004-04-04T23:00:00",
          "2004-04-04T23:10:00",
          "2004-04-04T23:20:00",
          "2004-04-04T23:30:00",
          "2004-04-04T23:40:00",
          "2004-04-04T23:50:00",
          "2004-04-05T00:00:00",
          "2004-04-05T00:10:00",
          "2004-04-05T00:20:00",
          "2004-04-05T00:30:00",
          "2004-04-05T00:40:00",
          "2004-04-05T00:50:00",
          "2004-04-05T01:00:00"
         ],
         "hovertemplate": "%{customdata}<br>z :%{r}<br>A:%{theta}",
         "marker": {
          "opacity": 0.8,
          "size": 10
         },
         "mode": "markers",
         "name": "Venus",
         "r": [
          96.63876632878478,
          97.49352634827824,
          98.30014253459636,
          99.05695191691039,
          99.76233939371255,
          100.41474936245464,
          101.01269782987339,
          101.55478481167614,
          102.03970680012438,
          102.46626905457008,
          102.83339745196757,
          103.14014962427052,
          103.38572511049813
         ],
         "theta": [
          -35.07470978902201,
          -32.940238907688105,
          -30.782758717513246,
          -28.60266907115406,
          -26.400570439975965,
          -24.17726652705721,
          -21.933764526070114,
          -19.67127268574531,
          -17.391194897020803,
          -15.095122090298698,
          -12.7848203214087,
          -10.462215534313483,
          -8.129375102479772
         ],
         "type": "scatterpolar"
        },
        {
         "customdata": [
          "2004-04-04T23:00:00",
          "2004-04-04T23:10:00",
          "2004-04-04T23:20:00",
          "2004-04-04T23:30:00",
          "2004-04-04T23:40:00",
          "2004-04-04T23:50:00",
          "2004-04-05T00:00:00",
          "2004-04-05T00:10:00",
          "2004-04-05T00:20:00",
          "2004-04-05T00:30:00",
          "2004-04-05T00:40:00",
          "2004-04-05T00:50:00",
          "2004-04-05T01:00:00"
         ],
         "hovertemplate": "%{customdata}<br>z :%{r}<br>A:%{theta}",
         "marker": {
          "opacity": 0.8,
          "size": 10
         },
         "mode": "markers",
         "name": "EM",
         "r": [
          55.208681932489455,
          55.27153199207894,
          55.41054303007569,
          55.62513534195706,
          55.91439833839741,
          56.277108809037045,
          56.711754550797615,
          57.21656230665943,
          57.78952883801228,
          58.428453914977055,
          59.13097404684979,
          59.89459587671991,
          60.71672831397815
         ],
         "theta": [
          179.75929082787914,
          -177.2937822174157,
          -174.3543852049276,
          -171.42801909414234,
          -168.51995886461762,
          -165.635165338919,
          -162.77820924615853,
          -159.95320977023195,
          -157.16378886532488,
          -154.41304165410116,
          -151.7035223403265,
          -149.0372443535078,
          -146.41569289755287
         ],
         "type": "scatterpolar"
        },
        {
         "customdata": [
          "2004-04-04T23:00:00",
          "2004-04-04T23:10:00",
          "2004-04-04T23:20:00",
          "2004-04-04T23:30:00",
          "2004-04-04T23:40:00",
          "2004-04-04T23:50:00",
          "2004-04-05T00:00:00",
          "2004-04-05T00:10:00",
          "2004-04-05T00:20:00",
          "2004-04-05T00:30:00",
          "2004-04-05T00:40:00",
          "2004-04-05T00:50:00",
          "2004-04-05T01:00:00"
         ],
         "hovertemplate": "%{customdata}<br>z :%{r}<br>A:%{theta}",
         "marker": {
          "opacity": 0.8,
          "size": 10
         },
         "mode": "markers",
         "name": "Mars",
         "r": [
          93.99746183215302,
          95.02508101823796,
          96.01078399371949,
          96.95276941946042,
          97.84924580938542,
          98.69844054535139,
          99.49860988303745,
          100.24804987407148,
          100.94510809488325,
          101.58819603879041,
          102.17580199213705,
          102.70650418025193,
          103.17898393910329
         ],
         "theta": [
          -43.178189345949264,
          -41.11021459873369,
          -39.01860188870036,
          -36.903030561180564,
          -34.76336286465745,
          -32.59965290445675,
          -30.41215463335131,
          -28.201328464197754,
          -25.96784608068052,
          -23.712593021883432,
          -21.43666863665816,
          -19.141383047300117,
          -16.828250820911208
         ],
         "type": "scatterpolar"
        },
        {
         "customdata": [
          "2004-04-04T23:00:00",
          "2004-04-04T23:10:00",
          "2004-04-04T23:20:00",
          "2004-04-04T23:30:00",
          "2004-04-04T23:40:00",
          "2004-04-04T23:50:00",
          "2004-04-05T00:00:00",
          "2004-04-05T00:10:00",
          "2004-04-05T00:20:00",
          "2004-04-05T00:30:00",
          "2004-04-05T00:40:00",
          "2004-04-05T00:50:00",
          "2004-04-05T01:00:00"
         ],
         "hovertemplate": "%{customdata}<br>z :%{r}<br>A:%{theta}",
         "marker": {
          "opacity": 0.8,
          "size": 10
         },
         "mode": "markers",
         "name": "Jupiter",
         "r": [
          52.72090476575496,
          53.896964105402205,
          55.11793269303097,
          56.38006600263251,
          57.67978827989019,
          59.01369538668722,
          60.37855341418387,
          61.77129401985793,
          63.189007308140454,
          64.62893294147307,
          66.0884500421042,
          67.56506632935303,
          69.05640684068113
         ],
         "theta": [
          -131.368614961268,
          -128.6505516195466,
          -126.00414303815603,
          -123.42626871655905,
          -120.91351106208903,
          -118.46224254659711,
          -116.06869876096026,
          -113.72903833491951,
          -111.43939101177054,
          -109.19589530936312,
          -106.9947272211637,
          -104.8321213545732,
          -102.70438579149759
         ],
         "type": "scatterpolar"
        },
        {
         "customdata": [
          "2004-04-04T23:00:00",
          "2004-04-04T23:10:00",
          "2004-04-04T23:20:00",
          "2004-04-04T23:30:00",
          "2004-04-04T23:40:00",
          "2004-04-04T23:50:00",
          "2004-04-05T00:00:00",
          "2004-04-05T00:10:00",
          "2004-04-05T00:20:00",
          "2004-04-05T00:30:00",
          "2004-04-05T00:40:00",
          "2004-04-05T00:50:00",
          "2004-04-05T01:00:00"
         ],
         "hovertemplate": "%{customdata}<br>z :%{r}<br>A:%{theta}",
         "marker": {
          "opacity": 0.8,
          "size": 10
         },
         "mode": "markers",
         "name": "Saturn",
         "r": [
          79.1990153829257,
          80.59695078611833,
          81.97341475645254,
          83.32681313299642,
          84.65552890574226,
          85.95792035047481,
          87.2323198448992,
          88.47703340686981,
          89.69034099947102,
          90.87049765393414,
          92.01573546396932,
          93.12426650398052,
          94.1942867231441
         ],
         "theta": [
          -66.5323377993215,
          -64.6638671764411,
          -62.786570659363896,
          -60.898547776831826,
          -58.99800338313866,
          -57.0832482963704,
          -55.15270136867736,
          -53.20489293201036,
          -51.23846955392832,
          -49.25220001883895,
          -47.24498242792335,
          -45.215852286144894,
          -43.16399140912276
         ],
         "type": "scatterpolar"
        },
        {
         "customdata": [
          "2004-04-04T23:00:00",
          "2004-04-04T23:10:00",
          "2004-04-04T23:20:00",
          "2004-04-04T23:30:00",
          "2004-04-04T23:40:00",
          "2004-04-04T23:50:00",
          "2004-04-05T00:00:00",
          "2004-04-05T00:10:00",
          "2004-04-05T00:20:00",
          "2004-04-05T00:30:00",
          "2004-04-05T00:40:00",
          "2004-04-05T00:50:00",
          "2004-04-05T01:00:00"
         ],
         "hovertemplate": "%{customdata}<br>z :%{r}<br>A:%{theta}",
         "marker": {
          "opacity": 0.8,
          "size": 10
         },
         "mode": "markers",
         "name": "Uranus",
         "r": [
          125.9353378411898,
          124.65837624325704,
          123.34475519309156,
          121.99791811114314,
          120.62112609255813,
          119.2174645117361,
          117.7898519106283,
          116.34105046235591,
          114.87367744591383,
          113.390217290378,
          111.89303385251341,
          110.3843826807165,
          108.86642308613004
         ],
         "theta": [
          54.98705183707445,
          57.57186080409186,
          60.08928738026105,
          62.54326772730186,
          64.93784669171394,
          67.27711738450107,
          69.56517358513175,
          71.80607323221804,
          74.00381129840359,
          76.16230046489765,
          78.28535816734215,
          80.37669875525147,
          82.43992968444164
         ],
         "type": "scatterpolar"
        },
        {
         "customdata": [
          "2004-04-04T23:00:00",
          "2004-04-04T23:10:00",
          "2004-04-04T23:20:00",
          "2004-04-04T23:30:00",
          "2004-04-04T23:40:00",
          "2004-04-04T23:50:00",
          "2004-04-05T00:00:00",
          "2004-04-05T00:10:00",
          "2004-04-05T00:20:00",
          "2004-04-05T00:30:00",
          "2004-04-05T00:40:00",
          "2004-04-05T00:50:00",
          "2004-04-05T01:00:00"
         ],
         "hovertemplate": "%{customdata}<br>z :%{r}<br>A:%{theta}",
         "marker": {
          "opacity": 0.8,
          "size": 10
         },
         "mode": "markers",
         "name": "Neptune",
         "r": [
          119.82129172016232,
          118.31384472937931,
          116.79666190297128,
          115.27194226291957,
          113.74177848877827,
          112.20817129335398,
          110.67304281153343,
          109.13824903731913,
          107.60559136049405,
          106.0768272591112,
          104.55368020540914,
          103.03784884217772,
          101.5310154787795
         ],
         "theta": [
          78.01224499577226,
          80.1554709836236,
          82.25954243872879,
          84.32873387721459,
          86.36711730300706,
          88.37857142768517,
          90.36679226433337,
          92.33530442941681,
          94.28747263971655,
          96.22651301589327,
          98.15550389794613,
          100.077395946365,
          101.99502135866746
         ],
         "type": "scatterpolar"
        },
        {
         "customdata": [
          "2004-04-04T23:00:00",
          "2004-04-04T23:10:00",
          "2004-04-04T23:20:00",
          "2004-04-04T23:30:00",
          "2004-04-04T23:40:00",
          "2004-04-04T23:50:00",
          "2004-04-05T00:00:00",
          "2004-04-05T00:10:00",
          "2004-04-05T00:20:00",
          "2004-04-05T00:30:00",
          "2004-04-05T00:40:00",
          "2004-04-05T00:50:00",
          "2004-04-05T01:00:00"
         ],
         "hovertemplate": "%{customdata}<br>z :%{r}<br>A:%{theta}",
         "marker": {
          "opacity": 0.8,
          "size": 10
         },
         "mode": "markers",
         "name": "Pluto",
         "r": [
          85.50248508981278,
          84.1940606441122,
          82.91544433475745,
          81.66868030165305,
          80.45585546991941,
          79.27909749559304,
          78.14057137763157,
          77.04247461171364,
          75.98703077035972,
          74.97648140657833,
          74.01307620095989,
          73.09906130550027,
          72.23666587810659
         ],
         "theta": [
          120.52151139132438,
          122.57573274932909,
          124.65354875540659,
          126.75662320397433,
          128.88648924358847,
          131.0445347830106,
          133.23198622325003,
          135.44989071034698,
          137.69909718302847,
          139.9802365862143,
          142.29370172444234,
          144.63962733422696,
          147.01787106484497
         ],
         "type": "scatterpolar"
        },
        {
         "customdata": [
          "2004-04-04T23:00:00",
          "2004-04-04T23:10:00",
          "2004-04-04T23:20:00",
          "2004-04-04T23:30:00",
          "2004-04-04T23:40:00",
          "2004-04-04T23:50:00",
          "2004-04-05T00:00:00",
          "2004-04-05T00:10:00",
          "2004-04-05T00:20:00",
          "2004-04-05T00:30:00",
          "2004-04-05T00:40:00",
          "2004-04-05T00:50:00",
          "2004-04-05T01:00:00"
         ],
         "hovertemplate": "%{customdata}<br>z :%{r}<br>A:%{theta}",
         "marker": {
          "opacity": 0.8,
          "size": 10
         },
         "mode": "markers",
         "name": "Earth",
         "r": [
          null,
          null,
          null,
          null,
          null,
          null,
          null,
          null,
          null,
          null,
          null,
          null,
          null
         ],
         "theta": [
          null,
          null,
          null,
          null,
          null,
          null,
          null,
          null,
          null,
          null,
          null,
          null,
          null
         ],
         "type": "scatterpolar"
        },
        {
         "customdata": [
          "2004-04-04T23:00:00",
          "2004-04-04T23:10:00",
          "2004-04-04T23:20:00",
          "2004-04-04T23:30:00",
          "2004-04-04T23:40:00",
          "2004-04-04T23:50:00",
          "2004-04-05T00:00:00",
          "2004-04-05T00:10:00",
          "2004-04-05T00:20:00",
          "2004-04-05T00:30:00",
          "2004-04-05T00:40:00",
          "2004-04-05T00:50:00",
          "2004-04-05T01:00:00"
         ],
         "hovertemplate": "%{customdata}<br>z :%{r}<br>A:%{theta}",
         "marker": {
          "opacity": 0.8,
          "size": 10
         },
         "mode": "markers",
         "name": "Moon",
         "r": [
          55.20868193250979,
          55.27153199208717,
          55.41054303007036,
          55.62513534196263,
          55.91439833840221,
          56.27710880904516,
          56.711754550813176,
          57.21656230667016,
          57.789528838021795,
          58.428453914977155,
          59.13097404686051,
          59.89459587672213,
          60.71672831398464
         ],
         "theta": [
          179.75929082782747,
          -177.29378221744884,
          -174.35438520489248,
          -171.42801909420015,
          -168.5199588646538,
          -165.63516533896401,
          -162.77820924626997,
          -159.9532097702803,
          -157.1637888654334,
          -154.4130416541401,
          -151.7035223404014,
          -149.0372443535548,
          -146.41569289761023
         ],
         "type": "scatterpolar"
        }
       ],
       "layout": {
        "polar": {
         "radialaxis": {
          "range": [
           0,
           90
          ]
         }
        },
        "template": {
         "data": {
          "bar": [
           {
            "error_x": {
             "color": "#2a3f5f"
            },
            "error_y": {
             "color": "#2a3f5f"
            },
            "marker": {
             "line": {
              "color": "#E5ECF6",
              "width": 0.5
             }
            },
            "type": "bar"
           }
          ],
          "barpolar": [
           {
            "marker": {
             "line": {
              "color": "#E5ECF6",
              "width": 0.5
             }
            },
            "type": "barpolar"
           }
          ],
          "carpet": [
           {
            "aaxis": {
             "endlinecolor": "#2a3f5f",
             "gridcolor": "white",
             "linecolor": "white",
             "minorgridcolor": "white",
             "startlinecolor": "#2a3f5f"
            },
            "baxis": {
             "endlinecolor": "#2a3f5f",
             "gridcolor": "white",
             "linecolor": "white",
             "minorgridcolor": "white",
             "startlinecolor": "#2a3f5f"
            },
            "type": "carpet"
           }
          ],
          "choropleth": [
           {
            "colorbar": {
             "outlinewidth": 0,
             "ticks": ""
            },
            "type": "choropleth"
           }
          ],
          "contour": [
           {
            "colorbar": {
             "outlinewidth": 0,
             "ticks": ""
            },
            "colorscale": [
             [
              0,
              "#0d0887"
             ],
             [
              0.1111111111111111,
              "#46039f"
             ],
             [
              0.2222222222222222,
              "#7201a8"
             ],
             [
              0.3333333333333333,
              "#9c179e"
             ],
             [
              0.4444444444444444,
              "#bd3786"
             ],
             [
              0.5555555555555556,
              "#d8576b"
             ],
             [
              0.6666666666666666,
              "#ed7953"
             ],
             [
              0.7777777777777778,
              "#fb9f3a"
             ],
             [
              0.8888888888888888,
              "#fdca26"
             ],
             [
              1,
              "#f0f921"
             ]
            ],
            "type": "contour"
           }
          ],
          "contourcarpet": [
           {
            "colorbar": {
             "outlinewidth": 0,
             "ticks": ""
            },
            "type": "contourcarpet"
           }
          ],
          "heatmap": [
           {
            "colorbar": {
             "outlinewidth": 0,
             "ticks": ""
            },
            "colorscale": [
             [
              0,
              "#0d0887"
             ],
             [
              0.1111111111111111,
              "#46039f"
             ],
             [
              0.2222222222222222,
              "#7201a8"
             ],
             [
              0.3333333333333333,
              "#9c179e"
             ],
             [
              0.4444444444444444,
              "#bd3786"
             ],
             [
              0.5555555555555556,
              "#d8576b"
             ],
             [
              0.6666666666666666,
              "#ed7953"
             ],
             [
              0.7777777777777778,
              "#fb9f3a"
             ],
             [
              0.8888888888888888,
              "#fdca26"
             ],
             [
              1,
              "#f0f921"
             ]
            ],
            "type": "heatmap"
           }
          ],
          "heatmapgl": [
           {
            "colorbar": {
             "outlinewidth": 0,
             "ticks": ""
            },
            "colorscale": [
             [
              0,
              "#0d0887"
             ],
             [
              0.1111111111111111,
              "#46039f"
             ],
             [
              0.2222222222222222,
              "#7201a8"
             ],
             [
              0.3333333333333333,
              "#9c179e"
             ],
             [
              0.4444444444444444,
              "#bd3786"
             ],
             [
              0.5555555555555556,
              "#d8576b"
             ],
             [
              0.6666666666666666,
              "#ed7953"
             ],
             [
              0.7777777777777778,
              "#fb9f3a"
             ],
             [
              0.8888888888888888,
              "#fdca26"
             ],
             [
              1,
              "#f0f921"
             ]
            ],
            "type": "heatmapgl"
           }
          ],
          "histogram": [
           {
            "marker": {
             "colorbar": {
              "outlinewidth": 0,
              "ticks": ""
             }
            },
            "type": "histogram"
           }
          ],
          "histogram2d": [
           {
            "colorbar": {
             "outlinewidth": 0,
             "ticks": ""
            },
            "colorscale": [
             [
              0,
              "#0d0887"
             ],
             [
              0.1111111111111111,
              "#46039f"
             ],
             [
              0.2222222222222222,
              "#7201a8"
             ],
             [
              0.3333333333333333,
              "#9c179e"
             ],
             [
              0.4444444444444444,
              "#bd3786"
             ],
             [
              0.5555555555555556,
              "#d8576b"
             ],
             [
              0.6666666666666666,
              "#ed7953"
             ],
             [
              0.7777777777777778,
              "#fb9f3a"
             ],
             [
              0.8888888888888888,
              "#fdca26"
             ],
             [
              1,
              "#f0f921"
             ]
            ],
            "type": "histogram2d"
           }
          ],
          "histogram2dcontour": [
           {
            "colorbar": {
             "outlinewidth": 0,
             "ticks": ""
            },
            "colorscale": [
             [
              0,
              "#0d0887"
             ],
             [
              0.1111111111111111,
              "#46039f"
             ],
             [
              0.2222222222222222,
              "#7201a8"
             ],
             [
              0.3333333333333333,
              "#9c179e"
             ],
             [
              0.4444444444444444,
              "#bd3786"
             ],
             [
              0.5555555555555556,
              "#d8576b"
             ],
             [
              0.6666666666666666,
              "#ed7953"
             ],
             [
              0.7777777777777778,
              "#fb9f3a"
             ],
             [
              0.8888888888888888,
              "#fdca26"
             ],
             [
              1,
              "#f0f921"
             ]
            ],
            "type": "histogram2dcontour"
           }
          ],
          "mesh3d": [
           {
            "colorbar": {
             "outlinewidth": 0,
             "ticks": ""
            },
            "type": "mesh3d"
           }
          ],
          "parcoords": [
           {
            "line": {
             "colorbar": {
              "outlinewidth": 0,
              "ticks": ""
             }
            },
            "type": "parcoords"
           }
          ],
          "pie": [
           {
            "automargin": true,
            "type": "pie"
           }
          ],
          "scatter": [
           {
            "marker": {
             "colorbar": {
              "outlinewidth": 0,
              "ticks": ""
             }
            },
            "type": "scatter"
           }
          ],
          "scatter3d": [
           {
            "line": {
             "colorbar": {
              "outlinewidth": 0,
              "ticks": ""
             }
            },
            "marker": {
             "colorbar": {
              "outlinewidth": 0,
              "ticks": ""
             }
            },
            "type": "scatter3d"
           }
          ],
          "scattercarpet": [
           {
            "marker": {
             "colorbar": {
              "outlinewidth": 0,
              "ticks": ""
             }
            },
            "type": "scattercarpet"
           }
          ],
          "scattergeo": [
           {
            "marker": {
             "colorbar": {
              "outlinewidth": 0,
              "ticks": ""
             }
            },
            "type": "scattergeo"
           }
          ],
          "scattergl": [
           {
            "marker": {
             "colorbar": {
              "outlinewidth": 0,
              "ticks": ""
             }
            },
            "type": "scattergl"
           }
          ],
          "scattermapbox": [
           {
            "marker": {
             "colorbar": {
              "outlinewidth": 0,
              "ticks": ""
             }
            },
            "type": "scattermapbox"
           }
          ],
          "scatterpolar": [
           {
            "marker": {
             "colorbar": {
              "outlinewidth": 0,
              "ticks": ""
             }
            },
            "type": "scatterpolar"
           }
          ],
          "scatterpolargl": [
           {
            "marker": {
             "colorbar": {
              "outlinewidth": 0,
              "ticks": ""
             }
            },
            "type": "scatterpolargl"
           }
          ],
          "scatterternary": [
           {
            "marker": {
             "colorbar": {
              "outlinewidth": 0,
              "ticks": ""
             }
            },
            "type": "scatterternary"
           }
          ],
          "surface": [
           {
            "colorbar": {
             "outlinewidth": 0,
             "ticks": ""
            },
            "colorscale": [
             [
              0,
              "#0d0887"
             ],
             [
              0.1111111111111111,
              "#46039f"
             ],
             [
              0.2222222222222222,
              "#7201a8"
             ],
             [
              0.3333333333333333,
              "#9c179e"
             ],
             [
              0.4444444444444444,
              "#bd3786"
             ],
             [
              0.5555555555555556,
              "#d8576b"
             ],
             [
              0.6666666666666666,
              "#ed7953"
             ],
             [
              0.7777777777777778,
              "#fb9f3a"
             ],
             [
              0.8888888888888888,
              "#fdca26"
             ],
             [
              1,
              "#f0f921"
             ]
            ],
            "type": "surface"
           }
          ],
          "table": [
           {
            "cells": {
             "fill": {
              "color": "#EBF0F8"
             },
             "line": {
              "color": "white"
             }
            },
            "header": {
             "fill": {
              "color": "#C8D4E3"
             },
             "line": {
              "color": "white"
             }
            },
            "type": "table"
           }
          ]
         },
         "layout": {
          "annotationdefaults": {
           "arrowcolor": "#2a3f5f",
           "arrowhead": 0,
           "arrowwidth": 1
          },
          "coloraxis": {
           "colorbar": {
            "outlinewidth": 0,
            "ticks": ""
           }
          },
          "colorscale": {
           "diverging": [
            [
             0,
             "#8e0152"
            ],
            [
             0.1,
             "#c51b7d"
            ],
            [
             0.2,
             "#de77ae"
            ],
            [
             0.3,
             "#f1b6da"
            ],
            [
             0.4,
             "#fde0ef"
            ],
            [
             0.5,
             "#f7f7f7"
            ],
            [
             0.6,
             "#e6f5d0"
            ],
            [
             0.7,
             "#b8e186"
            ],
            [
             0.8,
             "#7fbc41"
            ],
            [
             0.9,
             "#4d9221"
            ],
            [
             1,
             "#276419"
            ]
           ],
           "sequential": [
            [
             0,
             "#0d0887"
            ],
            [
             0.1111111111111111,
             "#46039f"
            ],
            [
             0.2222222222222222,
             "#7201a8"
            ],
            [
             0.3333333333333333,
             "#9c179e"
            ],
            [
             0.4444444444444444,
             "#bd3786"
            ],
            [
             0.5555555555555556,
             "#d8576b"
            ],
            [
             0.6666666666666666,
             "#ed7953"
            ],
            [
             0.7777777777777778,
             "#fb9f3a"
            ],
            [
             0.8888888888888888,
             "#fdca26"
            ],
            [
             1,
             "#f0f921"
            ]
           ],
           "sequentialminus": [
            [
             0,
             "#0d0887"
            ],
            [
             0.1111111111111111,
             "#46039f"
            ],
            [
             0.2222222222222222,
             "#7201a8"
            ],
            [
             0.3333333333333333,
             "#9c179e"
            ],
            [
             0.4444444444444444,
             "#bd3786"
            ],
            [
             0.5555555555555556,
             "#d8576b"
            ],
            [
             0.6666666666666666,
             "#ed7953"
            ],
            [
             0.7777777777777778,
             "#fb9f3a"
            ],
            [
             0.8888888888888888,
             "#fdca26"
            ],
            [
             1,
             "#f0f921"
            ]
           ]
          },
          "colorway": [
           "#636efa",
           "#EF553B",
           "#00cc96",
           "#ab63fa",
           "#FFA15A",
           "#19d3f3",
           "#FF6692",
           "#B6E880",
           "#FF97FF",
           "#FECB52"
          ],
          "font": {
           "color": "#2a3f5f"
          },
          "geo": {
           "bgcolor": "white",
           "lakecolor": "white",
           "landcolor": "#E5ECF6",
           "showlakes": true,
           "showland": true,
           "subunitcolor": "white"
          },
          "hoverlabel": {
           "align": "left"
          },
          "hovermode": "closest",
          "mapbox": {
           "style": "light"
          },
          "paper_bgcolor": "white",
          "plot_bgcolor": "#E5ECF6",
          "polar": {
           "angularaxis": {
            "gridcolor": "white",
            "linecolor": "white",
            "ticks": ""
           },
           "bgcolor": "#E5ECF6",
           "radialaxis": {
            "gridcolor": "white",
            "linecolor": "white",
            "ticks": ""
           }
          },
          "scene": {
           "xaxis": {
            "backgroundcolor": "#E5ECF6",
            "gridcolor": "white",
            "gridwidth": 2,
            "linecolor": "white",
            "showbackground": true,
            "ticks": "",
            "zerolinecolor": "white"
           },
           "yaxis": {
            "backgroundcolor": "#E5ECF6",
            "gridcolor": "white",
            "gridwidth": 2,
            "linecolor": "white",
            "showbackground": true,
            "ticks": "",
            "zerolinecolor": "white"
           },
           "zaxis": {
            "backgroundcolor": "#E5ECF6",
            "gridcolor": "white",
            "gridwidth": 2,
            "linecolor": "white",
            "showbackground": true,
            "ticks": "",
            "zerolinecolor": "white"
           }
          },
          "shapedefaults": {
           "line": {
            "color": "#2a3f5f"
           }
          },
          "ternary": {
           "aaxis": {
            "gridcolor": "white",
            "linecolor": "white",
            "ticks": ""
           },
           "baxis": {
            "gridcolor": "white",
            "linecolor": "white",
            "ticks": ""
           },
           "bgcolor": "#E5ECF6",
           "caxis": {
            "gridcolor": "white",
            "linecolor": "white",
            "ticks": ""
           }
          },
          "title": {
           "x": 0.05
          },
          "xaxis": {
           "automargin": true,
           "gridcolor": "white",
           "linecolor": "white",
           "ticks": "",
           "title": {
            "standoff": 15
           },
           "zerolinecolor": "white",
           "zerolinewidth": 2
          },
          "yaxis": {
           "automargin": true,
           "gridcolor": "white",
           "linecolor": "white",
           "ticks": "",
           "title": {
            "standoff": 15
           },
           "zerolinecolor": "white",
           "zerolinewidth": 2
          }
         }
        }
       }
      },
      "text/html": [
       "<div>\n",
       "        \n",
       "        \n",
       "            <div id=\"e2a82b62-d169-4206-bc50-cc047201a640\" class=\"plotly-graph-div\" style=\"height:525px; width:100%;\"></div>\n",
       "            <script type=\"text/javascript\">\n",
       "                require([\"plotly\"], function(Plotly) {\n",
       "                    window.PLOTLYENV=window.PLOTLYENV || {};\n",
       "                    \n",
       "                if (document.getElementById(\"e2a82b62-d169-4206-bc50-cc047201a640\")) {\n",
       "                    Plotly.newPlot(\n",
       "                        'e2a82b62-d169-4206-bc50-cc047201a640',\n",
       "                        [{\"customdata\": [\"2004-04-04T23:00:00\", \"2004-04-04T23:10:00\", \"2004-04-04T23:20:00\", \"2004-04-04T23:30:00\", \"2004-04-04T23:40:00\", \"2004-04-04T23:50:00\", \"2004-04-05T00:00:00\", \"2004-04-05T00:10:00\", \"2004-04-05T00:20:00\", \"2004-04-05T00:30:00\", \"2004-04-05T00:40:00\", \"2004-04-05T00:50:00\", \"2004-04-05T01:00:00\"], \"hovertemplate\": \"%{customdata}<br>z :%{r}<br>A:%{theta}\", \"marker\": {\"opacity\": 0.8, \"size\": 10}, \"mode\": \"markers\", \"name\": \"Mercury\", \"r\": [112.281397955303, 112.49265500865276, 112.63445383919563, 112.70630859721632, 112.70797104613696, 112.63943431249464, 112.5009329819332, 112.2929395376303, 112.01615727316603, 111.67150993881937, 111.26012849045848, 110.78333539804179, 110.24262703050009], \"theta\": [-9.245903896578362, -6.639139234191645, -4.02355160228385, -1.4025857238499648, 1.2202351141913739, 3.841360248651728, 6.457263669131474, 9.064495287929677, 11.65972989021908, 14.239812342058615, 16.801797846838564, 19.342986309713638, 21.86095018185186], \"type\": \"scatterpolar\"}, {\"customdata\": [\"2004-04-04T23:00:00\", \"2004-04-04T23:10:00\", \"2004-04-04T23:20:00\", \"2004-04-04T23:30:00\", \"2004-04-04T23:40:00\", \"2004-04-04T23:50:00\", \"2004-04-05T00:00:00\", \"2004-04-05T00:10:00\", \"2004-04-05T00:20:00\", \"2004-04-05T00:30:00\", \"2004-04-05T00:40:00\", \"2004-04-05T00:50:00\", \"2004-04-05T01:00:00\"], \"hovertemplate\": \"%{customdata}<br>z :%{r}<br>A:%{theta}\", \"marker\": {\"opacity\": 0.8, \"size\": 10}, \"mode\": \"markers\", \"name\": \"Venus\", \"r\": [96.63876632878478, 97.49352634827824, 98.30014253459636, 99.05695191691039, 99.76233939371255, 100.41474936245464, 101.01269782987339, 101.55478481167614, 102.03970680012438, 102.46626905457008, 102.83339745196757, 103.14014962427052, 103.38572511049813], \"theta\": [-35.07470978902201, -32.940238907688105, -30.782758717513246, -28.60266907115406, -26.400570439975965, -24.17726652705721, -21.933764526070114, -19.67127268574531, -17.391194897020803, -15.095122090298698, -12.7848203214087, -10.462215534313483, -8.129375102479772], \"type\": \"scatterpolar\"}, {\"customdata\": [\"2004-04-04T23:00:00\", \"2004-04-04T23:10:00\", \"2004-04-04T23:20:00\", \"2004-04-04T23:30:00\", \"2004-04-04T23:40:00\", \"2004-04-04T23:50:00\", \"2004-04-05T00:00:00\", \"2004-04-05T00:10:00\", \"2004-04-05T00:20:00\", \"2004-04-05T00:30:00\", \"2004-04-05T00:40:00\", \"2004-04-05T00:50:00\", \"2004-04-05T01:00:00\"], \"hovertemplate\": \"%{customdata}<br>z :%{r}<br>A:%{theta}\", \"marker\": {\"opacity\": 0.8, \"size\": 10}, \"mode\": \"markers\", \"name\": \"EM\", \"r\": [55.208681932489455, 55.27153199207894, 55.41054303007569, 55.62513534195706, 55.91439833839741, 56.277108809037045, 56.711754550797615, 57.21656230665943, 57.78952883801228, 58.428453914977055, 59.13097404684979, 59.89459587671991, 60.71672831397815], \"theta\": [179.75929082787914, -177.2937822174157, -174.3543852049276, -171.42801909414234, -168.51995886461762, -165.635165338919, -162.77820924615853, -159.95320977023195, -157.16378886532488, -154.41304165410116, -151.7035223403265, -149.0372443535078, -146.41569289755287], \"type\": \"scatterpolar\"}, {\"customdata\": [\"2004-04-04T23:00:00\", \"2004-04-04T23:10:00\", \"2004-04-04T23:20:00\", \"2004-04-04T23:30:00\", \"2004-04-04T23:40:00\", \"2004-04-04T23:50:00\", \"2004-04-05T00:00:00\", \"2004-04-05T00:10:00\", \"2004-04-05T00:20:00\", \"2004-04-05T00:30:00\", \"2004-04-05T00:40:00\", \"2004-04-05T00:50:00\", \"2004-04-05T01:00:00\"], \"hovertemplate\": \"%{customdata}<br>z :%{r}<br>A:%{theta}\", \"marker\": {\"opacity\": 0.8, \"size\": 10}, \"mode\": \"markers\", \"name\": \"Mars\", \"r\": [93.99746183215302, 95.02508101823796, 96.01078399371949, 96.95276941946042, 97.84924580938542, 98.69844054535139, 99.49860988303745, 100.24804987407148, 100.94510809488325, 101.58819603879041, 102.17580199213705, 102.70650418025193, 103.17898393910329], \"theta\": [-43.178189345949264, -41.11021459873369, -39.01860188870036, -36.903030561180564, -34.76336286465745, -32.59965290445675, -30.41215463335131, -28.201328464197754, -25.96784608068052, -23.712593021883432, -21.43666863665816, -19.141383047300117, -16.828250820911208], \"type\": \"scatterpolar\"}, {\"customdata\": [\"2004-04-04T23:00:00\", \"2004-04-04T23:10:00\", \"2004-04-04T23:20:00\", \"2004-04-04T23:30:00\", \"2004-04-04T23:40:00\", \"2004-04-04T23:50:00\", \"2004-04-05T00:00:00\", \"2004-04-05T00:10:00\", \"2004-04-05T00:20:00\", \"2004-04-05T00:30:00\", \"2004-04-05T00:40:00\", \"2004-04-05T00:50:00\", \"2004-04-05T01:00:00\"], \"hovertemplate\": \"%{customdata}<br>z :%{r}<br>A:%{theta}\", \"marker\": {\"opacity\": 0.8, \"size\": 10}, \"mode\": \"markers\", \"name\": \"Jupiter\", \"r\": [52.72090476575496, 53.896964105402205, 55.11793269303097, 56.38006600263251, 57.67978827989019, 59.01369538668722, 60.37855341418387, 61.77129401985793, 63.189007308140454, 64.62893294147307, 66.0884500421042, 67.56506632935303, 69.05640684068113], \"theta\": [-131.368614961268, -128.6505516195466, -126.00414303815603, -123.42626871655905, -120.91351106208903, -118.46224254659711, -116.06869876096026, -113.72903833491951, -111.43939101177054, -109.19589530936312, -106.9947272211637, -104.8321213545732, -102.70438579149759], \"type\": \"scatterpolar\"}, {\"customdata\": [\"2004-04-04T23:00:00\", \"2004-04-04T23:10:00\", \"2004-04-04T23:20:00\", \"2004-04-04T23:30:00\", \"2004-04-04T23:40:00\", \"2004-04-04T23:50:00\", \"2004-04-05T00:00:00\", \"2004-04-05T00:10:00\", \"2004-04-05T00:20:00\", \"2004-04-05T00:30:00\", \"2004-04-05T00:40:00\", \"2004-04-05T00:50:00\", \"2004-04-05T01:00:00\"], \"hovertemplate\": \"%{customdata}<br>z :%{r}<br>A:%{theta}\", \"marker\": {\"opacity\": 0.8, \"size\": 10}, \"mode\": \"markers\", \"name\": \"Saturn\", \"r\": [79.1990153829257, 80.59695078611833, 81.97341475645254, 83.32681313299642, 84.65552890574226, 85.95792035047481, 87.2323198448992, 88.47703340686981, 89.69034099947102, 90.87049765393414, 92.01573546396932, 93.12426650398052, 94.1942867231441], \"theta\": [-66.5323377993215, -64.6638671764411, -62.786570659363896, -60.898547776831826, -58.99800338313866, -57.0832482963704, -55.15270136867736, -53.20489293201036, -51.23846955392832, -49.25220001883895, -47.24498242792335, -45.215852286144894, -43.16399140912276], \"type\": \"scatterpolar\"}, {\"customdata\": [\"2004-04-04T23:00:00\", \"2004-04-04T23:10:00\", \"2004-04-04T23:20:00\", \"2004-04-04T23:30:00\", \"2004-04-04T23:40:00\", \"2004-04-04T23:50:00\", \"2004-04-05T00:00:00\", \"2004-04-05T00:10:00\", \"2004-04-05T00:20:00\", \"2004-04-05T00:30:00\", \"2004-04-05T00:40:00\", \"2004-04-05T00:50:00\", \"2004-04-05T01:00:00\"], \"hovertemplate\": \"%{customdata}<br>z :%{r}<br>A:%{theta}\", \"marker\": {\"opacity\": 0.8, \"size\": 10}, \"mode\": \"markers\", \"name\": \"Uranus\", \"r\": [125.9353378411898, 124.65837624325704, 123.34475519309156, 121.99791811114314, 120.62112609255813, 119.2174645117361, 117.7898519106283, 116.34105046235591, 114.87367744591383, 113.390217290378, 111.89303385251341, 110.3843826807165, 108.86642308613004], \"theta\": [54.98705183707445, 57.57186080409186, 60.08928738026105, 62.54326772730186, 64.93784669171394, 67.27711738450107, 69.56517358513175, 71.80607323221804, 74.00381129840359, 76.16230046489765, 78.28535816734215, 80.37669875525147, 82.43992968444164], \"type\": \"scatterpolar\"}, {\"customdata\": [\"2004-04-04T23:00:00\", \"2004-04-04T23:10:00\", \"2004-04-04T23:20:00\", \"2004-04-04T23:30:00\", \"2004-04-04T23:40:00\", \"2004-04-04T23:50:00\", \"2004-04-05T00:00:00\", \"2004-04-05T00:10:00\", \"2004-04-05T00:20:00\", \"2004-04-05T00:30:00\", \"2004-04-05T00:40:00\", \"2004-04-05T00:50:00\", \"2004-04-05T01:00:00\"], \"hovertemplate\": \"%{customdata}<br>z :%{r}<br>A:%{theta}\", \"marker\": {\"opacity\": 0.8, \"size\": 10}, \"mode\": \"markers\", \"name\": \"Neptune\", \"r\": [119.82129172016232, 118.31384472937931, 116.79666190297128, 115.27194226291957, 113.74177848877827, 112.20817129335398, 110.67304281153343, 109.13824903731913, 107.60559136049405, 106.0768272591112, 104.55368020540914, 103.03784884217772, 101.5310154787795], \"theta\": [78.01224499577226, 80.1554709836236, 82.25954243872879, 84.32873387721459, 86.36711730300706, 88.37857142768517, 90.36679226433337, 92.33530442941681, 94.28747263971655, 96.22651301589327, 98.15550389794613, 100.077395946365, 101.99502135866746], \"type\": \"scatterpolar\"}, {\"customdata\": [\"2004-04-04T23:00:00\", \"2004-04-04T23:10:00\", \"2004-04-04T23:20:00\", \"2004-04-04T23:30:00\", \"2004-04-04T23:40:00\", \"2004-04-04T23:50:00\", \"2004-04-05T00:00:00\", \"2004-04-05T00:10:00\", \"2004-04-05T00:20:00\", \"2004-04-05T00:30:00\", \"2004-04-05T00:40:00\", \"2004-04-05T00:50:00\", \"2004-04-05T01:00:00\"], \"hovertemplate\": \"%{customdata}<br>z :%{r}<br>A:%{theta}\", \"marker\": {\"opacity\": 0.8, \"size\": 10}, \"mode\": \"markers\", \"name\": \"Pluto\", \"r\": [85.50248508981278, 84.1940606441122, 82.91544433475745, 81.66868030165305, 80.45585546991941, 79.27909749559304, 78.14057137763157, 77.04247461171364, 75.98703077035972, 74.97648140657833, 74.01307620095989, 73.09906130550027, 72.23666587810659], \"theta\": [120.52151139132438, 122.57573274932909, 124.65354875540659, 126.75662320397433, 128.88648924358847, 131.0445347830106, 133.23198622325003, 135.44989071034698, 137.69909718302847, 139.9802365862143, 142.29370172444234, 144.63962733422696, 147.01787106484497], \"type\": \"scatterpolar\"}, {\"customdata\": [\"2004-04-04T23:00:00\", \"2004-04-04T23:10:00\", \"2004-04-04T23:20:00\", \"2004-04-04T23:30:00\", \"2004-04-04T23:40:00\", \"2004-04-04T23:50:00\", \"2004-04-05T00:00:00\", \"2004-04-05T00:10:00\", \"2004-04-05T00:20:00\", \"2004-04-05T00:30:00\", \"2004-04-05T00:40:00\", \"2004-04-05T00:50:00\", \"2004-04-05T01:00:00\"], \"hovertemplate\": \"%{customdata}<br>z :%{r}<br>A:%{theta}\", \"marker\": {\"opacity\": 0.8, \"size\": 10}, \"mode\": \"markers\", \"name\": \"Earth\", \"r\": [null, null, null, null, null, null, null, null, null, null, null, null, null], \"theta\": [null, null, null, null, null, null, null, null, null, null, null, null, null], \"type\": \"scatterpolar\"}, {\"customdata\": [\"2004-04-04T23:00:00\", \"2004-04-04T23:10:00\", \"2004-04-04T23:20:00\", \"2004-04-04T23:30:00\", \"2004-04-04T23:40:00\", \"2004-04-04T23:50:00\", \"2004-04-05T00:00:00\", \"2004-04-05T00:10:00\", \"2004-04-05T00:20:00\", \"2004-04-05T00:30:00\", \"2004-04-05T00:40:00\", \"2004-04-05T00:50:00\", \"2004-04-05T01:00:00\"], \"hovertemplate\": \"%{customdata}<br>z :%{r}<br>A:%{theta}\", \"marker\": {\"opacity\": 0.8, \"size\": 10}, \"mode\": \"markers\", \"name\": \"Moon\", \"r\": [55.20868193250979, 55.27153199208717, 55.41054303007036, 55.62513534196263, 55.91439833840221, 56.27710880904516, 56.711754550813176, 57.21656230667016, 57.789528838021795, 58.428453914977155, 59.13097404686051, 59.89459587672213, 60.71672831398464], \"theta\": [179.75929082782747, -177.29378221744884, -174.35438520489248, -171.42801909420015, -168.5199588646538, -165.63516533896401, -162.77820924626997, -159.9532097702803, -157.1637888654334, -154.4130416541401, -151.7035223404014, -149.0372443535548, -146.41569289761023], \"type\": \"scatterpolar\"}],\n",
       "                        {\"polar\": {\"radialaxis\": {\"range\": [0, 90]}}, \"template\": {\"data\": {\"bar\": [{\"error_x\": {\"color\": \"#2a3f5f\"}, \"error_y\": {\"color\": \"#2a3f5f\"}, \"marker\": {\"line\": {\"color\": \"#E5ECF6\", \"width\": 0.5}}, \"type\": \"bar\"}], \"barpolar\": [{\"marker\": {\"line\": {\"color\": \"#E5ECF6\", \"width\": 0.5}}, \"type\": \"barpolar\"}], \"carpet\": [{\"aaxis\": {\"endlinecolor\": \"#2a3f5f\", \"gridcolor\": \"white\", \"linecolor\": \"white\", \"minorgridcolor\": \"white\", \"startlinecolor\": \"#2a3f5f\"}, \"baxis\": {\"endlinecolor\": \"#2a3f5f\", \"gridcolor\": \"white\", \"linecolor\": \"white\", \"minorgridcolor\": \"white\", \"startlinecolor\": \"#2a3f5f\"}, \"type\": \"carpet\"}], \"choropleth\": [{\"colorbar\": {\"outlinewidth\": 0, \"ticks\": \"\"}, \"type\": \"choropleth\"}], \"contour\": [{\"colorbar\": {\"outlinewidth\": 0, \"ticks\": \"\"}, \"colorscale\": [[0.0, \"#0d0887\"], [0.1111111111111111, \"#46039f\"], [0.2222222222222222, \"#7201a8\"], [0.3333333333333333, \"#9c179e\"], [0.4444444444444444, \"#bd3786\"], [0.5555555555555556, \"#d8576b\"], [0.6666666666666666, \"#ed7953\"], [0.7777777777777778, \"#fb9f3a\"], [0.8888888888888888, \"#fdca26\"], [1.0, \"#f0f921\"]], \"type\": \"contour\"}], \"contourcarpet\": [{\"colorbar\": {\"outlinewidth\": 0, \"ticks\": \"\"}, \"type\": \"contourcarpet\"}], \"heatmap\": [{\"colorbar\": {\"outlinewidth\": 0, \"ticks\": \"\"}, \"colorscale\": [[0.0, \"#0d0887\"], [0.1111111111111111, \"#46039f\"], [0.2222222222222222, \"#7201a8\"], [0.3333333333333333, \"#9c179e\"], [0.4444444444444444, \"#bd3786\"], [0.5555555555555556, \"#d8576b\"], [0.6666666666666666, \"#ed7953\"], [0.7777777777777778, \"#fb9f3a\"], [0.8888888888888888, \"#fdca26\"], [1.0, \"#f0f921\"]], \"type\": \"heatmap\"}], \"heatmapgl\": [{\"colorbar\": {\"outlinewidth\": 0, \"ticks\": \"\"}, \"colorscale\": [[0.0, \"#0d0887\"], [0.1111111111111111, \"#46039f\"], [0.2222222222222222, \"#7201a8\"], [0.3333333333333333, \"#9c179e\"], [0.4444444444444444, \"#bd3786\"], [0.5555555555555556, \"#d8576b\"], [0.6666666666666666, \"#ed7953\"], [0.7777777777777778, \"#fb9f3a\"], [0.8888888888888888, \"#fdca26\"], [1.0, \"#f0f921\"]], \"type\": \"heatmapgl\"}], \"histogram\": [{\"marker\": {\"colorbar\": {\"outlinewidth\": 0, \"ticks\": \"\"}}, \"type\": \"histogram\"}], \"histogram2d\": [{\"colorbar\": {\"outlinewidth\": 0, \"ticks\": \"\"}, \"colorscale\": [[0.0, \"#0d0887\"], [0.1111111111111111, \"#46039f\"], [0.2222222222222222, \"#7201a8\"], [0.3333333333333333, \"#9c179e\"], [0.4444444444444444, \"#bd3786\"], [0.5555555555555556, \"#d8576b\"], [0.6666666666666666, \"#ed7953\"], [0.7777777777777778, \"#fb9f3a\"], [0.8888888888888888, \"#fdca26\"], [1.0, \"#f0f921\"]], \"type\": \"histogram2d\"}], \"histogram2dcontour\": [{\"colorbar\": {\"outlinewidth\": 0, \"ticks\": \"\"}, \"colorscale\": [[0.0, \"#0d0887\"], [0.1111111111111111, \"#46039f\"], [0.2222222222222222, \"#7201a8\"], [0.3333333333333333, \"#9c179e\"], [0.4444444444444444, \"#bd3786\"], [0.5555555555555556, \"#d8576b\"], [0.6666666666666666, \"#ed7953\"], [0.7777777777777778, \"#fb9f3a\"], [0.8888888888888888, \"#fdca26\"], [1.0, \"#f0f921\"]], \"type\": \"histogram2dcontour\"}], \"mesh3d\": [{\"colorbar\": {\"outlinewidth\": 0, \"ticks\": \"\"}, \"type\": \"mesh3d\"}], \"parcoords\": [{\"line\": {\"colorbar\": {\"outlinewidth\": 0, \"ticks\": \"\"}}, \"type\": \"parcoords\"}], \"pie\": [{\"automargin\": true, \"type\": \"pie\"}], \"scatter\": [{\"marker\": {\"colorbar\": {\"outlinewidth\": 0, \"ticks\": \"\"}}, \"type\": \"scatter\"}], \"scatter3d\": [{\"line\": {\"colorbar\": {\"outlinewidth\": 0, \"ticks\": \"\"}}, \"marker\": {\"colorbar\": {\"outlinewidth\": 0, \"ticks\": \"\"}}, \"type\": \"scatter3d\"}], \"scattercarpet\": [{\"marker\": {\"colorbar\": {\"outlinewidth\": 0, \"ticks\": \"\"}}, \"type\": \"scattercarpet\"}], \"scattergeo\": [{\"marker\": {\"colorbar\": {\"outlinewidth\": 0, \"ticks\": \"\"}}, \"type\": \"scattergeo\"}], \"scattergl\": [{\"marker\": {\"colorbar\": {\"outlinewidth\": 0, \"ticks\": \"\"}}, \"type\": \"scattergl\"}], \"scattermapbox\": [{\"marker\": {\"colorbar\": {\"outlinewidth\": 0, \"ticks\": \"\"}}, \"type\": \"scattermapbox\"}], \"scatterpolar\": [{\"marker\": {\"colorbar\": {\"outlinewidth\": 0, \"ticks\": \"\"}}, \"type\": \"scatterpolar\"}], \"scatterpolargl\": [{\"marker\": {\"colorbar\": {\"outlinewidth\": 0, \"ticks\": \"\"}}, \"type\": \"scatterpolargl\"}], \"scatterternary\": [{\"marker\": {\"colorbar\": {\"outlinewidth\": 0, \"ticks\": \"\"}}, \"type\": \"scatterternary\"}], \"surface\": [{\"colorbar\": {\"outlinewidth\": 0, \"ticks\": \"\"}, \"colorscale\": [[0.0, \"#0d0887\"], [0.1111111111111111, \"#46039f\"], [0.2222222222222222, \"#7201a8\"], [0.3333333333333333, \"#9c179e\"], [0.4444444444444444, \"#bd3786\"], [0.5555555555555556, \"#d8576b\"], [0.6666666666666666, \"#ed7953\"], [0.7777777777777778, \"#fb9f3a\"], [0.8888888888888888, \"#fdca26\"], [1.0, \"#f0f921\"]], \"type\": \"surface\"}], \"table\": [{\"cells\": {\"fill\": {\"color\": \"#EBF0F8\"}, \"line\": {\"color\": \"white\"}}, \"header\": {\"fill\": {\"color\": \"#C8D4E3\"}, \"line\": {\"color\": \"white\"}}, \"type\": \"table\"}]}, \"layout\": {\"annotationdefaults\": {\"arrowcolor\": \"#2a3f5f\", \"arrowhead\": 0, \"arrowwidth\": 1}, \"coloraxis\": {\"colorbar\": {\"outlinewidth\": 0, \"ticks\": \"\"}}, \"colorscale\": {\"diverging\": [[0, \"#8e0152\"], [0.1, \"#c51b7d\"], [0.2, \"#de77ae\"], [0.3, \"#f1b6da\"], [0.4, \"#fde0ef\"], [0.5, \"#f7f7f7\"], [0.6, \"#e6f5d0\"], [0.7, \"#b8e186\"], [0.8, \"#7fbc41\"], [0.9, \"#4d9221\"], [1, \"#276419\"]], \"sequential\": [[0.0, \"#0d0887\"], [0.1111111111111111, \"#46039f\"], [0.2222222222222222, \"#7201a8\"], [0.3333333333333333, \"#9c179e\"], [0.4444444444444444, \"#bd3786\"], [0.5555555555555556, \"#d8576b\"], [0.6666666666666666, \"#ed7953\"], [0.7777777777777778, \"#fb9f3a\"], [0.8888888888888888, \"#fdca26\"], [1.0, \"#f0f921\"]], \"sequentialminus\": [[0.0, \"#0d0887\"], [0.1111111111111111, \"#46039f\"], [0.2222222222222222, \"#7201a8\"], [0.3333333333333333, \"#9c179e\"], [0.4444444444444444, \"#bd3786\"], [0.5555555555555556, \"#d8576b\"], [0.6666666666666666, \"#ed7953\"], [0.7777777777777778, \"#fb9f3a\"], [0.8888888888888888, \"#fdca26\"], [1.0, \"#f0f921\"]]}, \"colorway\": [\"#636efa\", \"#EF553B\", \"#00cc96\", \"#ab63fa\", \"#FFA15A\", \"#19d3f3\", \"#FF6692\", \"#B6E880\", \"#FF97FF\", \"#FECB52\"], \"font\": {\"color\": \"#2a3f5f\"}, \"geo\": {\"bgcolor\": \"white\", \"lakecolor\": \"white\", \"landcolor\": \"#E5ECF6\", \"showlakes\": true, \"showland\": true, \"subunitcolor\": \"white\"}, \"hoverlabel\": {\"align\": \"left\"}, \"hovermode\": \"closest\", \"mapbox\": {\"style\": \"light\"}, \"paper_bgcolor\": \"white\", \"plot_bgcolor\": \"#E5ECF6\", \"polar\": {\"angularaxis\": {\"gridcolor\": \"white\", \"linecolor\": \"white\", \"ticks\": \"\"}, \"bgcolor\": \"#E5ECF6\", \"radialaxis\": {\"gridcolor\": \"white\", \"linecolor\": \"white\", \"ticks\": \"\"}}, \"scene\": {\"xaxis\": {\"backgroundcolor\": \"#E5ECF6\", \"gridcolor\": \"white\", \"gridwidth\": 2, \"linecolor\": \"white\", \"showbackground\": true, \"ticks\": \"\", \"zerolinecolor\": \"white\"}, \"yaxis\": {\"backgroundcolor\": \"#E5ECF6\", \"gridcolor\": \"white\", \"gridwidth\": 2, \"linecolor\": \"white\", \"showbackground\": true, \"ticks\": \"\", \"zerolinecolor\": \"white\"}, \"zaxis\": {\"backgroundcolor\": \"#E5ECF6\", \"gridcolor\": \"white\", \"gridwidth\": 2, \"linecolor\": \"white\", \"showbackground\": true, \"ticks\": \"\", \"zerolinecolor\": \"white\"}}, \"shapedefaults\": {\"line\": {\"color\": \"#2a3f5f\"}}, \"ternary\": {\"aaxis\": {\"gridcolor\": \"white\", \"linecolor\": \"white\", \"ticks\": \"\"}, \"baxis\": {\"gridcolor\": \"white\", \"linecolor\": \"white\", \"ticks\": \"\"}, \"bgcolor\": \"#E5ECF6\", \"caxis\": {\"gridcolor\": \"white\", \"linecolor\": \"white\", \"ticks\": \"\"}}, \"title\": {\"x\": 0.05}, \"xaxis\": {\"automargin\": true, \"gridcolor\": \"white\", \"linecolor\": \"white\", \"ticks\": \"\", \"title\": {\"standoff\": 15}, \"zerolinecolor\": \"white\", \"zerolinewidth\": 2}, \"yaxis\": {\"automargin\": true, \"gridcolor\": \"white\", \"linecolor\": \"white\", \"ticks\": \"\", \"title\": {\"standoff\": 15}, \"zerolinecolor\": \"white\", \"zerolinewidth\": 2}}}},\n",
       "                        {\"responsive\": true}\n",
       "                    ).then(function(){\n",
       "                            \n",
       "var gd = document.getElementById('e2a82b62-d169-4206-bc50-cc047201a640');\n",
       "var x = new MutationObserver(function (mutations, observer) {{\n",
       "        var display = window.getComputedStyle(gd).display;\n",
       "        if (!display || display === 'none') {{\n",
       "            console.log([gd, 'removed!']);\n",
       "            Plotly.purge(gd);\n",
       "            observer.disconnect();\n",
       "        }}\n",
       "}});\n",
       "\n",
       "// Listen for the removal of the full notebook cells\n",
       "var notebookContainer = gd.closest('#notebook-container');\n",
       "if (notebookContainer) {{\n",
       "    x.observe(notebookContainer, {childList: true});\n",
       "}}\n",
       "\n",
       "// Listen for the clearing of the current output cell\n",
       "var outputEl = gd.closest('.output');\n",
       "if (outputEl) {{\n",
       "    x.observe(outputEl, {childList: true});\n",
       "}}\n",
       "\n",
       "                        })\n",
       "                };\n",
       "                });\n",
       "            </script>\n",
       "        </div>"
      ]
     },
     "metadata": {},
     "output_type": "display_data"
    }
   ],
   "source": [
    "reload(ol)\n",
    "    \n",
    "# Warsow, movement of planets in 2 hours on the sky\n",
    "tr = pd.date_range('2004-04-04 23:00','2004-04-05 1:00', freq='10T')\n",
    "ol.show_sky_view(system, 52.23196, 21.00672, tr)"
   ]
  },
  {
   "cell_type": "markdown",
   "metadata": {},
   "source": [
    "We see how planets travel from East to West on the sky during the night finally diving under the horizon. For observers on low latitudes, planets can be observed near Zenith."
   ]
  },
  {
   "cell_type": "code",
   "execution_count": null,
   "metadata": {},
   "outputs": [],
   "source": []
  },
  {
   "cell_type": "code",
   "execution_count": null,
   "metadata": {},
   "outputs": [],
   "source": []
  },
  {
   "cell_type": "code",
   "execution_count": null,
   "metadata": {},
   "outputs": [],
   "source": []
  },
  {
   "cell_type": "code",
   "execution_count": null,
   "metadata": {},
   "outputs": [],
   "source": []
  }
 ],
 "metadata": {
  "colab": {
   "collapsed_sections": [],
   "name": "Oliver.ipynb",
   "provenance": []
  },
  "kernelspec": {
   "display_name": "Python 3",
   "language": "python",
   "name": "python3"
  },
  "language_info": {
   "codemirror_mode": {
    "name": "ipython",
    "version": 3
   },
   "file_extension": ".py",
   "mimetype": "text/x-python",
   "name": "python",
   "nbconvert_exporter": "python",
   "pygments_lexer": "ipython3",
   "version": "3.7.3"
  },
  "toc": {
   "base_numbering": 1,
   "nav_menu": {},
   "number_sections": true,
   "sideBar": true,
   "skip_h1_title": false,
   "title_cell": "Table of Contents",
   "title_sidebar": "Contents",
   "toc_cell": false,
   "toc_position": {},
   "toc_section_display": true,
   "toc_window_display": false
  }
 },
 "nbformat": 4,
 "nbformat_minor": 1
}
